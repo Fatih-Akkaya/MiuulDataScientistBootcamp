{
  "metadata": {
    "kernelspec": {
      "language": "python",
      "display_name": "Python 3",
      "name": "python3"
    },
    "language_info": {
      "name": "python",
      "version": "3.10.12",
      "mimetype": "text/x-python",
      "codemirror_mode": {
        "name": "ipython",
        "version": 3
      },
      "pygments_lexer": "ipython3",
      "nbconvert_exporter": "python",
      "file_extension": ".py"
    },
    "kaggle": {
      "accelerator": "none",
      "dataSources": [
        {
          "sourceId": 317184,
          "sourceType": "datasetVersion",
          "datasetId": 133357
        }
      ],
      "dockerImageVersionId": 30587,
      "isInternetEnabled": true,
      "language": "python",
      "sourceType": "notebook",
      "isGpuEnabled": false
    }
  },
  "nbformat_minor": 4,
  "nbformat": 4,
  "cells": [
    {
      "cell_type": "markdown",
      "source": "# Sales Prediction with Linear Regression",
      "metadata": {}
    },
    {
      "cell_type": "code",
      "source": "import numpy as np\nimport pandas as pd\nimport matplotlib.pyplot as plt\nimport seaborn as sns\n\npd.set_option('display.float_format', lambda x: '%.2f' % x)\n\nfrom sklearn.linear_model import LinearRegression\nfrom sklearn.metrics import mean_squared_error, mean_absolute_error\nfrom sklearn.model_selection import train_test_split, cross_val_score\n\nimport warnings\nwarnings.filterwarnings(\"ignore\")",
      "metadata": {
        "_uuid": "8f2839f25d086af736a60e9eeb907d3b93b6e0e5",
        "_cell_guid": "b1076dfc-b9ad-4769-8c92-a6c4dae69d19",
        "trusted": true
      },
      "execution_count": 34,
      "outputs": []
    },
    {
      "cell_type": "markdown",
      "source": "# Simple Linear Regression with OLS Using Scikit-Learn",
      "metadata": {}
    },
    {
      "cell_type": "code",
      "source": "df = pd.read_csv(\"/kaggle/input/advertising-dataset/advertising.csv\")\ndf.shape\n\nX = df[[\"TV\"]]\ny = df[[\"Sales\"]]",
      "metadata": {
        "trusted": true
      },
      "execution_count": 4,
      "outputs": [
        {
          "execution_count": 4,
          "output_type": "execute_result",
          "data": {
            "text/plain": "(200, 4)"
          },
          "metadata": {}
        }
      ]
    },
    {
      "cell_type": "markdown",
      "source": "**Model**",
      "metadata": {}
    },
    {
      "cell_type": "code",
      "source": "reg_model = LinearRegression().fit(X, y)\n\n# y_hat = b + w*TV\n\n# sabit (b - bias)\nprint(reg_model.intercept_[0])\n\n# tv'nin katsayısı (w1)\nprint(reg_model.coef_[0][0])",
      "metadata": {
        "execution": {
          "iopub.status.busy": "2023-11-20T08:43:49.441662Z",
          "iopub.execute_input": "2023-11-20T08:43:49.442136Z",
          "iopub.status.idle": "2023-11-20T08:43:49.464620Z",
          "shell.execute_reply.started": "2023-11-20T08:43:49.442100Z",
          "shell.execute_reply": "2023-11-20T08:43:49.463439Z"
        },
        "trusted": true
      },
      "execution_count": 5,
      "outputs": [
        {
          "name": "stdout",
          "text": "6.974821488229891\n0.055464770469558874\n",
          "output_type": "stream"
        }
      ]
    },
    {
      "cell_type": "markdown",
      "source": "**Tahmin**",
      "metadata": {}
    },
    {
      "cell_type": "code",
      "source": "# 150 birimlik TV harcaması olsa ne kadar satış olması beklenir?\n\nprint(reg_model.intercept_[0] + reg_model.coef_[0][0]*150)\n\n# 500 birimlik tv harcaması olsa ne kadar satış olur?\n\nprint(reg_model.intercept_[0] + reg_model.coef_[0][0]*500)\n\ndf.describe().T",
      "metadata": {
        "execution": {
          "iopub.status.busy": "2023-11-20T08:44:18.152170Z",
          "iopub.execute_input": "2023-11-20T08:44:18.152604Z",
          "iopub.status.idle": "2023-11-20T08:44:18.185017Z",
          "shell.execute_reply.started": "2023-11-20T08:44:18.152572Z",
          "shell.execute_reply": "2023-11-20T08:44:18.184016Z"
        },
        "trusted": true
      },
      "execution_count": 6,
      "outputs": [
        {
          "name": "stdout",
          "text": "15.294537058663721\n34.70720672300933\n",
          "output_type": "stream"
        },
        {
          "execution_count": 6,
          "output_type": "execute_result",
          "data": {
            "text/plain": "           count   mean   std  min   25%    50%    75%    max\nTV        200.00 147.04 85.85 0.70 74.38 149.75 218.82 296.40\nRadio     200.00  23.26 14.85 0.00  9.97  22.90  36.52  49.60\nNewspaper 200.00  30.55 21.78 0.30 12.75  25.75  45.10 114.00\nSales     200.00  15.13  5.28 1.60 11.00  16.00  19.05  27.00",
            "text/html": "<div>\n<style scoped>\n    .dataframe tbody tr th:only-of-type {\n        vertical-align: middle;\n    }\n\n    .dataframe tbody tr th {\n        vertical-align: top;\n    }\n\n    .dataframe thead th {\n        text-align: right;\n    }\n</style>\n<table border=\"1\" class=\"dataframe\">\n  <thead>\n    <tr style=\"text-align: right;\">\n      <th></th>\n      <th>count</th>\n      <th>mean</th>\n      <th>std</th>\n      <th>min</th>\n      <th>25%</th>\n      <th>50%</th>\n      <th>75%</th>\n      <th>max</th>\n    </tr>\n  </thead>\n  <tbody>\n    <tr>\n      <th>TV</th>\n      <td>200.00</td>\n      <td>147.04</td>\n      <td>85.85</td>\n      <td>0.70</td>\n      <td>74.38</td>\n      <td>149.75</td>\n      <td>218.82</td>\n      <td>296.40</td>\n    </tr>\n    <tr>\n      <th>Radio</th>\n      <td>200.00</td>\n      <td>23.26</td>\n      <td>14.85</td>\n      <td>0.00</td>\n      <td>9.97</td>\n      <td>22.90</td>\n      <td>36.52</td>\n      <td>49.60</td>\n    </tr>\n    <tr>\n      <th>Newspaper</th>\n      <td>200.00</td>\n      <td>30.55</td>\n      <td>21.78</td>\n      <td>0.30</td>\n      <td>12.75</td>\n      <td>25.75</td>\n      <td>45.10</td>\n      <td>114.00</td>\n    </tr>\n    <tr>\n      <th>Sales</th>\n      <td>200.00</td>\n      <td>15.13</td>\n      <td>5.28</td>\n      <td>1.60</td>\n      <td>11.00</td>\n      <td>16.00</td>\n      <td>19.05</td>\n      <td>27.00</td>\n    </tr>\n  </tbody>\n</table>\n</div>"
          },
          "metadata": {}
        }
      ]
    },
    {
      "cell_type": "markdown",
      "source": "**Modelin Görselleştirilmesi**",
      "metadata": {}
    },
    {
      "cell_type": "code",
      "source": "g = sns.regplot(x=X, y=y, scatter_kws={'color': 'b', 's': 9},\n                ci=False, color=\"r\")\n\ng.set_title(f\"Model Denklemi: Sales = {round(reg_model.intercept_[0], 2)} + TV*{round(reg_model.coef_[0][0], 2)}\")\ng.set_ylabel(\"Satış Sayısı\")\ng.set_xlabel(\"TV Harcamaları\")\nplt.xlim(-10, 310)\nplt.ylim(bottom=0)\nplt.show()",
      "metadata": {
        "execution": {
          "iopub.status.busy": "2023-11-20T08:44:28.774862Z",
          "iopub.execute_input": "2023-11-20T08:44:28.775248Z",
          "iopub.status.idle": "2023-11-20T08:44:29.273550Z",
          "shell.execute_reply.started": "2023-11-20T08:44:28.775218Z",
          "shell.execute_reply": "2023-11-20T08:44:29.272433Z"
        },
        "trusted": true
      },
      "execution_count": 7,
      "outputs": [
        {
          "output_type": "display_data",
          "data": {
            "text/plain": "<Figure size 640x480 with 1 Axes>",
            "image/png": "[encoded data removed]"
          },
          "metadata": {}
        }
      ]
    },
    {
      "cell_type": "markdown",
      "source": "**Tahmin Başarısı**",
      "metadata": {}
    },
    {
      "cell_type": "code",
      "source": "# MSE\ny_pred = reg_model.predict(X)\nprint(f'MSE: {mean_squared_error(y, y_pred)}')\n# 10.51\nprint(f'Ortalama: {y[\"Sales\"].mean()}')\nprint(f'Std.Sapma: {y[\"Sales\"].std()}')\n\n# RMSE\nprint(f'RMSE: {np.sqrt(mean_squared_error(y, y_pred))}')\n# 3.24\n\n# MAE\nprint(f'MAE: {mean_absolute_error(y, y_pred)}')\n# 2.54\n\n# R-KARE\nprint(f'R^2: {reg_model.score(X, y)}')",
      "metadata": {
        "execution": {
          "iopub.status.busy": "2023-11-20T08:55:33.335783Z",
          "iopub.execute_input": "2023-11-20T08:55:33.336220Z",
          "iopub.status.idle": "2023-11-20T08:55:33.355822Z",
          "shell.execute_reply.started": "2023-11-20T08:55:33.336185Z",
          "shell.execute_reply": "2023-11-20T08:55:33.354483Z"
        },
        "trusted": true
      },
      "execution_count": 28,
      "outputs": [
        {
          "name": "stdout",
          "text": "MSE: 5.2177438977951285\nOrtalama: 15.130500000000001\nStd.Sapma: 5.283892252561876\nRMSE: 2.2842381438447106\nMAE: 1.8305872641932412\nR^2: 0.8121757029987414\n",
          "output_type": "stream"
        }
      ]
    },
    {
      "cell_type": "markdown",
      "source": "# Sales Prediction with Multiple Linear Regression",
      "metadata": {}
    },
    {
      "cell_type": "code",
      "source": "df = pd.read_csv(\"/kaggle/input/advertising-dataset/advertising.csv\")\n\nX = df.drop('Sales', axis=1)\ny = df[[\"Sales\"]]",
      "metadata": {
        "execution": {
          "iopub.status.busy": "2023-11-20T08:56:03.983727Z",
          "iopub.execute_input": "2023-11-20T08:56:03.984387Z",
          "iopub.status.idle": "2023-11-20T08:56:03.998573Z",
          "shell.execute_reply.started": "2023-11-20T08:56:03.984333Z",
          "shell.execute_reply": "2023-11-20T08:56:03.997059Z"
        },
        "trusted": true
      },
      "execution_count": 30,
      "outputs": []
    },
    {
      "cell_type": "markdown",
      "source": "**Model**",
      "metadata": {}
    },
    {
      "cell_type": "code",
      "source": "X_train, X_test, y_train, y_test = train_test_split(X, y, test_size=0.20, random_state=1)\n\nprint(f'y_test: {y_test.shape}')\nprint(f'y_train: {y_train.shape}')\n\nreg_model = LinearRegression().fit(X_train, y_train)\n\n# sabit (b - bias)\nprint(reg_model.intercept_)\n\n# coefficients (w - weights)\nprint(reg_model.coef_)",
      "metadata": {
        "execution": {
          "iopub.status.busy": "2023-11-20T08:57:11.539989Z",
          "iopub.execute_input": "2023-11-20T08:57:11.540485Z",
          "iopub.status.idle": "2023-11-20T08:57:11.566328Z",
          "shell.execute_reply.started": "2023-11-20T08:57:11.540450Z",
          "shell.execute_reply": "2023-11-20T08:57:11.564949Z"
        },
        "trusted": true
      },
      "execution_count": 31,
      "outputs": [
        {
          "name": "stdout",
          "text": "y_test: (40, 1)\ny_train: (160, 1)\n[4.63762444]\n[[ 0.05507865  0.10308563 -0.00090115]]\n",
          "output_type": "stream"
        }
      ]
    },
    {
      "cell_type": "markdown",
      "source": "**Tahmin**",
      "metadata": {}
    },
    {
      "cell_type": "code",
      "source": "# Aşağıdaki gözlem değerlerine göre satışın beklenen değeri nedir?\n\n# TV: 30\n# radio: 10\n# newspaper: 40\n\n# 4.63762444\n# 0.05507865 , 0.10308563, -0.00090115\n\n# Sales = 2.90  + TV * 0.04 + radio * 0.17 + newspaper * 0.002\n\n4.63762444 + 30 * 0.05507865 + 10 * 0.10308563 + 40 * -0.00090115\n\nyeni_veri = [[30], [10], [40]]\nyeni_veri = pd.DataFrame(yeni_veri).T\n\nreg_model.predict(yeni_veri)",
      "metadata": {
        "execution": {
          "iopub.status.busy": "2023-11-20T09:10:13.330928Z",
          "iopub.execute_input": "2023-11-20T09:10:13.331370Z",
          "iopub.status.idle": "2023-11-20T09:10:13.343651Z",
          "shell.execute_reply.started": "2023-11-20T09:10:13.331334Z",
          "shell.execute_reply": "2023-11-20T09:10:13.342086Z"
        },
        "trusted": true
      },
      "execution_count": 35,
      "outputs": [
        {
          "execution_count": 35,
          "output_type": "execute_result",
          "data": {
            "text/plain": "array([[7.28479435]])"
          },
          "metadata": {}
        }
      ]
    },
    {
      "cell_type": "markdown",
      "source": "**Tahmin Başarısını Değerlendirme**",
      "metadata": {}
    },
    {
      "cell_type": "code",
      "source": "# Train RMSE\ny_pred = reg_model.predict(X_train)\nprint(f'Train RMSE: {np.sqrt(mean_squared_error(y_train, y_pred))}')\n# 1.73\n\n# TRAIN RKARE\nprint(f'Train R^2: {reg_model.score(X_train, y_train)}')\n\n# Test RMSE\ny_pred = reg_model.predict(X_test)\nprint(f'Test RMSE: {np.sqrt(mean_squared_error(y_test, y_pred))}')\n# 1.41\n\n# Test RKARE\nprint(f'Test R^2: {reg_model.score(X_test, y_test)}')\n\n\n# 10 Katlı CV RMSE\ncvRmse = np.mean(np.sqrt(-cross_val_score(reg_model,\n                                 X,\n                                 y,\n                                 cv=10,\n                                 scoring=\"neg_mean_squared_error\")))\nprint(f'10 layered CV RMSE: {cvRmse}')\n\n# 1.69\n\n\n# 5 Katlı CV RMSE\ncvRmse = np.mean(np.sqrt(-cross_val_score(reg_model,\n                                 X,\n                                 y,\n                                 cv=5,\n                                 scoring=\"neg_mean_squared_error\")))\nprint(f'5 layered CV RMSE: {cvRmse}')\n# 1.71\n",
      "metadata": {
        "execution": {
          "iopub.status.busy": "2023-11-20T09:16:03.533884Z",
          "iopub.execute_input": "2023-11-20T09:16:03.534394Z",
          "iopub.status.idle": "2023-11-20T09:16:03.668396Z",
          "shell.execute_reply.started": "2023-11-20T09:16:03.534358Z",
          "shell.execute_reply": "2023-11-20T09:16:03.667117Z"
        },
        "trusted": true
      },
      "execution_count": 39,
      "outputs": [
        {
          "name": "stdout",
          "text": "Train RMSE: 1.6704413245680072\nTrain R^2: 0.905486333977187\nTest RMSE: 1.552202825951676\nTest R^2: 0.8747226291661847\n10 layered CV RMSE: 1.658502109162588\n5 layered CV RMSE: 1.6657702460059216\n",
          "output_type": "stream"
        }
      ]
    },
    {
      "cell_type": "markdown",
      "source": "# Simple Linear Regression with Gradient Descent from Scratch",
      "metadata": {}
    },
    {
      "cell_type": "code",
      "source": "# Cost function MSE\ndef cost_function(Y, b, w, X):\n    m = len(Y)\n    sse = 0\n\n    for i in range(0, m):\n        y_hat = b + w * X[i]\n        y = Y[i]\n        sse += (y_hat - y) ** 2\n\n    mse = sse / m\n    return mse\n",
      "metadata": {
        "execution": {
          "iopub.status.busy": "2023-11-20T09:17:32.043671Z",
          "iopub.execute_input": "2023-11-20T09:17:32.044100Z",
          "iopub.status.idle": "2023-11-20T09:17:32.050672Z",
          "shell.execute_reply.started": "2023-11-20T09:17:32.044068Z",
          "shell.execute_reply": "2023-11-20T09:17:32.049488Z"
        },
        "trusted": true
      },
      "execution_count": 40,
      "outputs": []
    },
    {
      "cell_type": "code",
      "source": "# update_weights\ndef update_weights(Y, b, w, X, learning_rate):\n    m = len(Y)\n    b_deriv_sum = 0\n    w_deriv_sum = 0\n    for i in range(0, m):\n        y_hat = b + w * X[i]\n        y = Y[i]\n        b_deriv_sum += (y_hat - y)\n        w_deriv_sum += (y_hat - y) * X[i]\n    new_b = b - (learning_rate * 1 / m * b_deriv_sum)\n    new_w = w - (learning_rate * 1 / m * w_deriv_sum)\n    return new_b, new_w\n",
      "metadata": {
        "execution": {
          "iopub.status.busy": "2023-11-20T09:17:34.355754Z",
          "iopub.execute_input": "2023-11-20T09:17:34.356218Z",
          "iopub.status.idle": "2023-11-20T09:17:34.363949Z",
          "shell.execute_reply.started": "2023-11-20T09:17:34.356184Z",
          "shell.execute_reply": "2023-11-20T09:17:34.362865Z"
        },
        "trusted": true
      },
      "execution_count": 41,
      "outputs": []
    },
    {
      "cell_type": "code",
      "source": "# train fonksiyonu\ndef train(Y, initial_b, initial_w, X, learning_rate, num_iters):\n\n    print(\"Starting gradient descent at b = {0}, w = {1}, mse = {2}\".format(initial_b, initial_w,\n                                                                   cost_function(Y, initial_b, initial_w, X)))\n\n    b = initial_b\n    w = initial_w\n    cost_history = []\n\n    for i in range(num_iters):\n        b, w = update_weights(Y, b, w, X, learning_rate)\n        mse = cost_function(Y, b, w, X)\n        cost_history.append(mse)\n\n\n        if i % 100 == 0:\n            print(\"iter={:d}    b={:.2f}    w={:.4f}    mse={:.4}\".format(i, b, w, mse))\n\n\n    print(\"After {0} iterations b = {1}, w = {2}, mse = {3}\".format(num_iters, b, w, cost_function(Y, b, w, X)))\n    return cost_history, b, w\n",
      "metadata": {
        "execution": {
          "iopub.status.busy": "2023-11-20T09:17:37.164700Z",
          "iopub.execute_input": "2023-11-20T09:17:37.165437Z",
          "iopub.status.idle": "2023-11-20T09:17:37.172813Z",
          "shell.execute_reply.started": "2023-11-20T09:17:37.165388Z",
          "shell.execute_reply": "2023-11-20T09:17:37.171843Z"
        },
        "trusted": true
      },
      "execution_count": 42,
      "outputs": []
    },
    {
      "cell_type": "code",
      "source": "df = pd.read_csv(\"/kaggle/input/advertising-dataset/advertising.csv\")\n\nX = df[\"Radio\"]\nY = df[\"Sales\"]",
      "metadata": {
        "execution": {
          "iopub.status.busy": "2023-11-20T09:17:49.062531Z",
          "iopub.execute_input": "2023-11-20T09:17:49.063091Z",
          "iopub.status.idle": "2023-11-20T09:17:49.073180Z",
          "shell.execute_reply.started": "2023-11-20T09:17:49.063041Z",
          "shell.execute_reply": "2023-11-20T09:17:49.071684Z"
        },
        "trusted": true
      },
      "execution_count": 44,
      "outputs": []
    },
    {
      "cell_type": "code",
      "source": "# hyperparameters\nlearning_rate = 0.001\ninitial_b = 0.001\ninitial_w = 0.001\nnum_iters = 30000",
      "metadata": {
        "execution": {
          "iopub.status.busy": "2023-11-20T09:18:07.291625Z",
          "iopub.execute_input": "2023-11-20T09:18:07.292020Z",
          "iopub.status.idle": "2023-11-20T09:18:07.297490Z",
          "shell.execute_reply.started": "2023-11-20T09:18:07.291990Z",
          "shell.execute_reply": "2023-11-20T09:18:07.296287Z"
        },
        "trusted": true
      },
      "execution_count": 46,
      "outputs": []
    },
    {
      "cell_type": "code",
      "source": "cost_history, b, w = train(Y, initial_b, initial_w, X, learning_rate, num_iters)",
      "metadata": {
        "execution": {
          "iopub.status.busy": "2023-11-20T09:18:10.254459Z",
          "iopub.execute_input": "2023-11-20T09:18:10.254859Z",
          "iopub.status.idle": "2023-11-20T09:20:49.517714Z",
          "shell.execute_reply.started": "2023-11-20T09:18:10.254828Z",
          "shell.execute_reply": "2023-11-20T09:20:49.516413Z"
        },
        "trusted": true
      },
      "execution_count": 47,
      "outputs": [
        {
          "name": "stdout",
          "text": "Starting gradient descent at b = 0.001, w = 0.001, mse = 255.92392306730005\niter=0    b=0.02    w=0.3795    mse=78.16\niter=100    b=0.37    w=0.4876    mse=65.01\niter=200    b=0.70    w=0.4773    mse=62.73\niter=300    b=1.03    w=0.4673    mse=60.59\niter=400    b=1.35    w=0.4575    mse=58.56\niter=500    b=1.66    w=0.4481    mse=56.65\niter=600    b=1.96    w=0.4389    mse=54.84\niter=700    b=2.25    w=0.4300    mse=53.13\niter=800    b=2.53    w=0.4213    mse=51.52\niter=900    b=2.81    w=0.4129    mse=50.0\niter=1000    b=3.08    w=0.4047    mse=48.57\niter=1100    b=3.34    w=0.3967    mse=47.21\niter=1200    b=3.59    w=0.3890    mse=45.94\niter=1300    b=3.84    w=0.3815    mse=44.73\niter=1400    b=4.08    w=0.3742    mse=43.59\niter=1500    b=4.31    w=0.3671    mse=42.51\niter=1600    b=4.53    w=0.3602    mse=41.5\niter=1700    b=4.75    w=0.3535    mse=40.54\niter=1800    b=4.96    w=0.3470    mse=39.64\niter=1900    b=5.17    w=0.3406    mse=38.78\niter=2000    b=5.37    w=0.3345    mse=37.98\niter=2100    b=5.57    w=0.3285    mse=37.21\niter=2200    b=5.76    w=0.3227    mse=36.5\niter=2300    b=5.94    w=0.3171    mse=35.82\niter=2400    b=6.12    w=0.3116    mse=35.18\niter=2500    b=6.29    w=0.3063    mse=34.57\niter=2600    b=6.46    w=0.3012    mse=34.0\niter=2700    b=6.62    w=0.2961    mse=33.46\niter=2800    b=6.78    w=0.2913    mse=32.95\niter=2900    b=6.94    w=0.2865    mse=32.47\niter=3000    b=7.09    w=0.2819    mse=32.02\niter=3100    b=7.24    w=0.2774    mse=31.59\niter=3200    b=7.38    w=0.2731    mse=31.19\niter=3300    b=7.52    w=0.2689    mse=30.81\niter=3400    b=7.65    w=0.2648    mse=30.45\niter=3500    b=7.78    w=0.2608    mse=30.11\niter=3600    b=7.91    w=0.2569    mse=29.79\niter=3700    b=8.03    w=0.2531    mse=29.49\niter=3800    b=8.15    w=0.2495    mse=29.2\niter=3900    b=8.27    w=0.2459    mse=28.93\niter=4000    b=8.38    w=0.2425    mse=28.68\niter=4100    b=8.49    w=0.2391    mse=28.44\niter=4200    b=8.59    w=0.2359    mse=28.21\niter=4300    b=8.70    w=0.2327    mse=27.99\niter=4400    b=8.80    w=0.2296    mse=27.79\niter=4500    b=8.90    w=0.2266    mse=27.6\niter=4600    b=8.99    w=0.2237    mse=27.42\niter=4700    b=9.08    w=0.2209    mse=27.25\niter=4800    b=9.17    w=0.2182    mse=27.09\niter=4900    b=9.26    w=0.2155    mse=26.94\niter=5000    b=9.34    w=0.2129    mse=26.8\niter=5100    b=9.43    w=0.2104    mse=26.66\niter=5200    b=9.51    w=0.2080    mse=26.53\niter=5300    b=9.58    w=0.2056    mse=26.41\niter=5400    b=9.66    w=0.2033    mse=26.3\niter=5500    b=9.73    w=0.2011    mse=26.19\niter=5600    b=9.80    w=0.1989    mse=26.09\niter=5700    b=9.87    w=0.1968    mse=26.0\niter=5800    b=9.94    w=0.1947    mse=25.91\niter=5900    b=10.00    w=0.1927    mse=25.82\niter=6000    b=10.07    w=0.1908    mse=25.74\niter=6100    b=10.13    w=0.1889    mse=25.66\niter=6200    b=10.19    w=0.1871    mse=25.59\niter=6300    b=10.25    w=0.1853    mse=25.52\niter=6400    b=10.30    w=0.1836    mse=25.46\niter=6500    b=10.36    w=0.1819    mse=25.4\niter=6600    b=10.41    w=0.1802    mse=25.34\niter=6700    b=10.46    w=0.1787    mse=25.29\niter=6800    b=10.51    w=0.1771    mse=25.24\niter=6900    b=10.56    w=0.1756    mse=25.19\niter=7000    b=10.61    w=0.1742    mse=25.15\niter=7100    b=10.66    w=0.1728    mse=25.1\niter=7200    b=10.70    w=0.1714    mse=25.06\niter=7300    b=10.75    w=0.1700    mse=25.02\niter=7400    b=10.79    w=0.1688    mse=24.99\niter=7500    b=10.83    w=0.1675    mse=24.96\niter=7600    b=10.87    w=0.1663    mse=24.92\niter=7700    b=10.91    w=0.1651    mse=24.89\niter=7800    b=10.95    w=0.1639    mse=24.86\niter=7900    b=10.98    w=0.1628    mse=24.84\niter=8000    b=11.02    w=0.1617    mse=24.81\niter=8100    b=11.05    w=0.1607    mse=24.79\niter=8200    b=11.09    w=0.1596    mse=24.77\niter=8300    b=11.12    w=0.1586    mse=24.74\niter=8400    b=11.15    w=0.1577    mse=24.72\niter=8500    b=11.18    w=0.1567    mse=24.7\niter=8600    b=11.21    w=0.1558    mse=24.69\niter=8700    b=11.24    w=0.1549    mse=24.67\niter=8800    b=11.27    w=0.1540    mse=24.65\niter=8900    b=11.30    w=0.1532    mse=24.64\niter=9000    b=11.32    w=0.1524    mse=24.62\niter=9100    b=11.35    w=0.1516    mse=24.61\niter=9200    b=11.37    w=0.1508    mse=24.6\niter=9300    b=11.40    w=0.1501    mse=24.59\niter=9400    b=11.42    w=0.1493    mse=24.58\niter=9500    b=11.44    w=0.1486    mse=24.56\niter=9600    b=11.47    w=0.1479    mse=24.55\niter=9700    b=11.49    w=0.1473    mse=24.54\niter=9800    b=11.51    w=0.1466    mse=24.54\niter=9900    b=11.53    w=0.1460    mse=24.53\niter=10000    b=11.55    w=0.1454    mse=24.52\niter=10100    b=11.57    w=0.1448    mse=24.51\niter=10200    b=11.59    w=0.1442    mse=24.5\niter=10300    b=11.61    w=0.1436    mse=24.5\niter=10400    b=11.63    w=0.1431    mse=24.49\niter=10500    b=11.64    w=0.1426    mse=24.49\niter=10600    b=11.66    w=0.1421    mse=24.48\niter=10700    b=11.68    w=0.1416    mse=24.47\niter=10800    b=11.69    w=0.1411    mse=24.47\niter=10900    b=11.71    w=0.1406    mse=24.46\niter=11000    b=11.72    w=0.1401    mse=24.46\niter=11100    b=11.74    w=0.1397    mse=24.46\niter=11200    b=11.75    w=0.1393    mse=24.45\niter=11300    b=11.76    w=0.1388    mse=24.45\niter=11400    b=11.78    w=0.1384    mse=24.44\niter=11500    b=11.79    w=0.1380    mse=24.44\niter=11600    b=11.80    w=0.1376    mse=24.44\niter=11700    b=11.82    w=0.1373    mse=24.43\niter=11800    b=11.83    w=0.1369    mse=24.43\niter=11900    b=11.84    w=0.1366    mse=24.43\niter=12000    b=11.85    w=0.1362    mse=24.43\niter=12100    b=11.86    w=0.1359    mse=24.42\niter=12200    b=11.87    w=0.1355    mse=24.42\niter=12300    b=11.88    w=0.1352    mse=24.42\niter=12400    b=11.89    w=0.1349    mse=24.42\niter=12500    b=11.90    w=0.1346    mse=24.42\niter=12600    b=11.91    w=0.1343    mse=24.41\niter=12700    b=11.92    w=0.1341    mse=24.41\niter=12800    b=11.93    w=0.1338    mse=24.41\niter=12900    b=11.94    w=0.1335    mse=24.41\niter=13000    b=11.95    w=0.1333    mse=24.41\niter=13100    b=11.96    w=0.1330    mse=24.41\niter=13200    b=11.96    w=0.1328    mse=24.41\niter=13300    b=11.97    w=0.1325    mse=24.4\niter=13400    b=11.98    w=0.1323    mse=24.4\niter=13500    b=11.99    w=0.1321    mse=24.4\niter=13600    b=11.99    w=0.1319    mse=24.4\niter=13700    b=12.00    w=0.1316    mse=24.4\niter=13800    b=12.01    w=0.1314    mse=24.4\niter=13900    b=12.01    w=0.1312    mse=24.4\niter=14000    b=12.02    w=0.1310    mse=24.4\niter=14100    b=12.03    w=0.1309    mse=24.4\niter=14200    b=12.03    w=0.1307    mse=24.4\niter=14300    b=12.04    w=0.1305    mse=24.4\niter=14400    b=12.04    w=0.1303    mse=24.39\niter=14500    b=12.05    w=0.1302    mse=24.39\niter=14600    b=12.05    w=0.1300    mse=24.39\niter=14700    b=12.06    w=0.1298    mse=24.39\niter=14800    b=12.06    w=0.1297    mse=24.39\niter=14900    b=12.07    w=0.1295    mse=24.39\niter=15000    b=12.07    w=0.1294    mse=24.39\niter=15100    b=12.08    w=0.1293    mse=24.39\niter=15200    b=12.08    w=0.1291    mse=24.39\niter=15300    b=12.09    w=0.1290    mse=24.39\niter=15400    b=12.09    w=0.1289    mse=24.39\niter=15500    b=12.10    w=0.1287    mse=24.39\niter=15600    b=12.10    w=0.1286    mse=24.39\niter=15700    b=12.10    w=0.1285    mse=24.39\niter=15800    b=12.11    w=0.1284    mse=24.39\niter=15900    b=12.11    w=0.1283    mse=24.39\niter=16000    b=12.11    w=0.1282    mse=24.39\niter=16100    b=12.12    w=0.1280    mse=24.39\niter=16200    b=12.12    w=0.1279    mse=24.39\niter=16300    b=12.12    w=0.1278    mse=24.39\niter=16400    b=12.13    w=0.1277    mse=24.39\niter=16500    b=12.13    w=0.1277    mse=24.39\niter=16600    b=12.13    w=0.1276    mse=24.39\niter=16700    b=12.14    w=0.1275    mse=24.39\niter=16800    b=12.14    w=0.1274    mse=24.39\niter=16900    b=12.14    w=0.1273    mse=24.39\niter=17000    b=12.14    w=0.1272    mse=24.39\niter=17100    b=12.15    w=0.1271    mse=24.39\niter=17200    b=12.15    w=0.1271    mse=24.39\niter=17300    b=12.15    w=0.1270    mse=24.39\niter=17400    b=12.15    w=0.1269    mse=24.39\niter=17500    b=12.16    w=0.1268    mse=24.39\niter=17600    b=12.16    w=0.1268    mse=24.39\niter=17700    b=12.16    w=0.1267    mse=24.39\niter=17800    b=12.16    w=0.1266    mse=24.39\niter=17900    b=12.17    w=0.1266    mse=24.39\niter=18000    b=12.17    w=0.1265    mse=24.39\niter=18100    b=12.17    w=0.1265    mse=24.39\niter=18200    b=12.17    w=0.1264    mse=24.39\niter=18300    b=12.17    w=0.1263    mse=24.39\niter=18400    b=12.17    w=0.1263    mse=24.39\niter=18500    b=12.18    w=0.1262    mse=24.39\niter=18600    b=12.18    w=0.1262    mse=24.39\niter=18700    b=12.18    w=0.1261    mse=24.38\niter=18800    b=12.18    w=0.1261    mse=24.38\niter=18900    b=12.18    w=0.1260    mse=24.38\niter=19000    b=12.18    w=0.1260    mse=24.38\niter=19100    b=12.19    w=0.1260    mse=24.38\niter=19200    b=12.19    w=0.1259    mse=24.38\niter=19300    b=12.19    w=0.1259    mse=24.38\niter=19400    b=12.19    w=0.1258    mse=24.38\niter=19500    b=12.19    w=0.1258    mse=24.38\niter=19600    b=12.19    w=0.1257    mse=24.38\niter=19700    b=12.19    w=0.1257    mse=24.38\niter=19800    b=12.20    w=0.1257    mse=24.38\niter=19900    b=12.20    w=0.1256    mse=24.38\niter=20000    b=12.20    w=0.1256    mse=24.38\niter=20100    b=12.20    w=0.1256    mse=24.38\niter=20200    b=12.20    w=0.1255    mse=24.38\niter=20300    b=12.20    w=0.1255    mse=24.38\niter=20400    b=12.20    w=0.1255    mse=24.38\niter=20500    b=12.20    w=0.1254    mse=24.38\niter=20600    b=12.20    w=0.1254    mse=24.38\niter=20700    b=12.20    w=0.1254    mse=24.38\niter=20800    b=12.21    w=0.1254    mse=24.38\niter=20900    b=12.21    w=0.1253    mse=24.38\niter=21000    b=12.21    w=0.1253    mse=24.38\niter=21100    b=12.21    w=0.1253    mse=24.38\niter=21200    b=12.21    w=0.1253    mse=24.38\niter=21300    b=12.21    w=0.1252    mse=24.38\niter=21400    b=12.21    w=0.1252    mse=24.38\niter=21500    b=12.21    w=0.1252    mse=24.38\niter=21600    b=12.21    w=0.1252    mse=24.38\niter=21700    b=12.21    w=0.1252    mse=24.38\niter=21800    b=12.21    w=0.1251    mse=24.38\niter=21900    b=12.21    w=0.1251    mse=24.38\niter=22000    b=12.21    w=0.1251    mse=24.38\niter=22100    b=12.21    w=0.1251    mse=24.38\niter=22200    b=12.22    w=0.1251    mse=24.38\niter=22300    b=12.22    w=0.1250    mse=24.38\niter=22400    b=12.22    w=0.1250    mse=24.38\niter=22500    b=12.22    w=0.1250    mse=24.38\niter=22600    b=12.22    w=0.1250    mse=24.38\niter=22700    b=12.22    w=0.1250    mse=24.38\niter=22800    b=12.22    w=0.1250    mse=24.38\niter=22900    b=12.22    w=0.1249    mse=24.38\niter=23000    b=12.22    w=0.1249    mse=24.38\niter=23100    b=12.22    w=0.1249    mse=24.38\niter=23200    b=12.22    w=0.1249    mse=24.38\niter=23300    b=12.22    w=0.1249    mse=24.38\niter=23400    b=12.22    w=0.1249    mse=24.38\niter=23500    b=12.22    w=0.1249    mse=24.38\niter=23600    b=12.22    w=0.1248    mse=24.38\niter=23700    b=12.22    w=0.1248    mse=24.38\niter=23800    b=12.22    w=0.1248    mse=24.38\niter=23900    b=12.22    w=0.1248    mse=24.38\niter=24000    b=12.22    w=0.1248    mse=24.38\niter=24100    b=12.22    w=0.1248    mse=24.38\niter=24200    b=12.22    w=0.1248    mse=24.38\niter=24300    b=12.22    w=0.1248    mse=24.38\niter=24400    b=12.22    w=0.1248    mse=24.38\niter=24500    b=12.23    w=0.1248    mse=24.38\niter=24600    b=12.23    w=0.1247    mse=24.38\niter=24700    b=12.23    w=0.1247    mse=24.38\niter=24800    b=12.23    w=0.1247    mse=24.38\niter=24900    b=12.23    w=0.1247    mse=24.38\niter=25000    b=12.23    w=0.1247    mse=24.38\niter=25100    b=12.23    w=0.1247    mse=24.38\niter=25200    b=12.23    w=0.1247    mse=24.38\niter=25300    b=12.23    w=0.1247    mse=24.38\niter=25400    b=12.23    w=0.1247    mse=24.38\niter=25500    b=12.23    w=0.1247    mse=24.38\niter=25600    b=12.23    w=0.1247    mse=24.38\niter=25700    b=12.23    w=0.1247    mse=24.38\niter=25800    b=12.23    w=0.1247    mse=24.38\niter=25900    b=12.23    w=0.1246    mse=24.38\niter=26000    b=12.23    w=0.1246    mse=24.38\niter=26100    b=12.23    w=0.1246    mse=24.38\niter=26200    b=12.23    w=0.1246    mse=24.38\niter=26300    b=12.23    w=0.1246    mse=24.38\niter=26400    b=12.23    w=0.1246    mse=24.38\niter=26500    b=12.23    w=0.1246    mse=24.38\niter=26600    b=12.23    w=0.1246    mse=24.38\niter=26700    b=12.23    w=0.1246    mse=24.38\niter=26800    b=12.23    w=0.1246    mse=24.38\niter=26900    b=12.23    w=0.1246    mse=24.38\niter=27000    b=12.23    w=0.1246    mse=24.38\niter=27100    b=12.23    w=0.1246    mse=24.38\niter=27200    b=12.23    w=0.1246    mse=24.38\niter=27300    b=12.23    w=0.1246    mse=24.38\niter=27400    b=12.23    w=0.1246    mse=24.38\niter=27500    b=12.23    w=0.1246    mse=24.38\niter=27600    b=12.23    w=0.1246    mse=24.38\niter=27700    b=12.23    w=0.1246    mse=24.38\niter=27800    b=12.23    w=0.1246    mse=24.38\niter=27900    b=12.23    w=0.1246    mse=24.38\niter=28000    b=12.23    w=0.1245    mse=24.38\niter=28100    b=12.23    w=0.1245    mse=24.38\niter=28200    b=12.23    w=0.1245    mse=24.38\niter=28300    b=12.23    w=0.1245    mse=24.38\niter=28400    b=12.23    w=0.1245    mse=24.38\niter=28500    b=12.23    w=0.1245    mse=24.38\niter=28600    b=12.23    w=0.1245    mse=24.38\niter=28700    b=12.23    w=0.1245    mse=24.38\niter=28800    b=12.23    w=0.1245    mse=24.38\niter=28900    b=12.23    w=0.1245    mse=24.38\niter=29000    b=12.23    w=0.1245    mse=24.38\niter=29100    b=12.23    w=0.1245    mse=24.38\niter=29200    b=12.23    w=0.1245    mse=24.38\niter=29300    b=12.23    w=0.1245    mse=24.38\niter=29400    b=12.23    w=0.1245    mse=24.38\niter=29500    b=12.23    w=0.1245    mse=24.38\niter=29600    b=12.23    w=0.1245    mse=24.38\niter=29700    b=12.23    w=0.1245    mse=24.38\niter=29800    b=12.23    w=0.1245    mse=24.38\niter=29900    b=12.23    w=0.1245    mse=24.38\nAfter 30000 iterations b = 12.233570428004116, w = 0.12449749346499145, mse = 24.384050801890762\n",
          "output_type": "stream"
        }
      ]
    }
  ]
}
