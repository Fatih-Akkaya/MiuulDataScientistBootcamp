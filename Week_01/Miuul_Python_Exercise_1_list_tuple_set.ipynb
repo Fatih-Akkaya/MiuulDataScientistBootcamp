{
  "nbformat": 4,
  "nbformat_minor": 0,
  "metadata": {
    "colab": {
      "provenance": []
    },
    "kernelspec": {
      "name": "python3",
      "display_name": "Python 3"
    },
    "language_info": {
      "name": "python"
    }
  },
  "cells": [
    {
      "cell_type": "code",
      "execution_count": null,
      "metadata": {
        "id": "_O7T7qMIiCKQ"
      },
      "outputs": [],
      "source": [
        "###############################################\n",
        "# GÖREV 1: Veri yapılarının tipleriniz inceleyiniz.\n",
        "###############################################\n",
        "x = 8\n",
        "y = 3.2\n",
        "z = 8j + 18\n",
        "\n",
        "a = \"Hello World\"\n",
        "\n",
        "b = True\n",
        "\n",
        "c = 23 < 22\n",
        "\n",
        "l = [1, 2, 3, 4]\n",
        "d = {\"Name\": \"Jake\",\n",
        "     \"age\": 27,\n",
        "     \"Adress\": \"Downtown\"}\n",
        "\n",
        "t = (\"Machine Learning\", \"Data Science\")\n",
        "\n",
        "s = {\"Python\", \"Machine Learning\", \"Data Science\"}"
      ]
    },
    {
      "cell_type": "code",
      "source": [
        "type(s)"
      ],
      "metadata": {
        "colab": {
          "base_uri": "https://localhost:8080/"
        },
        "id": "HX-RZXTNmUEF",
        "outputId": "d7b61114-e325-47c6-9840-53e66533123b"
      },
      "execution_count": null,
      "outputs": [
        {
          "output_type": "execute_result",
          "data": {
            "text/plain": [
              "set"
            ]
          },
          "metadata": {},
          "execution_count": 11
        }
      ]
    },
    {
      "cell_type": "code",
      "source": [
        "###############################################\n",
        "# GÖREV 2: Verilen string ifadenin tüm harflerini büyük harfe çeviriniz. Virgül ve nokta yerine space koyunuz, kelime kelime ayırınız.\n",
        "###############################################\n",
        "text = \"The goal is to turn data into information, and information into insight.\"\n",
        "tlist = text.upper().replace(',', ' ').replace('.', ' ').split()\n",
        "tlist"
      ],
      "metadata": {
        "colab": {
          "base_uri": "https://localhost:8080/"
        },
        "id": "45UJdifimuvz",
        "outputId": "aae144f5-d8ad-4475-fd66-1ce6cbfc97e4"
      },
      "execution_count": null,
      "outputs": [
        {
          "output_type": "execute_result",
          "data": {
            "text/plain": [
              "['THE',\n",
              " 'GOAL',\n",
              " 'IS',\n",
              " 'TO',\n",
              " 'TURN',\n",
              " 'DATA',\n",
              " 'INTO',\n",
              " 'INFORMATION',\n",
              " 'AND',\n",
              " 'INFORMATION',\n",
              " 'INTO',\n",
              " 'INSIGHT']"
            ]
          },
          "metadata": {},
          "execution_count": 14
        }
      ]
    },
    {
      "cell_type": "code",
      "source": [
        "\n",
        "###############################################\n",
        "# GÖREV 3: Verilen liste için aşağıdaki görevleri yapınız.\n",
        "###############################################\n",
        "lst = [\"D\", \"A\", \"T\", \"A\", \"S\", \"C\", \"I\",\"E\" ,\"N\" ,\"C\", \"E\"]"
      ],
      "metadata": {
        "id": "XG98Axcjqhx_"
      },
      "execution_count": null,
      "outputs": []
    },
    {
      "cell_type": "code",
      "source": [
        "# Adım 1: Verilen listenin eleman sayısına bakın.\n",
        "len(lst)"
      ],
      "metadata": {
        "colab": {
          "base_uri": "https://localhost:8080/"
        },
        "id": "UkE1fbFwq2Eb",
        "outputId": "73a3ab4a-848a-4916-ec7b-fcea2ae4c58c"
      },
      "execution_count": null,
      "outputs": [
        {
          "output_type": "execute_result",
          "data": {
            "text/plain": [
              "11"
            ]
          },
          "metadata": {},
          "execution_count": 18
        }
      ]
    },
    {
      "cell_type": "code",
      "source": [
        "# Adım 2: Sıfırıncı ve onuncu index'teki elemanları çağırın.\n",
        "lst[0], lst[-1]"
      ],
      "metadata": {
        "colab": {
          "base_uri": "https://localhost:8080/"
        },
        "id": "VZ089Sa_q79S",
        "outputId": "3636dd02-40cc-4ee6-c580-a043e1ae1874"
      },
      "execution_count": null,
      "outputs": [
        {
          "output_type": "execute_result",
          "data": {
            "text/plain": [
              "('D', 'E')"
            ]
          },
          "metadata": {},
          "execution_count": 19
        }
      ]
    },
    {
      "cell_type": "code",
      "source": [
        "# Adım 3: Verilen liste üzerinden [\"D\",\"A\",\"T\",\"A\"] listesi oluşturun.\n",
        "lst[:4]"
      ],
      "metadata": {
        "colab": {
          "base_uri": "https://localhost:8080/"
        },
        "id": "e6-aMJ-UrDAL",
        "outputId": "1044d583-476f-4add-ee9c-d5436016c58e"
      },
      "execution_count": null,
      "outputs": [
        {
          "output_type": "execute_result",
          "data": {
            "text/plain": [
              "['D', 'A', 'T', 'A']"
            ]
          },
          "metadata": {},
          "execution_count": 21
        }
      ]
    },
    {
      "cell_type": "code",
      "source": [
        "# Adım 4: Sekizinci index'teki elemanı silin.\n",
        "lst.pop(8)"
      ],
      "metadata": {
        "colab": {
          "base_uri": "https://localhost:8080/",
          "height": 35
        },
        "id": "OI8HlupRrJoD",
        "outputId": "4f100dc0-e85b-4b0e-b29d-6e3ecfc592b3"
      },
      "execution_count": null,
      "outputs": [
        {
          "output_type": "execute_result",
          "data": {
            "text/plain": [
              "'N'"
            ],
            "application/vnd.google.colaboratory.intrinsic+json": {
              "type": "string"
            }
          },
          "metadata": {},
          "execution_count": 22
        }
      ]
    },
    {
      "cell_type": "code",
      "source": [
        "# Adım 5: Yeni bir eleman ekleyin.\n",
        "lst.append('S')\n",
        "lst.append('T')"
      ],
      "metadata": {
        "id": "7P39LWLyrgrq"
      },
      "execution_count": null,
      "outputs": []
    },
    {
      "cell_type": "code",
      "source": [
        "# Adım 6: Sekizinci index'e  \"N\" elemanını tekrar ekleyin.\n",
        "lst.insert(8,'N')"
      ],
      "metadata": {
        "id": "riKE7fGDrnA7"
      },
      "execution_count": null,
      "outputs": []
    },
    {
      "cell_type": "code",
      "source": [
        "lst"
      ],
      "metadata": {
        "colab": {
          "base_uri": "https://localhost:8080/"
        },
        "id": "TlyKpc6XruMj",
        "outputId": "b98923d8-dff6-4c44-d673-8e161938ee37"
      },
      "execution_count": null,
      "outputs": [
        {
          "output_type": "execute_result",
          "data": {
            "text/plain": [
              "['D', 'A', 'T', 'A', 'S', 'C', 'I', 'E', 'N', 'C', 'E', 'S', 'T']"
            ]
          },
          "metadata": {},
          "execution_count": 27
        }
      ]
    },
    {
      "cell_type": "code",
      "source": [
        "###############################################\n",
        "# GÖREV 4: Verilen sözlük yapısına aşağıdaki adımları uygulayınız.\n",
        "###############################################\n",
        "\n",
        "dict = {'Christian': [\"America\",18],\n",
        "        'Daisy':[\"England\",12],\n",
        "        'Antonio':[\"Spain\",22],\n",
        "        'Dante':[\"Italy\",25]}"
      ],
      "metadata": {
        "id": "HZMmQB0RshfV"
      },
      "execution_count": null,
      "outputs": []
    },
    {
      "cell_type": "code",
      "source": [
        "# Adım 1: Key değerlerine erişiniz.\n",
        "dict.keys()"
      ],
      "metadata": {
        "colab": {
          "base_uri": "https://localhost:8080/"
        },
        "id": "0iiImW6qsi0E",
        "outputId": "9b095f32-4463-43e7-c48d-354038584954"
      },
      "execution_count": null,
      "outputs": [
        {
          "output_type": "execute_result",
          "data": {
            "text/plain": [
              "dict_keys(['Christian', 'Daisy', 'Dante', 'Ahmet'])"
            ]
          },
          "metadata": {},
          "execution_count": 41
        }
      ]
    },
    {
      "cell_type": "code",
      "source": [
        "# Adım 2: Value'lara erişiniz.\n",
        "dict.values()"
      ],
      "metadata": {
        "colab": {
          "base_uri": "https://localhost:8080/"
        },
        "id": "WS7LROtBsv7L",
        "outputId": "ca0918c9-1fd7-4d47-e216-76a5114c078b"
      },
      "execution_count": null,
      "outputs": [
        {
          "output_type": "execute_result",
          "data": {
            "text/plain": [
              "dict_values([['America', 18], ['England', 13], ['Italy', 25], ['Turkey', 24]])"
            ]
          },
          "metadata": {},
          "execution_count": 42
        }
      ]
    },
    {
      "cell_type": "code",
      "source": [
        "# Adım 3: Daisy key'ine ait 12 değerini 13 olarak güncelleyiniz.\n",
        "dict['Daisy'][1]=13"
      ],
      "metadata": {
        "id": "dfIf-GfJs13E"
      },
      "execution_count": null,
      "outputs": []
    },
    {
      "cell_type": "code",
      "source": [
        "# Adım 4: Key değeri Ahmet value değeri [Turkey,24] olan yeni bir değer ekleyiniz.\n",
        "dict['Ahmet']=['Turkey', 24]"
      ],
      "metadata": {
        "id": "Z6JdgUkktAlM"
      },
      "execution_count": null,
      "outputs": []
    },
    {
      "cell_type": "code",
      "source": [
        "# Adım 5: Antonio'yu dictionary'den siliniz.\n",
        "dict.pop('Antonio')"
      ],
      "metadata": {
        "colab": {
          "base_uri": "https://localhost:8080/"
        },
        "id": "YX4eiQmLtLDs",
        "outputId": "fe17fe4e-bf50-4bab-9d6b-95b0d4917bb5"
      },
      "execution_count": null,
      "outputs": [
        {
          "output_type": "execute_result",
          "data": {
            "text/plain": [
              "['Spain', 22]"
            ]
          },
          "metadata": {},
          "execution_count": 40
        }
      ]
    },
    {
      "cell_type": "code",
      "source": [
        "###############################################\n",
        "# GÖREV 5: Arguman olarak bir liste alan, listenin içerisindeki tek ve çift sayıları ayrı listelere atıyan ve bu listeleri return eden fonskiyon yazınız.\n",
        "###############################################\n",
        "l = [2,13,18,93,22]\n",
        "def func(liste):\n",
        "  e=[]\n",
        "  o=[]\n",
        "  [e.append(i) if i%2==0 else o.append(i) for i in liste]\n",
        "  return e, o\n",
        "even_list, odd_list = func(l)\n",
        "even_list, odd_list"
      ],
      "metadata": {
        "colab": {
          "base_uri": "https://localhost:8080/"
        },
        "id": "tYGILL5ktfBM",
        "outputId": "450c47b9-c7c2-4641-d217-5222b7c5cdd6"
      },
      "execution_count": null,
      "outputs": [
        {
          "output_type": "execute_result",
          "data": {
            "text/plain": [
              "([2, 18, 22], [13, 93])"
            ]
          },
          "metadata": {},
          "execution_count": 46
        }
      ]
    },
    {
      "cell_type": "code",
      "source": [
        "###############################################\n",
        "# GÖREV 6: Aşağıda verilen listede mühendislik ve tıp fakülterinde dereceye giren öğrencilerin isimleri bulunmaktadır.\n",
        "# Sırasıyla ilk üç öğrenci mühendislik fakültesinin başarı sırasını temsil ederken son üç öğrenci de tıp fakültesi öğrenci sırasına aittir.\n",
        "# Enumarate kullanarak öğrenci derecelerini fakülte özelinde yazdırınız.\n",
        "###############################################\n",
        "ogrenciler = [\"Ali\",\"Veli\",\"Ayşe\",\"Talat\",\"Zeynep\",\"Ece\"]\n",
        "ogrenciler = list((i , ogrenci, \"Mühendislik\") if i<4 else (i-3 , ogrenci, \"Tıp\") for i, ogrenci in enumerate(ogrenciler,1))\n",
        "\n",
        "for ogrenci in ogrenciler:\n",
        "  print(f\"{ogrenci[2]} Fakültesi {ogrenci[0]}. öğrenci: {ogrenci[1]}\")\n"
      ],
      "metadata": {
        "id": "lIiG_RLwV6W8",
        "colab": {
          "base_uri": "https://localhost:8080/"
        },
        "outputId": "9a43ed13-1603-4173-ec09-0582eec84724"
      },
      "execution_count": 10,
      "outputs": [
        {
          "output_type": "stream",
          "name": "stdout",
          "text": [
            "Mühendislik Fakültesi 1. öğrenci: Ali\n",
            "Mühendislik Fakültesi 2. öğrenci: Veli\n",
            "Mühendislik Fakültesi 3. öğrenci: Ayşe\n",
            "Tıp Fakültesi 1. öğrenci: Talat\n",
            "Tıp Fakültesi 2. öğrenci: Zeynep\n",
            "Tıp Fakültesi 3. öğrenci: Ece\n"
          ]
        }
      ]
    },
    {
      "cell_type": "code",
      "source": [
        "###############################################\n",
        "# GÖREV 7: Aşağıda 3 adet liste verilmiştir. Listelerde sırası ile bir dersin kodu, kredisi ve kontenjan bilgileri yer almaktadır. Zip kullanarak ders bilgilerini bastırınız.\n",
        "###############################################\n",
        "\n",
        "ders_kodu = [\"CMP1005\",\"PSY1001\",\"HUK1005\",\"SEN2204\"]\n",
        "kredi = [3,4,2,4]\n",
        "kontenjan = [30,75,150,25]\n",
        "for ders_kodu, kredi, kontenjan in zip(ders_kodu, kredi, kontenjan):\n",
        "  print(f\"Kredisi {kredi} olan {ders_kodu} kodlu dersin kontenjanı {kontenjan} kişidir\")"
      ],
      "metadata": {
        "id": "Fup9meb0V7HE",
        "colab": {
          "base_uri": "https://localhost:8080/"
        },
        "outputId": "9afba269-ae73-46a4-d80b-0aeb547f707e"
      },
      "execution_count": null,
      "outputs": [
        {
          "output_type": "stream",
          "name": "stdout",
          "text": [
            "Kredisi 3 olan CMP1005 kodlu dersin kontenjanı 30 kişidir\n",
            "Kredisi 4 olan PSY1001 kodlu dersin kontenjanı 75 kişidir\n",
            "Kredisi 2 olan HUK1005 kodlu dersin kontenjanı 150 kişidir\n",
            "Kredisi 4 olan SEN2204 kodlu dersin kontenjanı 25 kişidir\n"
          ]
        }
      ]
    },
    {
      "cell_type": "code",
      "source": [
        "###############################################\n",
        "# GÖREV 8: Aşağıda 2 adet set verilmiştir.\n",
        "# Sizden istenilen eğer 1. küme 2. kümeyi kapsiyor ise ortak elemanlarını eğer kapsamıyor ise 2. kümenin 1. kümeden farkını yazdıracak fonksiyonu tanımlamanız beklenmektedir.\n",
        "###############################################\n",
        "\n",
        "kume1 = set([\"data\", \"python\"])\n",
        "kume2 = set([\"data\", \"function\", \"qcut\", \"lambda\", \"python\", \"miuul\"])\n",
        "def compare_set(set1, set2):\n",
        "  if set1.issuperset(set2):\n",
        "    print(set1.intersection(set2))\n",
        "  else:\n",
        "    print(set2.difference(set1))\n",
        "compare_set(kume1, kume2)"
      ],
      "metadata": {
        "id": "cRKVxS1GV96v",
        "colab": {
          "base_uri": "https://localhost:8080/"
        },
        "outputId": "b86b4936-f4a0-4640-90f6-64179d367612"
      },
      "execution_count": 12,
      "outputs": [
        {
          "output_type": "stream",
          "name": "stdout",
          "text": [
            "{'function', 'lambda', 'miuul', 'qcut'}\n"
          ]
        }
      ]
    }
  ]
}