{
  "nbformat": 4,
  "nbformat_minor": 0,
  "metadata": {
    "colab": {
      "provenance": []
    },
    "kernelspec": {
      "name": "python3",
      "display_name": "Python 3"
    },
    "language_info": {
      "name": "python"
    }
  },
  "cells": [
    {
      "cell_type": "markdown",
      "source": [
        "# BG-NBD ve Gamma-Gamma ile CLTV Prediction\n",
        "\n",
        "**İş Problemi (Business Problem)**\n",
        "FLO satış ve pazarlama faaliyetleri için roadmap belirlemek istemektedir.\n",
        "Şirketin orta uzun vadeli plan yapabilmesi için var olan müşterilerin gelecekte şirkete sağlayacakları potansiyel değerin tahmin edilmesi gerekmektedir.\n",
        "\n",
        "*Veri Seti Hikayesi*\n",
        "\n",
        "Veri seti son alışverişlerini 2020 - 2021 yıllarında OmniChannel(hem online hem offline alışveriş yapan) olarak yapan müşterilerin geçmiş alışveriş davranışlarından\n",
        "elde edilen bilgilerden oluşmaktadır.\n",
        "\n",
        "- master_id: Eşsiz müşteri numarası\n",
        "- order_channel : Alışveriş yapılan platforma ait hangi kanalın kullanıldığı (Android, ios, Desktop, Mobile, Offline)\n",
        "- last_order_channel : En son alışverişin yapıldığı kanal\n",
        "- first_order_date : Müşterinin yaptığı ilk alışveriş tarihi\n",
        "- last_order_date : Müşterinin yaptığı son alışveriş tarihi\n",
        "- last_order_date_online : Muşterinin online platformda yaptığı son alışveriş tarihi\n",
        "- last_order_date_offline : Muşterinin offline platformda yaptığı son alışveriş tarihi\n",
        "- order_num_total_ever_online : Müşterinin online platformda yaptığı toplam alışveriş sayısı\n",
        "- order_num_total_ever_offline : Müşterinin offline'da yaptığı toplam alışveriş sayısı\n",
        "- customer_value_total_ever_offline : Müşterinin offline alışverişlerinde ödediği toplam ücret\n",
        "- customer_value_total_ever_online : Müşterinin online alışverişlerinde ödediği toplam ücret\n",
        "- interested_in_categories_12 : Müşterinin son 12 ayda alışveriş yaptığı kategorilerin listesi"
      ],
      "metadata": {
        "id": "OBNk2vUDP5SY"
      }
    },
    {
      "cell_type": "code",
      "execution_count": null,
      "metadata": {
        "id": "7WFz3ndZPY32"
      },
      "outputs": [],
      "source": [
        "###############################################################\n",
        "# GÖREVLER\n",
        "###############################################################\n",
        "# GÖREV 1: Veriyi Hazırlama\n",
        "\n",
        "# 1. OmniChannel.csv verisini okuyunuz.Dataframe’in kopyasını oluşturunuz.\n",
        "import datetime as dt\n",
        "import pandas as pd\n",
        "import matplotlib.pyplot as plt\n",
        "from lifetimes import BetaGeoFitter\n",
        "from lifetimes import GammaGammaFitter\n",
        "from lifetimes.plotting import plot_period_transactions\n",
        "import numpy as np\n",
        "\n",
        "pd.set_option('display.max_columns', 20)\n",
        "pd.set_option('display.width', 500)\n",
        "pd.set_option('display.float_format', lambda x: '%.4f' % x)\n",
        "from sklearn.preprocessing import MinMaxScaler\n",
        "\n",
        "\n",
        "df_ = pd.read_csv(\"src/crmAnalytics/FLOCLTVPrediction/flo_data_20k.csv\")\n",
        "df = df_.copy()\n",
        "df.head()\n",
        "\n",
        "\n",
        "def missing_values_analysis(df):\n",
        "    na_columns = [col for col in df.columns if df[col].isnull().sum() > 0]\n",
        "    n_miss = df[na_columns].isnull().sum().sort_values(ascending=True)\n",
        "    ratio = (df[na_columns].isnull().sum() / df.shape[0] * 100).sort_values(ascending=True)\n",
        "    missing_df = pd.concat([n_miss, np.round(ratio, 2)], axis=1, keys=['Total Missing Values', 'Ratio'])\n",
        "    missing_df = pd.DataFrame(missing_df)\n",
        "    return missing_df\n",
        "\n",
        "\n",
        "def check_dataframe(df, row_num=5):\n",
        "    print(\"*************** Dataset Shape ***************\")\n",
        "    print(\"No. of Rows:\", df.shape[0], \"\\nNo. of Columns:\", df.shape[1])\n",
        "    print(\"*************** Types of Columns ***************\")\n",
        "    print(df.dtypes)\n",
        "    print(f\"*************** First {row_num} Rows ***************\")\n",
        "    print(df.head(row_num))\n",
        "    print(f\"*************** Last {row_num} Rows ***************\")\n",
        "    print(df.tail(row_num))\n",
        "    print(\"*************** Summary Statistics of The Dataset ***************\")\n",
        "    print(df.describe().T)\n",
        "    print(\"*************** Dataset Missing Values Analysis ***************\")\n",
        "    print(missing_values_analysis(df))\n",
        "\n",
        "\n",
        "check_dataframe(df)\n"
      ]
    },
    {
      "cell_type": "code",
      "source": [
        "# 2. Aykırı değerleri baskılamak için gerekli olan outlier_thresholds ve replace_with_thresholds fonksiyonlarını tanımlayınız.\n",
        "# Not: cltv hesaplanırken frequency değerleri integer olması gerekmektedir.Bu nedenle alt ve üst limitlerini round() ile yuvarlayınız.\n",
        "def outlier_thresholds(dataframe, variable):\n",
        "    quartile1 = dataframe[variable].quantile(0.01)\n",
        "    quartile3 = dataframe[variable].quantile(0.99)\n",
        "    interquantile_range = quartile3 - quartile1\n",
        "    up_limit = round(quartile3 + 1.5 * interquantile_range)\n",
        "    low_limit = round(quartile1 - 1.5 * interquantile_range)\n",
        "    return low_limit, up_limit\n",
        "\n",
        "\n",
        "def replace_with_thresholds(dataframe, variable):\n",
        "    low_limit, up_limit = outlier_thresholds(dataframe, variable)\n",
        "    dataframe.loc[(dataframe[variable] < low_limit), variable] = low_limit\n",
        "    dataframe.loc[(dataframe[variable] > up_limit), variable] = up_limit\n"
      ],
      "metadata": {
        "id": "OKqR1819QofW"
      },
      "execution_count": null,
      "outputs": []
    },
    {
      "cell_type": "code",
      "source": [
        "\n",
        "# 3. \"order_num_total_ever_online\",\"order_num_total_ever_offline\",\"customer_value_total_ever_offline\",\"customer_value_total_ever_online\" değişkenlerinin\n",
        "#aykırı değerleri varsa baskılayanız.\n",
        "threshold_columns = [\"order_num_total_ever_online\", \"order_num_total_ever_offline\",\n",
        "                     \"customer_value_total_ever_offline\", \"customer_value_total_ever_online\"]\n",
        "\n",
        "for col in threshold_columns:\n",
        "    replace_with_thresholds(df, col)\n",
        "\n",
        "check_dataframe(df)\n"
      ],
      "metadata": {
        "id": "lef8PC5uQrd5"
      },
      "execution_count": null,
      "outputs": []
    },
    {
      "cell_type": "code",
      "source": [
        "# 4. Omnichannel müşterilerin hem online'dan hemde offline platformlardan alışveriş yaptığını ifade etmektedir.\n",
        "# Herbir müşterinin toplam alışveriş sayısı ve harcaması için yeni değişkenler oluşturun.\n",
        "df[\"order_num_total_ever_omnichannel\"] = df['order_num_total_ever_online'] + df['order_num_total_ever_offline']\n",
        "df[\"customer_value_total_ever_omnichannel\"] = df['customer_value_total_ever_offline'] + df['customer_value_total_ever_online']\n"
      ],
      "metadata": {
        "id": "Zxvfv8oqQyKK"
      },
      "execution_count": null,
      "outputs": []
    },
    {
      "cell_type": "code",
      "source": [
        "# 5. Değişken tiplerini inceleyiniz. Tarih ifade eden değişkenlerin tipini date'e çeviriniz.\n",
        "df[df.filter(like='_date').columns] = df[df.filter(like='_date').columns].apply(pd.to_datetime)\n",
        "df.info()\n"
      ],
      "metadata": {
        "id": "7_MbW661Q0lM"
      },
      "execution_count": null,
      "outputs": []
    },
    {
      "cell_type": "code",
      "source": [
        "###############################################################\n",
        "# GÖREV 2: CLTV Veri Yapısının Oluşturulması\n",
        "###############################################################\n",
        "\n",
        "# 1.Veri setindeki en son alışverişin yapıldığı tarihten 2 gün sonrasını analiz tarihi olarak alınız.\n",
        "analyze_date = df[\"last_order_date\"].max() + dt.timedelta(days=2)\n"
      ],
      "metadata": {
        "id": "z3SGdBWsQ42K"
      },
      "execution_count": null,
      "outputs": []
    },
    {
      "cell_type": "code",
      "source": [
        "# 2.customer_id, recency_cltv_weekly, T_weekly, frequency ve monetary_cltv_avg değerlerinin yer aldığı yeni bir cltv dataframe'i oluşturunuz.\n",
        "cltv_df = pd.DataFrame()\n",
        "cltv_df[\"customer_id\"] = df[\"master_id\"]\n",
        "cltv_df[\"recency_cltv_weekly\"] = (df[\"last_order_date\"] - df[\"first_order_date\"]).dt.days / 7\n",
        "cltv_df[\"T_weekly\"] = (analyze_date - df[\"first_order_date\"]).dt.days / 7\n",
        "cltv_df[\"frequency\"] = df[\"order_num_total_ever_omnichannel\"]\n",
        "cltv_df[\"monetary_cltv_avg\"] = df[\"customer_value_total_ever_omnichannel\"] / df[\"order_num_total_ever_omnichannel\"]\n",
        "\n",
        "cltv_df.head()"
      ],
      "metadata": {
        "id": "ukaREBOTRFN-"
      },
      "execution_count": null,
      "outputs": []
    },
    {
      "cell_type": "code",
      "source": [
        "###############################################################\n",
        "# GÖREV 3: BG/NBD, Gamma-Gamma Modellerinin Kurulması, 6 aylık CLTV'nin hesaplanması\n",
        "###############################################################\n",
        "\n",
        "# 1. BG/NBD modelini kurunuz.\n",
        "bgf = BetaGeoFitter(penalizer_coef=0.001)\n",
        "bgf.fit(cltv_df['frequency'],\n",
        "        cltv_df['recency_cltv_weekly'],\n",
        "        cltv_df['T_weekly'])\n",
        "\n",
        "# 3 ay içerisinde müşterilerden beklenen satın almaları tahmin ediniz ve exp_sales_3_month olarak cltv dataframe'ine ekleyiniz.\n",
        "cltv_df[\"exp_sales_3_month\"] = bgf.predict(4 * 3,\n",
        "                                           cltv_df['frequency'],\n",
        "                                           cltv_df['recency_cltv_weekly'],\n",
        "                                           cltv_df['T_weekly'])\n",
        "\n",
        "# 6 ay içerisinde müşterilerden beklenen satın almaları tahmin ediniz ve exp_sales_6_month olarak cltv dataframe'ine ekleyiniz.\n",
        "cltv_df[\"exp_sales_6_month\"] = bgf.predict(4 * 6,\n",
        "                                           cltv_df['frequency'],\n",
        "                                           cltv_df['recency_cltv_weekly'],\n",
        "                                           cltv_df['T_weekly'])\n",
        "# 3. ve 6.aydaki en çok satın alım gerçekleştirecek 10 kişiyi inceleyeniz.\n",
        "cltv_df.sort_values(\"exp_sales_3_month\",ascending=False).head(10)\n",
        "\n",
        "cltv_df.sort_values(\"exp_sales_6_month\",ascending=False).head(10)\n",
        "#cltv_df.groupby('customer_id').agg({'exp_sales_3_month': 'sum',\n",
        "#                                    'exp_sales_6_month': 'sum'}).sort_values(by='exp_sales_6_month',\n",
        "#                                                                             ascending=False).head(10)\n"
      ],
      "metadata": {
        "id": "C4ylC4aQQ-q_"
      },
      "execution_count": null,
      "outputs": []
    },
    {
      "cell_type": "code",
      "source": [
        "# 2.  Gamma-Gamma modelini fit ediniz. Müşterilerin ortalama bırakacakları değeri tahminleyip exp_average_value olarak cltv dataframe'ine ekleyiniz.\n",
        "ggf = GammaGammaFitter(penalizer_coef=0.01)\n",
        "ggf.fit(cltv_df['frequency'], cltv_df['monetary_cltv_avg'])\n",
        "cltv_df[\"exp_average_value\"] = ggf.conditional_expected_average_profit(cltv_df['frequency'],\n",
        "                                                                       cltv_df['monetary_cltv_avg'])\n",
        "cltv_df.head()\n"
      ],
      "metadata": {
        "id": "aAKFIVB1RLFq"
      },
      "execution_count": null,
      "outputs": []
    },
    {
      "cell_type": "code",
      "source": [
        "# 3. 6 aylık CLTV hesaplayınız ve cltv ismiyle dataframe'e ekleyiniz.\n",
        "cltv_df['cltv'] = ggf.customer_lifetime_value(bgf,\n",
        "                                   cltv_df['frequency'],\n",
        "                                   cltv_df['recency_cltv_weekly'],\n",
        "                                   cltv_df['T_weekly'],\n",
        "                                   cltv_df['monetary_cltv_avg'],\n",
        "                                   time=6,  # 3 aylık\n",
        "                                   freq=\"W\",  # T'nin frekans bilgisi.\n",
        "                                   discount_rate=0.01)\n",
        "\n",
        "# CLTV değeri en yüksek 20 kişiyi gözlemleyiniz.\n",
        "cltv_df.sort_values(\"cltv\", ascending=False).head(20)\n"
      ],
      "metadata": {
        "id": "9WwCVaa4RPgz"
      },
      "execution_count": null,
      "outputs": []
    },
    {
      "cell_type": "code",
      "source": [
        "###############################################################\n",
        "# GÖREV 4: CLTV'ye Göre Segmentlerin Oluşturulması\n",
        "###############################################################\n",
        "\n",
        "# 1. 6 aylık CLTV'ye göre tüm müşterilerinizi 4 gruba (segmente) ayırınız ve grup isimlerini veri setine ekleyiniz.\n",
        "# cltv_segment ismi ile atayınız.\n",
        "cltv_df[\"cltv_segment\"] = pd.qcut(cltv_df[\"cltv\"], 4, labels=[\"D\", \"C\", \"B\", \"A\"])\n",
        "\n",
        "# 2. Segmentlerin recency, frequnecy ve monetary ortalamalarını inceleyiniz.\n",
        "cltv_df.groupby(\"cltv_segment\")[['frequency', 'recency_cltv_weekly', 'monetary_cltv_avg']].agg({\"count\", \"mean\", \"sum\"})\n"
      ],
      "metadata": {
        "id": "5Tc1FIKyRS_i"
      },
      "execution_count": null,
      "outputs": []
    },
    {
      "cell_type": "code",
      "source": [
        "# BONUS: Tüm süreci fonksiyonlaştırınız.\n",
        "def create_cltv_df(dataframe):\n",
        "\n",
        "    # Veriyi Hazırlama\n",
        "    columns = [\"order_num_total_ever_online\", \"order_num_total_ever_offline\", \"customer_value_total_ever_offline\",\"customer_value_total_ever_online\"]\n",
        "    for col in columns:\n",
        "        replace_with_thresholds(dataframe, col)\n",
        "\n",
        "    dataframe[\"order_num_total_ever_omnichannel\"] = dataframe['order_num_total_ever_online'] + dataframe['order_num_total_ever_offline']\n",
        "    dataframe[\"customer_value_total_ever_omnichannel\"] = dataframe['customer_value_total_ever_offline'] + dataframe['customer_value_total_ever_online']\n",
        "    dataframe = dataframe[~(dataframe[\"order_num_total_ever_omnichannel\"] == 0) | (dataframe[\"customer_value_total_ever_omnichannel\"] == 0)]\n",
        "    dataframe[dataframe.filter(like='_date').columns] = dataframe[dataframe.filter(like='_date').columns].apply(pd.to_datetime)\n",
        "\n",
        "    # CLTV veri yapısının oluşturulması\n",
        "    analyze_date = dataframe[\"last_order_date\"].max() + dataframe.timedelta(days=2)\n",
        "    cltv_df = pd.DataFrame()\n",
        "    cltv_df[\"customer_id\"] = dataframe[\"master_id\"]\n",
        "    cltv_df[\"recency_cltv_weekly\"] = (dataframe[\"last_order_date\"] - dataframe[\"first_order_date\"]).dt.days / 7\n",
        "    cltv_df[\"T_weekly\"] = (analyze_date - dataframe[\"first_order_date\"]).dt.days / 7\n",
        "    cltv_df[\"frequency\"] = dataframe[\"order_num_total_ever_omnichannel\"]\n",
        "    cltv_df[\"monetary_cltv_avg\"] = dataframe[\"customer_value_total_ever_omnichannel\"] / dataframe[\"order_num_total_ever_omnichannel\"]\n",
        "\n",
        "    # BG-NBD Modelinin Kurulması\n",
        "    bgf = BetaGeoFitter(penalizer_coef=0.001)\n",
        "    bgf.fit(cltv_df['frequency'],\n",
        "            cltv_df['recency_cltv_weekly'],\n",
        "            cltv_df['T_weekly'])\n",
        "    cltv_df[\"exp_sales_3_month\"] = bgf.predict(4 * 3,\n",
        "                                               cltv_df['frequency'],\n",
        "                                               cltv_df['recency_cltv_weekly'],\n",
        "                                               cltv_df['T_weekly'])\n",
        "    cltv_df[\"exp_sales_6_month\"] = bgf.predict(4 * 6,\n",
        "                                               cltv_df['frequency'],\n",
        "                                               cltv_df['recency_cltv_weekly'],\n",
        "                                               cltv_df['T_weekly'])\n",
        "\n",
        "    # # Gamma-Gamma Modelinin Kurulması\n",
        "    ggf = GammaGammaFitter(penalizer_coef=0.01)\n",
        "    ggf.fit(cltv_df['frequency'], cltv_df['monetary_cltv_avg'])\n",
        "    cltv_df[\"exp_average_value\"] = ggf.conditional_expected_average_profit(cltv_df['frequency'],\n",
        "                                                                           cltv_df['monetary_cltv_avg'])\n",
        "\n",
        "    # Cltv tahmini\n",
        "    cltv_df[\"cltv\"] = ggf.customer_lifetime_value(bgf,\n",
        "                                       cltv_df['frequency'],\n",
        "                                       cltv_df['recency_cltv_weekly'],\n",
        "                                       cltv_df['T_weekly'],\n",
        "                                       cltv_df['monetary_cltv_avg'],\n",
        "                                       time=6,\n",
        "                                       freq=\"W\",\n",
        "                                       discount_rate=0.01)\n",
        "\n",
        "    # CLTV segmentleme\n",
        "    cltv_df[\"cltv_segment\"] = pd.qcut(cltv_df[\"cltv\"], 4, labels=[\"D\", \"C\", \"B\", \"A\"])\n",
        "\n",
        "    return cltv_df\n",
        "\n",
        "cltv_df = create_cltv_df(df)\n",
        "\n",
        "cltv_df.head(10)\n",
        "cltv_df.groupby(\"cltv_segment\")[['frequency', 'recency_cltv_weekly', 'monetary_cltv_avg']].agg({\"count\", \"mean\", \"sum\"})"
      ],
      "metadata": {
        "id": "lvyyY7tHRbp-"
      },
      "execution_count": null,
      "outputs": []
    }
  ]
}
