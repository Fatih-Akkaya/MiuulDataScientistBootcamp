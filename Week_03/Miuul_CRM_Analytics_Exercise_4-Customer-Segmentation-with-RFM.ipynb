{
  "nbformat": 4,
  "nbformat_minor": 0,
  "metadata": {
    "colab": {
      "provenance": []
    },
    "kernelspec": {
      "name": "python3",
      "display_name": "Python 3"
    },
    "language_info": {
      "name": "python"
    }
  },
  "cells": [
    {
      "cell_type": "markdown",
      "source": [
        "# RFM ile Müşteri Segmentasyonu (Customer Segmentation with RFM)\n",
        "**İş Problemi (Business Problem)**\n",
        "\n",
        "FLO müşterilerini segmentlere ayırıp bu segmentlere göre pazarlama stratejileri belirlemek istiyor.\n",
        "Buna yönelik olarak müşterilerin davranışları tanımlanacak ve bu davranış öbeklenmelerine göre gruplar oluşturulacak.\n",
        "\n",
        "*Veri Seti Hikayesi*\n",
        "\n",
        "Veri seti son alışverişlerini 2020 - 2021 yıllarında OmniChannel(hem online hem offline alışveriş yapan) olarak yapan müşterilerin geçmiş alışveriş davranışlarından\n",
        "elde edilen bilgilerden oluşmaktadır.\n",
        "\n",
        "- master_id: Eşsiz müşteri numarası\n",
        "- order_channel : Alışveriş yapılan platforma ait hangi kanalın kullanıldığı (Android, ios, Desktop, Mobile, Offline)\n",
        "- last_order_channel : En son alışverişin yapıldığı kanal\n",
        "- first_order_date : Müşterinin yaptığı ilk alışveriş tarihi\n",
        "- last_order_date : Müşterinin yaptığı son alışveriş tarihi\n",
        "- last_order_date_online : Muşterinin online platformda yaptığı son alışveriş tarihi\n",
        "- last_order_date_offline : Muşterinin offline platformda yaptığı son alışveriş tarihi\n",
        "- order_num_total_ever_online : Müşterinin online platformda yaptığı toplam alışveriş sayısı\n",
        "- order_num_total_ever_offline : Müşterinin offline'da yaptığı toplam alışveriş sayısı\n",
        "- customer_value_total_ever_offline : Müşterinin offline alışverişlerinde ödediği toplam ücret\n",
        "- customer_value_total_ever_online : Müşterinin online alışverişlerinde ödediği toplam ücret\n",
        "- interested_in_categories_12 : Müşterinin son 12 ayda alışveriş yaptığı kategorilerin listesi"
      ],
      "metadata": {
        "id": "U-8fX2ChKeMI"
      }
    },
    {
      "cell_type": "markdown",
      "source": [
        "# GÖREVLER"
      ],
      "metadata": {
        "id": "ewhlD6cYLfE1"
      }
    },
    {
      "cell_type": "code",
      "execution_count": null,
      "metadata": {
        "id": "0Hi1lfX-KDBq"
      },
      "outputs": [],
      "source": [
        "###############################################################\n",
        "# GÖREV 1: Veriyi  Hazırlama ve Anlama (Data Understanding)\n",
        "###############################################################\n",
        "# 1. flo_data_20K.csv verisini okuyunuz.\n",
        "\n",
        "import datetime as dt\n",
        "import pandas as pd\n",
        "\n",
        "pd.set_option('display.max_columns', None)\n",
        "pd.set_option('display.width', 500)\n",
        "pd.set_option('display.float_format', lambda x: '%.4f' % x)\n",
        "\n",
        "df_ = pd.read_csv(\"src/crmAnalytics/FLOMusteriSegmentasyonu/flo_data_20k.csv\")\n",
        "df = df_.copy()\n",
        "\n",
        "\n"
      ]
    },
    {
      "cell_type": "code",
      "source": [
        "# 2. Veri setinde\n",
        "        # a. İlk 10 gözlem,\n",
        "        # b. Değişken isimleri,\n",
        "        # c. Boyut,\n",
        "        # d. Betimsel istatistik,\n",
        "        # e. Boş değer,\n",
        "        # f. Değişken tipleri, incelemesi yapınız.\n",
        "def check_dataframe(df, row_num=5):\n",
        "    print(\"*************** Dataset Shape ***************\")\n",
        "    print(\"No. of Rows:\", df.shape[0], \"\\nNo. of Columns:\", df.shape[1])\n",
        "    print(\"*************** Types of Columns ***************\")\n",
        "    print(df.dtypes)\n",
        "    print(f\"*************** First {row_num} Rows ***************\")\n",
        "    print(df.head(row_num))\n",
        "    print(f\"*************** Last {row_num} Rows ***************\")\n",
        "    print(df.tail(row_num))\n",
        "    print(\"*************** Summary Statistics of The Dataset ***************\")\n",
        "    print(df.describe().T)\n",
        "    print(\"*************** Dataset Missing Values Analysis ***************\")\n",
        "    print(df.isnull().sum())\n",
        "\n",
        "\n",
        "check_dataframe(df, 10)\n"
      ],
      "metadata": {
        "id": "U1MLRddVLt0J"
      },
      "execution_count": null,
      "outputs": []
    },
    {
      "cell_type": "code",
      "source": [
        "# 3. Omnichannel müşterilerin hem online'dan hemde offline platformlardan alışveriş yaptığını ifade etmektedir.\n",
        "# Herbir müşterinin toplam alışveriş sayısı ve harcaması için yeni değişkenler oluşturunuz.\n",
        "df[\"order_num_total_ever_omnichannel\"] = df['order_num_total_ever_online'] + df['order_num_total_ever_offline']\n",
        "df[\"customer_value_total_ever_omnichannel\"] = df['customer_value_total_ever_offline'] + df['customer_value_total_ever_online']\n"
      ],
      "metadata": {
        "id": "8_Y45StzMg7k"
      },
      "execution_count": null,
      "outputs": []
    },
    {
      "cell_type": "code",
      "source": [
        "# 4. Değişken tiplerini inceleyiniz. Tarih ifade eden değişkenlerin tipini date'e çeviriniz.\n",
        "\n",
        "\n",
        "# df[\"last_order_date\"] = df[\"last_order_date\"].apply(pd.to_datetime)\n",
        "df[df.filter(like='_date').columns] = df[df.filter(like='_date').columns].apply(pd.to_datetime)\n",
        "df.dtypes\n",
        "\n"
      ],
      "metadata": {
        "id": "5A7-aBvqMmlj"
      },
      "execution_count": null,
      "outputs": []
    },
    {
      "cell_type": "code",
      "source": [
        "# 5. Alışveriş kanallarındaki müşteri sayısının, toplam alınan ürün sayısı ve toplam harcamaların dağılımına bakınız.\n",
        "df.groupby(\"order_channel\")[['order_num_total_ever_omnichannel','customer_value_total_ever_omnichannel']].sum()\n"
      ],
      "metadata": {
        "id": "hmAuSF7kMqQs"
      },
      "execution_count": null,
      "outputs": []
    },
    {
      "cell_type": "code",
      "source": [
        "# 6. En fazla kazancı getiren ilk 10 müşteriyi sıralayınız.\n",
        "df.sort_values('customer_value_total_ever_omnichannel', ascending=False).head(10)\n"
      ],
      "metadata": {
        "id": "KFjJiqkMMtiU"
      },
      "execution_count": null,
      "outputs": []
    },
    {
      "cell_type": "code",
      "source": [
        "# 7. En fazla siparişi veren ilk 10 müşteriyi sıralayınız.\n",
        "df.sort_values('order_num_total_ever_omnichannel', ascending=False).head(10)\n"
      ],
      "metadata": {
        "id": "B_6dWN94MwLx"
      },
      "execution_count": null,
      "outputs": []
    },
    {
      "cell_type": "code",
      "source": [
        "# 8. Veri ön hazırlık sürecini fonksiyonlaştırınız.\n",
        "def data_preprocessing(data):\n",
        "    check_dataframe(df, 10)\n",
        "    data[\"order_num_total_ever_omnichannel\"] = data['order_num_total_ever_online'] + data['order_num_total_ever_offline']\n",
        "    data[\"customer_value_total_ever_omnichannel\"] = data['customer_value_total_ever_offline'] + data[\n",
        "        'customer_value_total_ever_online']\n",
        "    data[data.filter(like='_date').columns] = data[data.filter(like='_date').columns].apply(pd.to_datetime)\n",
        "    return data\n",
        "\n",
        "df = df_.copy()\n",
        "df = data_preprocessing(df)\n"
      ],
      "metadata": {
        "id": "igwH3sVvMyPp"
      },
      "execution_count": null,
      "outputs": []
    },
    {
      "cell_type": "code",
      "source": [
        "###############################################################\n",
        "# GÖREV 2: RFM Metriklerinin Hesaplanması\n",
        "###############################################################\n",
        "\n",
        "# Veri setindeki en son alışverişin yapıldığı tarihten 2 gün sonrasını analiz tarihi\n",
        "analyze_date = df[\"last_order_date\"].max() + dt.timedelta(days=2)\n",
        "\n",
        "\n",
        "# customer_id, recency, frequnecy ve monetary değerlerinin yer aldığı yeni bir rfm dataframe\n",
        "rfm = df.groupby('master_id').agg({'last_order_date': lambda last_order_date: (analyze_date - last_order_date.max()).days,\n",
        "                                     'order_num_total_ever_omnichannel': lambda order_num: order_num.nunique(),\n",
        "                                     'customer_value_total_ever_omnichannel': lambda customer_value: customer_value.sum()})\n",
        "rfm.head()\n",
        "\n",
        "rfm.columns = ['recency', 'frequency', 'monetary']\n",
        "\n",
        "rfm.describe().T\n"
      ],
      "metadata": {
        "id": "ebt13aJPNEM4"
      },
      "execution_count": null,
      "outputs": []
    },
    {
      "cell_type": "code",
      "source": [
        "###############################################################\n",
        "# GÖREV 3: RF ve RFM Skorlarının Hesaplanması (Calculating RF and RFM Scores)\n",
        "###############################################################\n",
        "\n",
        "#  Recency, Frequency ve Monetary metriklerini qcut yardımı ile 1-5 arasında skorlara çevrilmesi ve\n",
        "# Bu skorları recency_score, frequency_score ve monetary_score olarak kaydedilmesi\n",
        "\n",
        "rfm[\"recency_score\"] = pd.qcut(rfm['recency'], 5, labels=[5, 4, 3, 2, 1])\n",
        "\n",
        "rfm[\"frequency_score\"] = pd.qcut(rfm['frequency'].rank(method=\"first\"), 5, labels=[1, 2, 3, 4, 5])\n",
        "\n",
        "rfm[\"monetary_score\"] = pd.qcut(rfm['monetary'], 5, labels=[1, 2, 3, 4, 5])\n",
        "\n",
        "# recency_score ve frequency_score’u tek bir değişken olarak ifade edilmesi ve RF_SCORE olarak kaydedilmesi\n",
        "rfm[\"RF_SCORE\"] = (rfm['recency_score'].astype(str) +\n",
        "                    rfm['frequency_score'].astype(str))\n"
      ],
      "metadata": {
        "id": "38r5Xk5WNh8M"
      },
      "execution_count": null,
      "outputs": []
    },
    {
      "cell_type": "code",
      "source": [
        "###############################################################\n",
        "# GÖREV 4: RF Skorlarının Segment Olarak Tanımlanması\n",
        "###############################################################\n",
        "\n",
        "# Oluşturulan RFM skorların daha açıklanabilir olması için segment tanımlama ve  tanımlanan seg_map yardımı ile RF_SCORE'u segmentlere çevirme\n",
        "seg_map = {\n",
        "    r'[1-2][1-2]': 'hibernating',\n",
        "    r'[1-2][3-4]': 'at_Risk',\n",
        "    r'[1-2]5': 'cant_loose',\n",
        "    r'3[1-2]': 'about_to_sleep',\n",
        "    r'33': 'need_attention',\n",
        "    r'[3-4][4-5]': 'loyal_customers',\n",
        "    r'41': 'promising',\n",
        "    r'51': 'new_customers',\n",
        "    r'[4-5][2-3]': 'potential_loyalists',\n",
        "    r'5[4-5]': 'champions'\n",
        "}\n",
        "\n",
        "rfm['segment'] = rfm['RF_SCORE'].replace(seg_map, regex=True)\n"
      ],
      "metadata": {
        "id": "Zg4I6NhFNk-S"
      },
      "execution_count": null,
      "outputs": []
    },
    {
      "cell_type": "code",
      "source": [
        "###############################################################\n",
        "# GÖREV 5: Aksiyon zamanı!\n",
        "###############################################################\n",
        "\n",
        "# 1. Segmentlerin recency, frequnecy ve monetary ortalamalarını inceleyiniz.\n",
        "rfm[[\"segment\", \"recency\", \"frequency\", \"monetary\"]].groupby(\"segment\").agg([\"mean\", \"count\"])\n"
      ],
      "metadata": {
        "id": "ra5-yzH-NoJm"
      },
      "execution_count": null,
      "outputs": []
    },
    {
      "cell_type": "code",
      "source": [
        "# 2. RFM analizi yardımı ile 2 case için ilgili profildeki müşterileri bulunuz ve müşteri id'lerini csv ye kaydediniz.\n",
        "\n",
        "# a. FLO bünyesine yeni bir kadın ayakkabı markası dahil ediyor. Dahil ettiği markanın ürün fiyatları genel müşteri tercihlerinin üstünde. Bu nedenle markanın\n",
        "# tanıtımı ve ürün satışları için ilgilenecek profildeki müşterilerle özel olarak iletişime geçeilmek isteniliyor. Sadık müşterilerinden(champions,loyal_customers),\n",
        "# ortalama 250 TL üzeri ve kadın kategorisinden alışveriş yapan kişiler özel olarak iletişim kuralacak müşteriler. Bu müşterilerin id numaralarını csv dosyasına\n",
        "# yeni_marka_hedef_müşteri_id.cvs olarak kaydediniz.\n",
        "new_df = df.merge(rfm, on=\"master_id\")\n",
        "new_df = new_df[(new_df[\"segment\"].isin([\"champions\", \"loyal_customers\"])) &\n",
        "            (new_df[\"monetary\"] / new_df[\"frequency\"] > 250) &\n",
        "            (new_df[\"interested_in_categories_12\"].str.contains(\"KADIN\"))]\n",
        "\n",
        "new_df[\"master_id\"].to_csv(\"src/crmAnalytics/datasets/yeni_marka_hedef_müşteri_id.csv\", index=False)\n"
      ],
      "metadata": {
        "id": "mdVy1OXqNrsn"
      },
      "execution_count": null,
      "outputs": []
    },
    {
      "cell_type": "code",
      "source": [
        "# b. Erkek ve Çoçuk ürünlerinde %40'a yakın indirim planlanmaktadır. Bu indirimle ilgili kategorilerle ilgilenen geçmişte iyi müşteri olan ama uzun süredir\n",
        "# alışveriş yapmayan kaybedilmemesi gereken müşteriler, uykuda olanlar ve yeni gelen müşteriler özel olarak hedef alınmak isteniliyor. Uygun profildeki müşterilerin id'lerini csv dosyasına indirim_hedef_müşteri_ids.csv\n",
        "# olarak kaydediniz.\n",
        "new_df = df.merge(rfm, on=\"master_id\")\n",
        "new_df = new_df[(new_df[\"segment\"].isin([\"cant_loose\",\"about_to_sleep\",\"new_customers\"]))]\n",
        "new_df[\"master_id\"].to_csv(\"src/crmAnalytics/datasets/indirim_hedef_müşteri_ids.csv\", index=False)\n",
        "\n"
      ],
      "metadata": {
        "id": "0_hW6PDwNuqH"
      },
      "execution_count": null,
      "outputs": []
    }
  ]
}
