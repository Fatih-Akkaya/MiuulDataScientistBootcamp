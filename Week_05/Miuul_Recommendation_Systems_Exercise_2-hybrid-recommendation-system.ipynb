{
  "metadata": {
    "kernelspec": {
      "language": "python",
      "display_name": "Python 3",
      "name": "python3"
    },
    "language_info": {
      "name": "python",
      "version": "3.10.12",
      "mimetype": "text/x-python",
      "codemirror_mode": {
        "name": "ipython",
        "version": 3
      },
      "pygments_lexer": "ipython3",
      "nbconvert_exporter": "python",
      "file_extension": ".py"
    }
  },
  "nbformat_minor": 4,
  "nbformat": 4,
  "cells": [
    {
      "cell_type": "markdown",
      "source": "# PROJE: Hybrid Recommender System\n\n* ID'si verilen kullanıcı için item-based ve user-based recomennder yöntemlerini kullanarak tahmin yapınız.\n* 5 öneri user-based modelden 5 öneri de item-based modelden ele alınız ve nihai olarak 10 öneriyi 2 modelden yapınız.",
      "metadata": {}
    },
    {
      "cell_type": "markdown",
      "source": "# Görev 1: Verinin Hazırlanması",
      "metadata": {}
    },
    {
      "cell_type": "code",
      "source": "# Adım 1: Movie ve Rating veri setlerini okutunuz.\n\nimport numpy as np \nimport pandas as pd \n\npd.set_option('display.max_columns', None)\npd.set_option('display.width', 500)\npd.set_option('display.expand_frame_repr', False)\n\ndef missing_values_analysis(data):\n    na_columns = [col for col in data.columns if data[col].isnull().sum() > 0]\n    n_miss = data[na_columns].isnull().sum().sort_values(ascending=True)\n    ratio = (data[na_columns].isnull().sum() / data.shape[0] * 100).sort_values(ascending=True)\n    missing_df = pd.concat([n_miss, np.round(ratio, 2)], axis=1, keys=['Total Missing Values', 'Ratio'])\n    missing_df = pd.DataFrame(missing_df)\n    return missing_df\n\ndef check_df(data, row_num=5, col_num=10):\n    print(\"*************** Dataset Shape ***************\")\n    print(\"No. of Rows:\", data.shape[0], \"\\nNo. of Columns:\", data.shape[1])\n    print(\"*************** Dataset Information ***************\")\n    print(data.info())\n    print(\"*************** Types of Columns ***************\")\n    print(data.dtypes)\n    print(f\"*************** First {row_num} Rows ***************\")\n    print(data.iloc[:row_num,:col_num])\n    print(f\"*************** Last {row_num} Rows ***************\")\n    print(data.iloc[-row_num:,:col_num])\n    print(\"*************** Summary Statistics of The Dataset ***************\")\n    print(data.describe([0.10, 0.25, 0.50, 0.70, 0.80, 0.90, 0.95, 0.99]).T)\n    print(\"*************** Dataset Missing Values Analysis ***************\")\n    print(missing_values_analysis(data))\n\n# movieId, film adı ve filmin tür bilgilerini içeren veri seti\nmovie = pd.read_csv('/kaggle/input/the-movie-dataset/movie.csv')\n# UserID, movieId, filme verilen oy ve zaman bilgisini içeren veri seti\nrating = pd.read_csv('/kaggle/input/the-movie-dataset/rating.csv')\n\n",
      "metadata": {
        "_uuid": "8f2839f25d086af736a60e9eeb907d3b93b6e0e5",
        "_cell_guid": "b1076dfc-b9ad-4769-8c92-a6c4dae69d19",
        "execution": {
          "iopub.status.busy": "2023-10-31T20:58:43.331399Z",
          "iopub.execute_input": "2023-10-31T20:58:43.331809Z",
          "iopub.status.idle": "2023-10-31T20:59:10.451349Z",
          "shell.execute_reply.started": "2023-10-31T20:58:43.331776Z",
          "shell.execute_reply": "2023-10-31T20:59:10.450293Z"
        },
        "trusted": true
      },
      "execution_count": 1,
      "outputs": []
    },
    {
      "cell_type": "code",
      "source": "\n# Adım 2: Rating veri setine filmlerin isimlerini ve türünü movie film setini kullanrak ekleyiniz.\n# Ratingdeki kullanıcıların oy kullandıkları filmlerin sadece id'si var.\n# Idlere ait film isimlerini ve türünü movie veri setinden ekliyoruz.\n\ndf = rating.merge(movie, how=\"left\", on=\"movieId\")\ncheck_df(df)\n\n",
      "metadata": {
        "execution": {
          "iopub.status.busy": "2023-10-31T20:59:32.593873Z",
          "iopub.execute_input": "2023-10-31T20:59:32.594248Z",
          "iopub.status.idle": "2023-10-31T20:59:45.497317Z",
          "shell.execute_reply.started": "2023-10-31T20:59:32.594221Z",
          "shell.execute_reply": "2023-10-31T20:59:45.496118Z"
        },
        "trusted": true
      },
      "execution_count": 2,
      "outputs": [
        {
          "name": "stdout",
          "text": "*************** Dataset Shape ***************\nNo. of Rows: 20000263 \nNo. of Columns: 6\n*************** Dataset Information ***************\n<class 'pandas.core.frame.DataFrame'>\nRangeIndex: 20000263 entries, 0 to 20000262\nData columns (total 6 columns):\n #   Column     Dtype  \n---  ------     -----  \n 0   userId     int64  \n 1   movieId    int64  \n 2   rating     float64\n 3   timestamp  object \n 4   title      object \n 5   genres     object \ndtypes: float64(1), int64(2), object(3)\nmemory usage: 915.5+ MB\nNone\n*************** Types of Columns ***************\nuserId         int64\nmovieId        int64\nrating       float64\ntimestamp     object\ntitle         object\ngenres        object\ndtype: object\n*************** First 5 Rows ***************\n   userId  movieId  rating            timestamp                                              title                                  genres\n0       1        2     3.5  2005-04-02 23:53:47                                     Jumanji (1995)              Adventure|Children|Fantasy\n1       1       29     3.5  2005-04-02 23:31:16  City of Lost Children, The (Cité des enfants p...  Adventure|Drama|Fantasy|Mystery|Sci-Fi\n2       1       32     3.5  2005-04-02 23:33:39          Twelve Monkeys (a.k.a. 12 Monkeys) (1995)                 Mystery|Sci-Fi|Thriller\n3       1       47     3.5  2005-04-02 23:32:07                        Seven (a.k.a. Se7en) (1995)                        Mystery|Thriller\n4       1       50     3.5  2005-04-02 23:29:40                         Usual Suspects, The (1995)                  Crime|Mystery|Thriller\n*************** Last 5 Rows ***************\n          userId  movieId  rating            timestamp                                          title                                             genres\n20000258  138493    68954     4.5  2009-11-13 15:42:00                                      Up (2009)                 Adventure|Animation|Children|Drama\n20000259  138493    69526     4.5  2009-12-03 18:31:48     Transformers: Revenge of the Fallen (2009)                       Action|Adventure|Sci-Fi|IMAX\n20000260  138493    69644     3.0  2009-12-07 18:10:57          Ice Age: Dawn of the Dinosaurs (2009)  Action|Adventure|Animation|Children|Comedy|Rom...\n20000261  138493    70286     5.0  2009-11-13 15:42:24                              District 9 (2009)                            Mystery|Sci-Fi|Thriller\n20000262  138493    71619     2.5  2009-10-17 20:25:36  Coco Before Chanel (Coco avant Chanel) (2009)                                              Drama\n*************** Summary Statistics of The Dataset ***************\n              count          mean           std  min      10%      25%      50%      70%       80%       90%       95%       99%       max\nuserId   20000263.0  69045.872583  40038.626653  1.0  13568.0  34395.0  69141.0  96703.0  110725.0  124479.0  131467.0  137061.0  138493.0\nmovieId  20000263.0   9041.567330  19789.477445  1.0    296.0    902.0   2167.0   3950.0    5872.0   33794.0   59103.0   94070.0  131262.0\nrating   20000263.0      3.525529      1.051989  0.5      2.0      3.0      3.5      4.0       4.5       5.0       5.0       5.0       5.0\n*************** Dataset Missing Values Analysis ***************\nEmpty DataFrame\nColumns: [Total Missing Values, Ratio]\nIndex: []\n",
          "output_type": "stream"
        }
      ]
    },
    {
      "cell_type": "code",
      "source": "# Adım 3: Herbir film için toplam kaç kişinin oy kullandığını hesaplayınız.Toplam oy kullanılma sayısı 1000'un altında olan filmleri veri setinden çıkarınız.\n# Herbir film için toplam kaç kişinin oy kullanıldığını hesaplıyoruz.\ncomment_counts = pd.DataFrame(df[\"title\"].value_counts())\n\n# Toplam oy kullanılma sayısı 1000'in altında olan filmlerin isimlerini rare_movies de tutuyoruz.\n# Ve veri setinden çıkartıyoruz\nrare_movies = comment_counts[comment_counts[\"count\"] <= 1000].index\ncommon_movies = df[~df[\"title\"].isin(rare_movies)]\n\n",
      "metadata": {
        "_kg_hide-output": false,
        "execution": {
          "iopub.status.busy": "2023-10-31T21:22:51.411184Z",
          "iopub.execute_input": "2023-10-31T21:22:51.411713Z",
          "iopub.status.idle": "2023-10-31T21:22:58.663512Z",
          "shell.execute_reply.started": "2023-10-31T21:22:51.411671Z",
          "shell.execute_reply": "2023-10-31T21:22:58.662510Z"
        },
        "trusted": true
      },
      "execution_count": 5,
      "outputs": []
    },
    {
      "cell_type": "code",
      "source": "# Adım 4: # index'te userID'lerin sutunlarda film isimlerinin ve değer olarakta ratinglerin bulunduğu\n# dataframe için pivot table oluşturunuz.\nuser_movie_df = common_movies.pivot_table(index=[\"userId\"], columns=[\"title\"], values=\"rating\")\n\n\n",
      "metadata": {
        "execution": {
          "iopub.status.busy": "2023-10-31T21:22:58.665270Z",
          "iopub.execute_input": "2023-10-31T21:22:58.665564Z",
          "iopub.status.idle": "2023-10-31T21:23:29.070397Z",
          "shell.execute_reply.started": "2023-10-31T21:22:58.665539Z",
          "shell.execute_reply": "2023-10-31T21:23:29.069330Z"
        },
        "trusted": true
      },
      "execution_count": 6,
      "outputs": []
    },
    {
      "cell_type": "code",
      "source": "# Adım 5: Yukarıda yapılan tüm işlemleri fonksiyonlaştıralım\ndef create_user_movie_df(dataframe):\n    comment_counts = pd.DataFrame(dataframe[\"title\"].value_counts())\n    rare_movies = comment_counts[comment_counts[\"count\"] <= 1000].index\n    common_movies = dataframe[~dataframe[\"title\"].isin(rare_movies)]\n    user_movie_df = common_movies.pivot_table(index=[\"userId\"], columns=[\"title\"], values=\"rating\")\n    return user_movie_df, rare_movies",
      "metadata": {
        "execution": {
          "iopub.status.busy": "2023-10-31T21:23:33.035019Z",
          "iopub.execute_input": "2023-10-31T21:23:33.035403Z",
          "iopub.status.idle": "2023-10-31T21:23:33.042530Z",
          "shell.execute_reply.started": "2023-10-31T21:23:33.035376Z",
          "shell.execute_reply": "2023-10-31T21:23:33.041189Z"
        },
        "trusted": true
      },
      "execution_count": 7,
      "outputs": []
    },
    {
      "cell_type": "markdown",
      "source": "# Görev 2: Öneri Yapılacak Kullanıcının İzlediği Filmlerin Belirlenmesi",
      "metadata": {}
    },
    {
      "cell_type": "code",
      "source": "# Adım 1: Rastgele bir kullanıcı id'si seçiniz.\nrandom_user = int(pd.Series(user_movie_df.index).sample(1, random_state=42).values)\n",
      "metadata": {
        "execution": {
          "iopub.status.busy": "2023-10-31T21:23:52.121507Z",
          "iopub.execute_input": "2023-10-31T21:23:52.121934Z",
          "iopub.status.idle": "2023-10-31T21:23:52.134291Z",
          "shell.execute_reply.started": "2023-10-31T21:23:52.121898Z",
          "shell.execute_reply": "2023-10-31T21:23:52.133066Z"
        },
        "trusted": true
      },
      "execution_count": 8,
      "outputs": []
    },
    {
      "cell_type": "code",
      "source": "# Adım 2: Seçilen kullanıcıya ait gözlem birimlerinden oluşan random_user_df adında yeni bir dataframe oluşturunuz.\nrandom_user_df = user_movie_df[user_movie_df.index == random_user]",
      "metadata": {
        "execution": {
          "iopub.status.busy": "2023-10-31T21:24:21.864992Z",
          "iopub.execute_input": "2023-10-31T21:24:21.865359Z",
          "iopub.status.idle": "2023-10-31T21:24:21.872582Z",
          "shell.execute_reply.started": "2023-10-31T21:24:21.865332Z",
          "shell.execute_reply": "2023-10-31T21:24:21.871465Z"
        },
        "trusted": true
      },
      "execution_count": 10,
      "outputs": []
    },
    {
      "cell_type": "code",
      "source": "# Adım 3: Seçilen kullanıcının oy kullandığı filmleri movies_watched adında bir listeye atayınız.\nmovies_watched = random_user_df.columns[random_user_df.notna().any()].tolist() # select watched and rated movie by random_user\n",
      "metadata": {
        "execution": {
          "iopub.status.busy": "2023-10-31T21:24:25.996144Z",
          "iopub.execute_input": "2023-10-31T21:24:25.996506Z",
          "iopub.status.idle": "2023-10-31T21:24:26.004029Z",
          "shell.execute_reply.started": "2023-10-31T21:24:25.996480Z",
          "shell.execute_reply": "2023-10-31T21:24:26.002606Z"
        },
        "trusted": true
      },
      "execution_count": 11,
      "outputs": []
    },
    {
      "cell_type": "markdown",
      "source": "# Görev 3: Aynı Filmleri İzleyen Diğer Kullanıcıların Verisine ve Id'lerine Erişmek",
      "metadata": {}
    },
    {
      "cell_type": "code",
      "source": "# Adım 1: Seçilen kullanıcının izlediği fimlere ait sutunları user_movie_df'ten seçiniz ve movies_watched_df adında yeni bir dataframe oluşturuyoruz.\nmovies_watched_df = user_movie_df[movies_watched]\n\n",
      "metadata": {
        "execution": {
          "iopub.status.busy": "2023-10-31T21:24:48.484949Z",
          "iopub.execute_input": "2023-10-31T21:24:48.485325Z",
          "iopub.status.idle": "2023-10-31T21:24:48.523610Z",
          "shell.execute_reply.started": "2023-10-31T21:24:48.485298Z",
          "shell.execute_reply": "2023-10-31T21:24:48.522162Z"
        },
        "trusted": true
      },
      "execution_count": 12,
      "outputs": []
    },
    {
      "cell_type": "code",
      "source": "# Adım 2: Herbir kullancının seçili user'in izlediği filmlerin kaçını izlediği bilgisini taşıyan user_movie_count adında yeni bir dataframe oluşturunuz.\n# Ve yeni bir df oluşturuyoruz.\nuser_movie_count = movies_watched_df.T.notnull().sum().reset_index()\nuser_movie_count.columns = [\"userId\", \"movie_count\"]\n\n",
      "metadata": {
        "execution": {
          "iopub.status.busy": "2023-10-31T21:25:27.122612Z",
          "iopub.execute_input": "2023-10-31T21:25:27.123028Z",
          "iopub.status.idle": "2023-10-31T21:25:27.190437Z",
          "shell.execute_reply.started": "2023-10-31T21:25:27.122997Z",
          "shell.execute_reply": "2023-10-31T21:25:27.189503Z"
        },
        "trusted": true
      },
      "execution_count": 13,
      "outputs": []
    },
    {
      "cell_type": "code",
      "source": "# Adım 3: Seçilen kullanıcının oy verdiği filmlerin yüzde 60 ve üstünü izleyenleri benzer kullanıcılar olarak görüyoruz.\n# Bu kullanıcıların id’lerinden users_same_movies adında bir liste oluşturunuz.\nperc = len(movies_watched) * 60 / 100\nusers_same_movies = user_movie_count[user_movie_count[\"movie_count\"] > perc][\"userId\"] #select other users who watched same movies\n\n\n",
      "metadata": {
        "execution": {
          "iopub.status.busy": "2023-10-31T21:25:41.376898Z",
          "iopub.execute_input": "2023-10-31T21:25:41.377264Z",
          "iopub.status.idle": "2023-10-31T21:25:41.385284Z",
          "shell.execute_reply.started": "2023-10-31T21:25:41.377237Z",
          "shell.execute_reply": "2023-10-31T21:25:41.384185Z"
        },
        "trusted": true
      },
      "execution_count": 14,
      "outputs": []
    },
    {
      "cell_type": "markdown",
      "source": "# Görev 4: Öneri Yapılacak Kullanıcı ile En Benzer Kullanıcıların Belirlenmesi",
      "metadata": {}
    },
    {
      "cell_type": "code",
      "source": "# Adım 1: user_same_movies listesi içerisindeki seçili user ile benzerlik gösteren kullanıcıların id’lerinin bulunacağı şekilde movies_watched_df dataframe’ini filtreleyiniz.\n\nfinal_df = pd.concat([movies_watched_df[movies_watched_df.index.isin(users_same_movies)],\n                          random_user_df[movies_watched]])\n\n",
      "metadata": {
        "execution": {
          "iopub.status.busy": "2023-10-31T21:27:50.668849Z",
          "iopub.execute_input": "2023-10-31T21:27:50.669629Z",
          "iopub.status.idle": "2023-10-31T21:27:50.682668Z",
          "shell.execute_reply.started": "2023-10-31T21:27:50.669591Z",
          "shell.execute_reply": "2023-10-31T21:27:50.681621Z"
        },
        "trusted": true
      },
      "execution_count": 15,
      "outputs": []
    },
    {
      "cell_type": "code",
      "source": "# Adım 2: Kullanıcıların birbirleri ile olan korelasyonlarının bulunacağı yeni bir corr_df dataframe’i oluşturunuz.\n\ncorr_df = final_df.T.corr().unstack().sort_values().drop_duplicates()\ncorr_df = pd.DataFrame(corr_df, columns=[\"corr\"])\ncorr_df.index.names = ['user_id_1', 'user_id_2']\ncorr_df = corr_df.reset_index()\n\n",
      "metadata": {
        "execution": {
          "iopub.status.busy": "2023-10-31T21:28:17.420384Z",
          "iopub.execute_input": "2023-10-31T21:28:17.420759Z",
          "iopub.status.idle": "2023-10-31T21:28:18.948670Z",
          "shell.execute_reply.started": "2023-10-31T21:28:17.420717Z",
          "shell.execute_reply": "2023-10-31T21:28:18.947774Z"
        },
        "trusted": true
      },
      "execution_count": 16,
      "outputs": []
    },
    {
      "cell_type": "code",
      "source": "# Adım 3: Seçili kullanıcı ile yüksek korelasyona sahip (0.65’in üzerinde olan) kullanıcıları filtreleyerek top_users adında yeni bir dataframe oluşturunuz.\n#corr_df[corr_df[\"user_id_1\"] == random_user]\ntop_users = corr_df[(corr_df[\"user_id_1\"] == random_user) & (corr_df[\"corr\"] >= 0.65)][\n        [\"user_id_2\", \"corr\"]].reset_index(drop=True) # select similar users have correlation over cor_th on random_user\n\ntop_users = top_users.sort_values(by='corr', ascending=False)\ntop_users.rename(columns={\"user_id_2\": \"userId\"}, inplace=True)\n",
      "metadata": {
        "execution": {
          "iopub.status.busy": "2023-10-31T21:29:27.647591Z",
          "iopub.execute_input": "2023-10-31T21:29:27.647963Z",
          "iopub.status.idle": "2023-10-31T21:29:27.664538Z",
          "shell.execute_reply.started": "2023-10-31T21:29:27.647936Z",
          "shell.execute_reply": "2023-10-31T21:29:27.663041Z"
        },
        "trusted": true
      },
      "execution_count": 17,
      "outputs": []
    },
    {
      "cell_type": "code",
      "source": "# Adım 4:  top_users dataframe’ine rating veri seti ile merge ediniz\ntop_users_ratings = top_users.merge(rating[[\"userId\", \"movieId\", \"rating\"]], how='inner')\n",
      "metadata": {
        "execution": {
          "iopub.status.busy": "2023-10-31T21:29:31.192366Z",
          "iopub.execute_input": "2023-10-31T21:29:31.192727Z",
          "iopub.status.idle": "2023-10-31T21:29:32.381255Z",
          "shell.execute_reply.started": "2023-10-31T21:29:31.192701Z",
          "shell.execute_reply": "2023-10-31T21:29:32.380113Z"
        },
        "trusted": true
      },
      "execution_count": 18,
      "outputs": []
    },
    {
      "cell_type": "markdown",
      "source": "# Görev 5: Weighted Average Recommendation Score'un Hesaplanması ve İlk 5 Filmin Tutulması",
      "metadata": {}
    },
    {
      "cell_type": "code",
      "source": "# Adım 1: Her bir kullanıcının corr ve rating değerlerinin çarpımından oluşan weighted_rating adında yeni bir değişken oluşturunuz.\ntop_users_ratings['weighted_rating'] = top_users_ratings['corr'] * top_users_ratings['rating'] # calculate rating*corr score\n\n",
      "metadata": {
        "execution": {
          "iopub.status.busy": "2023-10-31T21:29:49.162841Z",
          "iopub.execute_input": "2023-10-31T21:29:49.163209Z",
          "iopub.status.idle": "2023-10-31T21:29:49.170881Z",
          "shell.execute_reply.started": "2023-10-31T21:29:49.163181Z",
          "shell.execute_reply": "2023-10-31T21:29:49.169480Z"
        },
        "trusted": true
      },
      "execution_count": 19,
      "outputs": []
    },
    {
      "cell_type": "code",
      "source": "# Adım 2: Film id’sive her bir filme ait tüm kullanıcıların weighted rating’lerinin ortalama değerini içeren recommendation_df adında yeni bir\n# dataframe oluşturunuz.\nrecommendation_df = top_users_ratings.groupby('movieId').agg({\"weighted_rating\": \"mean\"})\nrecommendation_df = recommendation_df.reset_index()\n\n",
      "metadata": {
        "execution": {
          "iopub.status.busy": "2023-10-31T21:29:53.560785Z",
          "iopub.execute_input": "2023-10-31T21:29:53.562093Z",
          "iopub.status.idle": "2023-10-31T21:29:53.571034Z",
          "shell.execute_reply.started": "2023-10-31T21:29:53.562047Z",
          "shell.execute_reply": "2023-10-31T21:29:53.569594Z"
        },
        "trusted": true
      },
      "execution_count": 20,
      "outputs": []
    },
    {
      "cell_type": "code",
      "source": "# Adım 3: recommendation_df içerisinde weighted rating'i 3.5'ten büyük olan filmleri seçiniz ve weighted rating’e göre sıralayınız.\n# İlk 5 gözlemi movies_to_be_recommend olarak kaydediniz.\nmovies_to_be_recommend = recommendation_df[recommendation_df[\"weighted_rating\"] > 3.5].sort_values(\"weighted_rating\", ascending=False).head(5)\nmovies_to_be_recommend = movies_to_be_recommend.merge(movie[[\"movieId\", \"title\"]])",
      "metadata": {
        "execution": {
          "iopub.status.busy": "2023-10-31T21:30:12.695180Z",
          "iopub.execute_input": "2023-10-31T21:30:12.695554Z",
          "iopub.status.idle": "2023-10-31T21:30:12.716613Z",
          "shell.execute_reply.started": "2023-10-31T21:30:12.695527Z",
          "shell.execute_reply": "2023-10-31T21:30:12.715526Z"
        },
        "trusted": true
      },
      "execution_count": 21,
      "outputs": []
    },
    {
      "cell_type": "code",
      "source": "# Adım 4:  Tavsiye edilen 5 filmin isimlerini getiriniz.\n\nprint(movies_to_be_recommend['title'].values.tolist())\n\n\n",
      "metadata": {
        "execution": {
          "iopub.status.busy": "2023-10-31T21:30:47.217921Z",
          "iopub.execute_input": "2023-10-31T21:30:47.218577Z",
          "iopub.status.idle": "2023-10-31T21:30:47.224753Z",
          "shell.execute_reply.started": "2023-10-31T21:30:47.218545Z",
          "shell.execute_reply": "2023-10-31T21:30:47.223575Z"
        },
        "trusted": true
      },
      "execution_count": 22,
      "outputs": [
        {
          "name": "stdout",
          "text": "['Hoop Dreams (1994)', 'True Romance (1993)', 'Usual Suspects, The (1995)', 'Braveheart (1995)', 'Shawshank Redemption, The (1994)']\n",
          "output_type": "stream"
        }
      ]
    },
    {
      "cell_type": "markdown",
      "source": "# Görev 6: Item-Based Recommendation",
      "metadata": {}
    },
    {
      "cell_type": "code",
      "source": "# Kullanıcının en son izlediği ve en yüksek puan verdiği filmin adına göre item-based öneri yapınız.\nuser = 108170\n\n# Adım 1: movie,rating veri setlerini okutunuz.\n\nprint(movie.head())\nprint(rating.head())",
      "metadata": {
        "execution": {
          "iopub.status.busy": "2023-10-31T21:31:42.696575Z",
          "iopub.execute_input": "2023-10-31T21:31:42.696985Z",
          "iopub.status.idle": "2023-10-31T21:31:42.707445Z",
          "shell.execute_reply.started": "2023-10-31T21:31:42.696954Z",
          "shell.execute_reply": "2023-10-31T21:31:42.706487Z"
        },
        "trusted": true
      },
      "execution_count": 25,
      "outputs": [
        {
          "name": "stdout",
          "text": "   movieId                               title                                       genres\n0        1                    Toy Story (1995)  Adventure|Animation|Children|Comedy|Fantasy\n1        2                      Jumanji (1995)                   Adventure|Children|Fantasy\n2        3             Grumpier Old Men (1995)                               Comedy|Romance\n3        4            Waiting to Exhale (1995)                         Comedy|Drama|Romance\n4        5  Father of the Bride Part II (1995)                                       Comedy\n   userId  movieId  rating            timestamp\n0       1        2     3.5  2005-04-02 23:53:47\n1       1       29     3.5  2005-04-02 23:31:16\n2       1       32     3.5  2005-04-02 23:33:39\n3       1       47     3.5  2005-04-02 23:32:07\n4       1       50     3.5  2005-04-02 23:29:40\n",
          "output_type": "stream"
        }
      ]
    },
    {
      "cell_type": "code",
      "source": "# Adım 2: Öneri yapılacak kullanıcının 5 puan verdiği filmlerden puanı en güncel olan filmin id'sinin alınız.\nmovie_id = rating[(rating[\"userId\"] == user) & (rating[\"rating\"]== 5)].sort_values(\"timestamp\", ascending=False)['movieId'].values[0]\nmovie_name = movie[movie['movieId']==movie_id]['title'].values[0]",
      "metadata": {
        "execution": {
          "iopub.status.busy": "2023-10-31T21:32:59.566368Z",
          "iopub.execute_input": "2023-10-31T21:32:59.566795Z",
          "iopub.status.idle": "2023-10-31T21:32:59.692778Z",
          "shell.execute_reply.started": "2023-10-31T21:32:59.566737Z",
          "shell.execute_reply": "2023-10-31T21:32:59.691844Z"
        },
        "trusted": true
      },
      "execution_count": 26,
      "outputs": []
    },
    {
      "cell_type": "code",
      "source": "# Adım 3 :User based recommendation bölümünde oluşturulan user_movie_df dataframe’ini seçilen film id’sine göre filtreleyiniz.\nmovie_df = user_movie_df[movie_name]\n\n",
      "metadata": {
        "trusted": true
      },
      "execution_count": 28,
      "outputs": [
        {
          "execution_count": 28,
          "output_type": "execute_result",
          "data": {
            "text/plain": "userId\n1        NaN\n2        NaN\n3        NaN\n4        NaN\n5        NaN\n          ..\n138489   NaN\n138490   NaN\n138491   NaN\n138492   NaN\n138493   NaN\nName: Wild at Heart (1990), Length: 138493, dtype: float64"
          },
          "metadata": {}
        }
      ]
    },
    {
      "cell_type": "code",
      "source": "# Adım 4: Filtrelenen dataframe’i kullanarak seçili filmle diğer filmlerin korelasyonunu bulunuz ve sıralayınız.\n\nitem_based_recommends = user_movie_df.corrwith(movie_df).sort_values(ascending=False)\n",
      "metadata": {
        "execution": {
          "iopub.status.busy": "2023-10-31T21:33:43.133136Z",
          "iopub.execute_input": "2023-10-31T21:33:43.133945Z",
          "iopub.status.idle": "2023-10-31T21:33:45.348665Z",
          "shell.execute_reply.started": "2023-10-31T21:33:43.133907Z",
          "shell.execute_reply": "2023-10-31T21:33:45.347310Z"
        },
        "trusted": true
      },
      "execution_count": 29,
      "outputs": []
    },
    {
      "cell_type": "code",
      "source": "# Adım 5: Seçili film’in kendisi haricinde ilk 5 film’I öneri olarak veriniz.\nitem_based_recommends[1:6]",
      "metadata": {
        "execution": {
          "iopub.status.busy": "2023-10-31T21:34:56.955685Z",
          "iopub.execute_input": "2023-10-31T21:34:56.956148Z",
          "iopub.status.idle": "2023-10-31T21:34:56.964651Z",
          "shell.execute_reply.started": "2023-10-31T21:34:56.956114Z",
          "shell.execute_reply": "2023-10-31T21:34:56.963611Z"
        },
        "trusted": true
      },
      "execution_count": 31,
      "outputs": [
        {
          "execution_count": 31,
          "output_type": "execute_result",
          "data": {
            "text/plain": "title\nMy Science Project (1985)                0.570187\nMediterraneo (1991)                      0.538868\nOld Man and the Sea, The (1958)          0.536192\nNational Lampoon's Senior Trip (1995)    0.533029\nClockwatchers (1997)                     0.483337\ndtype: float64"
          },
          "metadata": {}
        }
      ]
    }
  ]
}
