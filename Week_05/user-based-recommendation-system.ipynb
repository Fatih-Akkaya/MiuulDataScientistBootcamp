{
  "metadata": {
    "kernelspec": {
      "language": "python",
      "display_name": "Python 3",
      "name": "python3"
    },
    "language_info": {
      "name": "python",
      "version": "3.10.12",
      "mimetype": "text/x-python",
      "codemirror_mode": {
        "name": "ipython",
        "version": 3
      },
      "pygments_lexer": "ipython3",
      "nbconvert_exporter": "python",
      "file_extension": ".py"
    }
  },
  "nbformat_minor": 4,
  "nbformat": 4,
  "cells": [
    {
      "cell_type": "markdown",
      "source": "# User-Based Collaborative Filtering and Recommendation System\n**Business Problem**\n> The company that tested content-based recommendation systems and item-based recommendation systems want to give users more customization\nRecommendations have been made for movies based on similar liking structures, but the company wants to supply customized recommendations on the similarity of the users to the other users.\n",
      "metadata": {}
    },
    {
      "cell_type": "markdown",
      "source": "# 1. read dataset and merge join on movieId",
      "metadata": {}
    },
    {
      "cell_type": "code",
      "source": "import pandas as pd\nimport numpy as np\npd.set_option('display.max_columns', 500)\n\ndef missing_values_analysis(data):\n    na_columns = [col for col in data.columns if data[col].isnull().sum() > 0]\n    n_miss = data[na_columns].isnull().sum().sort_values(ascending=True)\n    ratio = (data[na_columns].isnull().sum() / data.shape[0] * 100).sort_values(ascending=True)\n    missing_df = pd.concat([n_miss, np.round(ratio, 2)], axis=1, keys=['Total Missing Values', 'Ratio'])\n    missing_df = pd.DataFrame(missing_df)\n    return missing_df\n\ndef check_df(data, row_num=5, col_num=10):\n    print(\"*************** Dataset Shape ***************\")\n    print(\"No. of Rows:\", data.shape[0], \"\\nNo. of Columns:\", data.shape[1])\n    print(\"*************** Dataset Information ***************\")\n    print(data.info())\n    print(\"*************** Types of Columns ***************\")\n    print(data.dtypes)\n    print(f\"*************** First {row_num} Rows ***************\")\n    print(data.iloc[:row_num,:col_num])\n    print(f\"*************** Last {row_num} Rows ***************\")\n    print(data.iloc[-row_num:,:col_num])\n    print(\"*************** Summary Statistics of The Dataset ***************\")\n    print(data.describe([0.10, 0.25, 0.50, 0.70, 0.80, 0.90, 0.95, 0.99]).T)\n    print(\"*************** Dataset Missing Values Analysis ***************\")\n    print(missing_values_analysis(data))\n\nmovie = pd.read_csv('/kaggle/input/movielens-20m-dataset/movie.csv')\nrating = pd.read_csv('/kaggle/input/movielens-20m-dataset/rating.csv')\ndf = movie.merge(rating, how=\"left\", on=\"movieId\")\ncheck_df(df)",
      "metadata": {
        "_uuid": "8f2839f25d086af736a60e9eeb907d3b93b6e0e5",
        "_cell_guid": "b1076dfc-b9ad-4769-8c92-a6c4dae69d19",
        "execution": {
          "iopub.status.busy": "2023-10-30T11:46:13.790633Z",
          "iopub.execute_input": "2023-10-30T11:46:13.791012Z",
          "iopub.status.idle": "2023-10-30T11:46:55.415246Z",
          "shell.execute_reply.started": "2023-10-30T11:46:13.790964Z",
          "shell.execute_reply": "2023-10-30T11:46:55.414205Z"
        },
        "trusted": true
      },
      "execution_count": 1,
      "outputs": [
        {
          "name": "stdout",
          "text": "*************** Dataset Shape ***************\nNo. of Rows: 20000797 \nNo. of Columns: 6\n*************** Dataset Information ***************\n<class 'pandas.core.frame.DataFrame'>\nRangeIndex: 20000797 entries, 0 to 20000796\nData columns (total 6 columns):\n #   Column     Dtype  \n---  ------     -----  \n 0   movieId    int64  \n 1   title      object \n 2   genres     object \n 3   userId     float64\n 4   rating     float64\n 5   timestamp  object \ndtypes: float64(2), int64(1), object(3)\nmemory usage: 915.6+ MB\nNone\n*************** Types of Columns ***************\nmovieId        int64\ntitle         object\ngenres        object\nuserId       float64\nrating       float64\ntimestamp     object\ndtype: object\n*************** First 5 Rows ***************\n   movieId             title                                       genres  \\\n0        1  Toy Story (1995)  Adventure|Animation|Children|Comedy|Fantasy   \n1        1  Toy Story (1995)  Adventure|Animation|Children|Comedy|Fantasy   \n2        1  Toy Story (1995)  Adventure|Animation|Children|Comedy|Fantasy   \n3        1  Toy Story (1995)  Adventure|Animation|Children|Comedy|Fantasy   \n4        1  Toy Story (1995)  Adventure|Animation|Children|Comedy|Fantasy   \n\n   userId  rating            timestamp  \n0     3.0     4.0  1999-12-11 13:36:47  \n1     6.0     5.0  1997-03-13 17:50:52  \n2     8.0     4.0  1996-06-05 13:37:51  \n3    10.0     4.0  1999-11-25 02:44:47  \n4    11.0     4.5  2009-01-02 01:13:41  \n*************** Last 5 Rows ***************\n          movieId                          title                    genres  \\\n20000792   131254   Kein Bund für's Leben (2007)                    Comedy   \n20000793   131256  Feuer, Eis & Dosenbier (2002)                    Comedy   \n20000794   131258             The Pirates (2014)                 Adventure   \n20000795   131260            Rentun Ruusu (2001)        (no genres listed)   \n20000796   131262               Innocence (2014)  Adventure|Fantasy|Horror   \n\n            userId  rating            timestamp  \n20000792   79570.0     4.0  2015-03-30 19:32:59  \n20000793   79570.0     4.0  2015-03-30 19:48:08  \n20000794   28906.0     2.5  2015-03-30 19:56:32  \n20000795   65409.0     3.0  2015-03-30 19:57:46  \n20000796  133047.0     4.0  2015-03-30 20:39:26  \n*************** Summary Statistics of The Dataset ***************\n              count          mean           std  min      10%      25%  \\\nmovieId  20000797.0   9044.349230  19796.714278  1.0    296.0    902.0   \nuserId   20000263.0  69045.872583  40038.626653  1.0  13568.0  34395.0   \nrating   20000263.0      3.525529      1.051989  0.5      2.0      3.0   \n\n             50%      70%       80%       90%       95%       99%       max  \nmovieId   2167.0   3952.0    5872.0   33794.0   59118.0   94204.0  131262.0  \nuserId   69141.0  96703.0  110725.0  124479.0  131467.0  137061.0  138493.0  \nrating       3.5      4.0       4.5       5.0       5.0       5.0       5.0  \n*************** Dataset Missing Values Analysis ***************\n           Total Missing Values  Ratio\nuserId                      534    0.0\nrating                      534    0.0\ntimestamp                   534    0.0\n",
          "output_type": "stream"
        }
      ]
    },
    {
      "cell_type": "markdown",
      "source": "# 2. let's filter low rated movies and create new dataframe",
      "metadata": {}
    },
    {
      "cell_type": "code",
      "source": "def create_user_movie_df(dataframe):\n    comment_counts = pd.DataFrame(dataframe[\"title\"].value_counts())\n    rare_movies = comment_counts[comment_counts[\"count\"] <= 1000].index\n    common_movies = df[~df[\"title\"].isin(rare_movies)]\n    user_movie_df = common_movies.pivot_table(index=[\"userId\"], columns=[\"title\"], values=\"rating\")\n    return user_movie_df\n\nuser_movie_df = create_user_movie_df(df)",
      "metadata": {
        "execution": {
          "iopub.status.busy": "2023-10-30T11:48:24.964024Z",
          "iopub.execute_input": "2023-10-30T11:48:24.964383Z",
          "iopub.status.idle": "2023-10-30T11:48:47.709317Z",
          "shell.execute_reply.started": "2023-10-30T11:48:24.964358Z",
          "shell.execute_reply": "2023-10-30T11:48:47.707703Z"
        },
        "trusted": true
      },
      "execution_count": 2,
      "outputs": []
    },
    {
      "cell_type": "code",
      "source": "def user_based_recommender(random_user, user_movie_df, ratio=60, cor_th=0.65, score=3.5):\n    random_user_df = user_movie_df[user_movie_df.index == random_user]\n    movies_watched = random_user_df.columns[random_user_df.notna().any()].tolist() # select watched and rated movie by random_user\n    movies_watched_df = user_movie_df[movies_watched]\n    user_movie_count = movies_watched_df.T.notnull().sum()\n    user_movie_count = user_movie_count.reset_index()\n    user_movie_count.columns = [\"userId\", \"movie_count\"]\n    perc = len(movies_watched) * ratio / 100\n    users_same_movies = user_movie_count[user_movie_count[\"movie_count\"] > perc][\"userId\"] #select other users who watched same movies\n\n    final_df = pd.concat([movies_watched_df[movies_watched_df.index.isin(users_same_movies)],\n                          random_user_df[movies_watched]])\n\n    corr_df = final_df.T.corr().unstack().sort_values().drop_duplicates()\n    corr_df = pd.DataFrame(corr_df, columns=[\"corr\"])\n    corr_df.index.names = ['user_id_1', 'user_id_2']\n    corr_df = corr_df.reset_index()\n\n    top_users = corr_df[(corr_df[\"user_id_1\"] == random_user) & (corr_df[\"corr\"] >= cor_th)][\n        [\"user_id_2\", \"corr\"]].reset_index(drop=True) # select similar users have correlation over cor_th on random_user\n\n    top_users = top_users.sort_values(by='corr', ascending=False)\n    top_users.rename(columns={\"user_id_2\": \"userId\"}, inplace=True)\n    rating = pd.read_csv('/kaggle/input/movielens-20m-dataset/rating.csv')\n    top_users_ratings = top_users.merge(rating[[\"userId\", \"movieId\", \"rating\"]], how='inner')\n    top_users_ratings['weighted_rating'] = top_users_ratings['corr'] * top_users_ratings['rating'] # calculate rating*corr score\n\n    recommendation_df = top_users_ratings.groupby('movieId').agg({\"weighted_rating\": \"mean\"})\n    recommendation_df = recommendation_df.reset_index()\n\n    movies_to_be_recommend = recommendation_df[recommendation_df[\"weighted_rating\"] > score].sort_values(\"weighted_rating\", ascending=False)\n    movie = pd.read_csv('/kaggle/input/movielens-20m-dataset/movie.csv')\n    return movies_to_be_recommend.merge(movie[[\"movieId\", \"title\"]])\n",
      "metadata": {
        "execution": {
          "iopub.status.busy": "2023-10-30T12:03:12.556695Z",
          "iopub.execute_input": "2023-10-30T12:03:12.557071Z",
          "iopub.status.idle": "2023-10-30T12:03:12.567200Z",
          "shell.execute_reply.started": "2023-10-30T12:03:12.557044Z",
          "shell.execute_reply": "2023-10-30T12:03:12.566275Z"
        },
        "trusted": true
      },
      "execution_count": 9,
      "outputs": []
    },
    {
      "cell_type": "code",
      "source": "random_user = int(pd.Series(user_movie_df.index).sample(1).values)\nuser_based_recommender(random_user, user_movie_df, cor_th=0.70, score=4)",
      "metadata": {
        "execution": {
          "iopub.status.busy": "2023-10-30T12:03:15.714451Z",
          "iopub.execute_input": "2023-10-30T12:03:15.714792Z",
          "iopub.status.idle": "2023-10-30T12:03:29.585342Z",
          "shell.execute_reply.started": "2023-10-30T12:03:15.714765Z",
          "shell.execute_reply": "2023-10-30T12:03:29.584391Z"
        },
        "trusted": true
      },
      "execution_count": 10,
      "outputs": [
        {
          "execution_count": 10,
          "output_type": "execute_result",
          "data": {
            "text/plain": "   movieId  weighted_rating                               title\n0    31948         4.320904  Phone Box, The (Cabina, La) (1972)\n1     1489         4.249283             Cats Don't Dance (1997)\n2     3318         4.063336                   Deterrence (1999)\n3     4595         4.063336       Fat Man and Little Boy (1989)\n4     2310         4.004677                  Mighty, The (1998)",
            "text/html": "<div>\n<style scoped>\n    .dataframe tbody tr th:only-of-type {\n        vertical-align: middle;\n    }\n\n    .dataframe tbody tr th {\n        vertical-align: top;\n    }\n\n    .dataframe thead th {\n        text-align: right;\n    }\n</style>\n<table border=\"1\" class=\"dataframe\">\n  <thead>\n    <tr style=\"text-align: right;\">\n      <th></th>\n      <th>movieId</th>\n      <th>weighted_rating</th>\n      <th>title</th>\n    </tr>\n  </thead>\n  <tbody>\n    <tr>\n      <th>0</th>\n      <td>31948</td>\n      <td>4.320904</td>\n      <td>Phone Box, The (Cabina, La) (1972)</td>\n    </tr>\n    <tr>\n      <th>1</th>\n      <td>1489</td>\n      <td>4.249283</td>\n      <td>Cats Don't Dance (1997)</td>\n    </tr>\n    <tr>\n      <th>2</th>\n      <td>3318</td>\n      <td>4.063336</td>\n      <td>Deterrence (1999)</td>\n    </tr>\n    <tr>\n      <th>3</th>\n      <td>4595</td>\n      <td>4.063336</td>\n      <td>Fat Man and Little Boy (1989)</td>\n    </tr>\n    <tr>\n      <th>4</th>\n      <td>2310</td>\n      <td>4.004677</td>\n      <td>Mighty, The (1998)</td>\n    </tr>\n  </tbody>\n</table>\n</div>"
          },
          "metadata": {}
        }
      ]
    }
  ]
}
