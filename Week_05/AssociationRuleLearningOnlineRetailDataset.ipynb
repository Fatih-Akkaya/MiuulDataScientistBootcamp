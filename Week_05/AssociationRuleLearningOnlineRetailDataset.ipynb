{
  "metadata": {
    "kernelspec": {
      "language": "python",
      "display_name": "Python 3",
      "name": "python3"
    },
    "language_info": {
      "name": "python",
      "version": "3.10.12",
      "mimetype": "text/x-python",
      "codemirror_mode": {
        "name": "ipython",
        "version": 3
      },
      "pygments_lexer": "ipython3",
      "nbconvert_exporter": "python",
      "file_extension": ".py"
    },
    "colab": {
      "provenance": []
    }
  },
  "nbformat_minor": 0,
  "nbformat": 4,
  "cells": [
    {
      "cell_type": "code",
      "source": [
        "# This Python 3 environment comes with many helpful analytics libraries installed\n",
        "# It is defined by the kaggle/python Docker image: https://github.com/kaggle/docker-python\n",
        "# For example, here's several helpful packages to load\n",
        "!pip install mlxtend\n",
        "import numpy as np # linear algebra\n",
        "import pandas as pd # data processing, CSV file I/O (e.g. pd.read_csv)\n",
        "\n",
        "pd.set_option('display.max_columns', None)\n",
        "# pd.set_option('display.max_rows', None)\n",
        "pd.set_option('display.width', 500)\n",
        "# çıktının tek bir satırda olmasını sağlar.\n",
        "pd.set_option('display.expand_frame_repr', False)\n",
        "from mlxtend.frequent_patterns import apriori, association_rules\n",
        "\n",
        "# Input data files are available in the read-only \"../input/\" directory\n",
        "# For example, running this (by clicking run or pressing Shift+Enter) will list all files under the input directory\n",
        "\n",
        "import os\n",
        "for dirname, _, filenames in os.walk('/kaggle/input'):\n",
        "    for filename in filenames:\n",
        "        print(os.path.join(dirname, filename))\n",
        "\n",
        "# You can write up to 20GB to the current directory (/kaggle/working/) that gets preserved as output when you create a version using \"Save & Run All\"\n",
        "# You can also write temporary files to /kaggle/temp/, but they won't be saved outside of the current session"
      ],
      "metadata": {
        "_uuid": "8f2839f25d086af736a60e9eeb907d3b93b6e0e5",
        "_cell_guid": "b1076dfc-b9ad-4769-8c92-a6c4dae69d19",
        "execution": {
          "iopub.status.busy": "2023-10-26T12:07:49.438057Z",
          "iopub.execute_input": "2023-10-26T12:07:49.439518Z",
          "iopub.status.idle": "2023-10-26T12:08:04.505643Z",
          "shell.execute_reply.started": "2023-10-26T12:07:49.439457Z",
          "shell.execute_reply": "2023-10-26T12:08:04.503823Z"
        },
        "trusted": true,
        "id": "u0byk8r3-0XA",
        "outputId": "d192c52a-d148-440d-ff52-b157775f7d53"
      },
      "execution_count": null,
      "outputs": [
        {
          "name": "stdout",
          "text": "Requirement already satisfied: mlxtend in /opt/conda/lib/python3.10/site-packages (0.22.0)\nRequirement already satisfied: scipy>=1.2.1 in /opt/conda/lib/python3.10/site-packages (from mlxtend) (1.11.2)\nRequirement already satisfied: numpy>=1.16.2 in /opt/conda/lib/python3.10/site-packages (from mlxtend) (1.23.5)\nRequirement already satisfied: pandas>=0.24.2 in /opt/conda/lib/python3.10/site-packages (from mlxtend) (2.0.3)\nRequirement already satisfied: scikit-learn>=1.0.2 in /opt/conda/lib/python3.10/site-packages (from mlxtend) (1.2.2)\nRequirement already satisfied: matplotlib>=3.0.0 in /opt/conda/lib/python3.10/site-packages (from mlxtend) (3.7.2)\nRequirement already satisfied: joblib>=0.13.2 in /opt/conda/lib/python3.10/site-packages (from mlxtend) (1.3.2)\nRequirement already satisfied: setuptools in /opt/conda/lib/python3.10/site-packages (from mlxtend) (68.0.0)\nRequirement already satisfied: contourpy>=1.0.1 in /opt/conda/lib/python3.10/site-packages (from matplotlib>=3.0.0->mlxtend) (1.1.0)\nRequirement already satisfied: cycler>=0.10 in /opt/conda/lib/python3.10/site-packages (from matplotlib>=3.0.0->mlxtend) (0.11.0)\nRequirement already satisfied: fonttools>=4.22.0 in /opt/conda/lib/python3.10/site-packages (from matplotlib>=3.0.0->mlxtend) (4.40.0)\nRequirement already satisfied: kiwisolver>=1.0.1 in /opt/conda/lib/python3.10/site-packages (from matplotlib>=3.0.0->mlxtend) (1.4.4)\nRequirement already satisfied: packaging>=20.0 in /opt/conda/lib/python3.10/site-packages (from matplotlib>=3.0.0->mlxtend) (21.3)\nRequirement already satisfied: pillow>=6.2.0 in /opt/conda/lib/python3.10/site-packages (from matplotlib>=3.0.0->mlxtend) (9.5.0)\nRequirement already satisfied: pyparsing<3.1,>=2.3.1 in /opt/conda/lib/python3.10/site-packages (from matplotlib>=3.0.0->mlxtend) (3.0.9)\nRequirement already satisfied: python-dateutil>=2.7 in /opt/conda/lib/python3.10/site-packages (from matplotlib>=3.0.0->mlxtend) (2.8.2)\nRequirement already satisfied: pytz>=2020.1 in /opt/conda/lib/python3.10/site-packages (from pandas>=0.24.2->mlxtend) (2023.3)\nRequirement already satisfied: tzdata>=2022.1 in /opt/conda/lib/python3.10/site-packages (from pandas>=0.24.2->mlxtend) (2023.3)\nRequirement already satisfied: threadpoolctl>=2.0.0 in /opt/conda/lib/python3.10/site-packages (from scikit-learn>=1.0.2->mlxtend) (3.1.0)\nRequirement already satisfied: six>=1.5 in /opt/conda/lib/python3.10/site-packages (from python-dateutil>=2.7->matplotlib>=3.0.0->mlxtend) (1.16.0)\n/kaggle/input/online-retail/Online_Retail.xlsx\n/kaggle/input/online-retail/Online_Retail.csv\n",
          "output_type": "stream"
        }
      ]
    },
    {
      "cell_type": "code",
      "source": [
        "# Data pre-prcessing\n",
        "\n",
        "def missing_values_analysis(data):\n",
        "    na_columns = [col for col in data.columns if data[col].isnull().sum() > 0]\n",
        "    n_miss = data[na_columns].isnull().sum().sort_values(ascending=True)\n",
        "    ratio = (data[na_columns].isnull().sum() / data.shape[0] * 100).sort_values(ascending=True)\n",
        "    missing_df = pd.concat([n_miss, np.round(ratio, 2)], axis=1, keys=['Total Missing Values', 'Ratio'])\n",
        "    missing_df = pd.DataFrame(missing_df)\n",
        "    return missing_df\n",
        "\n",
        "def check_df(data, row_num=5, col_num=10):\n",
        "    print(\"*************** Dataset Shape ***************\")\n",
        "    print(\"No. of Rows:\", data.shape[0], \"\\nNo. of Columns:\", data.shape[1])\n",
        "    print(\"*************** Dataset Information ***************\")\n",
        "    print(data.info())\n",
        "    print(\"*************** Types of Columns ***************\")\n",
        "    print(data.dtypes)\n",
        "    print(f\"*************** First {row_num} Rows ***************\")\n",
        "    print(data.iloc[:row_num,:col_num])\n",
        "    print(f\"*************** Last {row_num} Rows ***************\")\n",
        "    print(data.iloc[-row_num:,:col_num])\n",
        "    print(\"*************** Summary Statistics of The Dataset ***************\")\n",
        "    print(data.describe([0.10, 0.25, 0.50, 0.70, 0.80, 0.90, 0.95, 0.99]).T)\n",
        "    print(\"*************** Dataset Missing Values Analysis ***************\")\n",
        "    print(missing_values_analysis(data))\n",
        "\n",
        "\n",
        "\n",
        "\n",
        "df_ = pd.read_csv(\"/kaggle/input/online-retail/Online_Retail.csv\")\n",
        "df_ = df_.astype({'InvoiceNo':'string'})\n",
        "df_ = df_.astype({'StockCode':'string'})\n",
        "df_ = df_.astype({'Description':'string'})\n",
        "df_ = df_.astype({'Country':'string'})\n",
        "df = df_.copy()\n",
        "check_df(df)"
      ],
      "metadata": {
        "execution": {
          "iopub.status.busy": "2023-10-26T12:11:34.907997Z",
          "iopub.execute_input": "2023-10-26T12:11:34.908767Z",
          "iopub.status.idle": "2023-10-26T12:11:36.988283Z",
          "shell.execute_reply.started": "2023-10-26T12:11:34.908715Z",
          "shell.execute_reply": "2023-10-26T12:11:36.986955Z"
        },
        "trusted": true,
        "id": "2Ba05E6N-0XE",
        "outputId": "3fc854ac-5730-4e74-fc40-8834f7bada9a"
      },
      "execution_count": null,
      "outputs": [
        {
          "name": "stdout",
          "text": "*************** Dataset Shape ***************\nNo. of Rows: 541909 \nNo. of Columns: 8\n*************** Dataset Information ***************\n<class 'pandas.core.frame.DataFrame'>\nRangeIndex: 541909 entries, 0 to 541908\nData columns (total 8 columns):\n #   Column       Non-Null Count   Dtype  \n---  ------       --------------   -----  \n 0   InvoiceNo    541909 non-null  string \n 1   StockCode    541909 non-null  string \n 2   Description  540455 non-null  string \n 3   Quantity     541909 non-null  int64  \n 4   InvoiceDate  541909 non-null  object \n 5   UnitPrice    541909 non-null  float64\n 6   CustomerID   406829 non-null  float64\n 7   Country      541909 non-null  string \ndtypes: float64(2), int64(1), object(1), string(4)\nmemory usage: 33.1+ MB\nNone\n*************** Types of Columns ***************\nInvoiceNo      string[python]\nStockCode      string[python]\nDescription    string[python]\nQuantity                int64\nInvoiceDate            object\nUnitPrice             float64\nCustomerID            float64\nCountry        string[python]\ndtype: object\n*************** First 5 Rows ***************\n  InvoiceNo StockCode                          Description  Quantity          InvoiceDate  UnitPrice  CustomerID         Country\n0    536365    85123A   WHITE HANGING HEART T-LIGHT HOLDER         6  2010-12-01 08:26:00       2.55     17850.0  United Kingdom\n1    536365     71053                  WHITE METAL LANTERN         6  2010-12-01 08:26:00       3.39     17850.0  United Kingdom\n2    536365    84406B       CREAM CUPID HEARTS COAT HANGER         8  2010-12-01 08:26:00       2.75     17850.0  United Kingdom\n3    536365    84029G  KNITTED UNION FLAG HOT WATER BOTTLE         6  2010-12-01 08:26:00       3.39     17850.0  United Kingdom\n4    536365    84029E       RED WOOLLY HOTTIE WHITE HEART.         6  2010-12-01 08:26:00       3.39     17850.0  United Kingdom\n*************** Last 5 Rows ***************\n       InvoiceNo StockCode                      Description  Quantity          InvoiceDate  UnitPrice  CustomerID Country\n541904    581587     22613      PACK OF 20 SPACEBOY NAPKINS        12  2011-12-09 12:50:00       0.85     12680.0  France\n541905    581587     22899     CHILDREN'S APRON DOLLY GIRL          6  2011-12-09 12:50:00       2.10     12680.0  France\n541906    581587     23254    CHILDRENS CUTLERY DOLLY GIRL          4  2011-12-09 12:50:00       4.15     12680.0  France\n541907    581587     23255  CHILDRENS CUTLERY CIRCUS PARADE         4  2011-12-09 12:50:00       4.15     12680.0  France\n541908    581587     22138    BAKING SET 9 PIECE RETROSPOT          3  2011-12-09 12:50:00       4.95     12680.0  France\n*************** Summary Statistics of The Dataset ***************\n               count          mean          std       min       10%       25%       50%       70%       80%       90%       95%      99%      max\nQuantity    541909.0      9.552250   218.081158 -80995.00      1.00      1.00      3.00      8.00     12.00     24.00     29.00    100.0  80995.0\nUnitPrice   541909.0      4.611114    96.759853 -11062.06      0.63      1.25      2.08      3.75      4.95      7.95      9.95     18.0  38970.0\nCustomerID  406829.0  15287.690570  1713.600303  12346.00  12876.00  13953.00  15152.00  16493.00  17095.00  17719.00  17905.00  18212.0  18287.0\n*************** Dataset Missing Values Analysis ***************\n             Total Missing Values  Ratio\nDescription                  1454   0.27\nCustomerID                 135080  24.93\n",
          "output_type": "stream"
        }
      ]
    },
    {
      "cell_type": "code",
      "source": [
        "#Data cleaning\n",
        "\n",
        "def outlier_thresholds(dataframe, variable):\n",
        "    quartile1 = dataframe[variable].quantile(0.01)\n",
        "    quartile3 = dataframe[variable].quantile(0.99)\n",
        "    interquantile_range = quartile3 - quartile1\n",
        "    up_limit = quartile3 + 1.5 * interquantile_range\n",
        "    low_limit = quartile1 - 1.5 * interquantile_range\n",
        "    return low_limit, up_limit\n",
        "\n",
        "def replace_with_thresholds(dataframe, variable):\n",
        "    low_limit, up_limit = outlier_thresholds(dataframe, variable)\n",
        "    dataframe.loc[(dataframe[variable] < low_limit), variable] = low_limit\n",
        "    dataframe.loc[(dataframe[variable] > up_limit), variable] = up_limit\n",
        "\n",
        "def retail_data_prep(dataframe):\n",
        "    dataframe.dropna(inplace=True)\n",
        "    dataframe = dataframe[~dataframe[\"InvoiceNo\"].str.contains(\"C\", na=False)]\n",
        "    dataframe = dataframe[dataframe[\"Quantity\"] > 0]\n",
        "    dataframe = dataframe[dataframe[\"UnitPrice\"] > 0]\n",
        "    replace_with_thresholds(dataframe, \"Quantity\")\n",
        "    replace_with_thresholds(dataframe, \"UnitPrice\")\n",
        "    return dataframe\n",
        "\n",
        "df = retail_data_prep(df)\n",
        "df.isnull().sum()\n",
        "df.describe().T"
      ],
      "metadata": {
        "execution": {
          "iopub.status.busy": "2023-10-26T12:11:48.585021Z",
          "iopub.execute_input": "2023-10-26T12:11:48.585878Z",
          "iopub.status.idle": "2023-10-26T12:11:49.724571Z",
          "shell.execute_reply.started": "2023-10-26T12:11:48.585817Z",
          "shell.execute_reply": "2023-10-26T12:11:49.722925Z"
        },
        "trusted": true,
        "id": "wypfoq0D-0XF",
        "outputId": "1a28dc3c-5588-4581-80a6-e79e80ecbc57"
      },
      "execution_count": null,
      "outputs": [
        {
          "execution_count": 47,
          "output_type": "execute_result",
          "data": {
            "text/plain": "               count          mean          std        min       25%       50%       75%       max\nQuantity    397884.0     11.830797    25.523078      1.000      2.00      6.00     12.00    298.50\nUnitPrice   397884.0      2.893454     3.227090      0.001      1.25      1.95      3.75     37.06\nCustomerID  397884.0  15294.423453  1713.141560  12346.000  13969.00  15159.00  16795.00  18287.00",
            "text/html": "<div>\n<style scoped>\n    .dataframe tbody tr th:only-of-type {\n        vertical-align: middle;\n    }\n\n    .dataframe tbody tr th {\n        vertical-align: top;\n    }\n\n    .dataframe thead th {\n        text-align: right;\n    }\n</style>\n<table border=\"1\" class=\"dataframe\">\n  <thead>\n    <tr style=\"text-align: right;\">\n      <th></th>\n      <th>count</th>\n      <th>mean</th>\n      <th>std</th>\n      <th>min</th>\n      <th>25%</th>\n      <th>50%</th>\n      <th>75%</th>\n      <th>max</th>\n    </tr>\n  </thead>\n  <tbody>\n    <tr>\n      <th>Quantity</th>\n      <td>397884.0</td>\n      <td>11.830797</td>\n      <td>25.523078</td>\n      <td>1.000</td>\n      <td>2.00</td>\n      <td>6.00</td>\n      <td>12.00</td>\n      <td>298.50</td>\n    </tr>\n    <tr>\n      <th>UnitPrice</th>\n      <td>397884.0</td>\n      <td>2.893454</td>\n      <td>3.227090</td>\n      <td>0.001</td>\n      <td>1.25</td>\n      <td>1.95</td>\n      <td>3.75</td>\n      <td>37.06</td>\n    </tr>\n    <tr>\n      <th>CustomerID</th>\n      <td>397884.0</td>\n      <td>15294.423453</td>\n      <td>1713.141560</td>\n      <td>12346.000</td>\n      <td>13969.00</td>\n      <td>15159.00</td>\n      <td>16795.00</td>\n      <td>18287.00</td>\n    </tr>\n  </tbody>\n</table>\n</div>"
          },
          "metadata": {}
        }
      ]
    },
    {
      "cell_type": "code",
      "source": [
        "# Preparing ARL Data Structures (Invoice - Product matrix)\n",
        "df_fr = df[df['Country'] == \"France\"]\n",
        "\n",
        "print(df_fr.groupby(['InvoiceNo', 'Description']).agg({\"Quantity\": \"sum\"}).head(20)) #overviewing the data\n",
        "\n",
        "print(df_fr.groupby(['InvoiceNo', 'Description']).agg({\"Quantity\": \"sum\"}).unstack().iloc[0:5, 0:5]) #let's look how seems converting the rows to columns\n",
        "\n",
        "print(df_fr.groupby(['InvoiceNo', 'Description']).agg({\"Quantity\": \"sum\"}).unstack().fillna(0).iloc[0:5, 0:5])# let's try to fill NaN datas with 0\n",
        "\n",
        "print(df_fr.groupby(['InvoiceNo', 'StockCode']). \\\n",
        "    agg({\"Quantity\": \"sum\"}). \\\n",
        "    unstack(). \\\n",
        "    fillna(0). \\\n",
        "    applymap(lambda x: 1 if x > 0 else 0).iloc[0:5, 0:5]) # if quentity bigger then 0 lets fill 1 to make matrix like 0 vs 1"
      ],
      "metadata": {
        "execution": {
          "iopub.status.busy": "2023-10-26T12:12:02.191798Z",
          "iopub.execute_input": "2023-10-26T12:12:02.192318Z",
          "iopub.status.idle": "2023-10-26T12:12:03.186073Z",
          "shell.execute_reply.started": "2023-10-26T12:12:02.192267Z",
          "shell.execute_reply": "2023-10-26T12:12:03.184888Z"
        },
        "trusted": true,
        "id": "vkYw3irO-0XG",
        "outputId": "1aca869a-fa2b-452e-8783-12bdd369790e"
      },
      "execution_count": null,
      "outputs": [
        {
          "name": "stdout",
          "text": "                                               Quantity\nInvoiceNo Description                                  \n536370     SET 2 TEA TOWELS I LOVE LONDON          24.0\n          ALARM CLOCK BAKELIKE GREEN               12.0\n          ALARM CLOCK BAKELIKE PINK                24.0\n          ALARM CLOCK BAKELIKE RED                 24.0\n          CHARLOTTE BAG DOLLY GIRL DESIGN          20.0\n          CIRCUS PARADE LUNCH BOX                  24.0\n          INFLATABLE POLITICAL GLOBE               48.0\n          LUNCH BOX I LOVE LONDON                  24.0\n          MINI JIGSAW CIRCUS PARADE                24.0\n          MINI JIGSAW SPACEBOY                     24.0\n          MINI PAINT SET VINTAGE                   36.0\n          PANDA AND BUNNIES STICKER SHEET          12.0\n          POSTAGE                                   3.0\n          RED TOADSTOOL LED NIGHT LIGHT            24.0\n          ROUND SNACK BOXES SET OF4 WOODLAND       24.0\n          SET/2 RED RETROSPOT TEA TOWELS           18.0\n          SPACEBOY LUNCH BOX                       24.0\n          STARS GIFT TAPE                          24.0\n          VINTAGE HEADS AND TAILS CARD GAME        24.0\n          VINTAGE SEASIDE JIGSAW PUZZLES           12.0\n                                   Quantity                                                                                                                                \nDescription 50'S CHRISTMAS GIFT BAG LARGE   DOLLY GIRL BEAKER               I LOVE LONDON MINI BACKPACK     NINE DRAWER OFFICE TIDY         SET 2 TEA TOWELS I LOVE LONDON \nInvoiceNo                                                                                                                                                                  \n536370                                  NaN                             NaN                             NaN                             NaN                            24.0\n536852                                  NaN                             NaN                             NaN                             NaN                             NaN\n536974                                  NaN                             NaN                             NaN                             NaN                             NaN\n537065                                  NaN                             NaN                             NaN                             NaN                             NaN\n537463                                  NaN                             NaN                             NaN                             NaN                             NaN\n                                   Quantity                                                                                                                                \nDescription 50'S CHRISTMAS GIFT BAG LARGE   DOLLY GIRL BEAKER               I LOVE LONDON MINI BACKPACK     NINE DRAWER OFFICE TIDY         SET 2 TEA TOWELS I LOVE LONDON \nInvoiceNo                                                                                                                                                                  \n536370                                  0.0                             0.0                             0.0                             0.0                            24.0\n536852                                  0.0                             0.0                             0.0                             0.0                             0.0\n536974                                  0.0                             0.0                             0.0                             0.0                             0.0\n537065                                  0.0                             0.0                             0.0                             0.0                             0.0\n537463                                  0.0                             0.0                             0.0                             0.0                             0.0\n          Quantity                        \nStockCode    10002 10120 10125 10135 11001\nInvoiceNo                                 \n536370           1     0     0     0     0\n536852           0     0     0     0     0\n536974           0     0     0     0     0\n537065           0     0     0     0     0\n537463           0     0     0     0     0\n",
          "output_type": "stream"
        }
      ]
    },
    {
      "cell_type": "code",
      "source": [
        "#let's make a function to apply all rows\n",
        "def create_invoice_product_df(dataframe, id=False):\n",
        "    if id:\n",
        "        return dataframe.groupby(['InvoiceNo', \"StockCode\"])['Quantity'].sum().unstack().fillna(False). \\\n",
        "            applymap(lambda x: True if x > 0 else False)\n",
        "    else:\n",
        "        return dataframe.groupby(['InvoiceNo', 'Description'])['Quantity'].sum().unstack().fillna(0). \\\n",
        "            applymap(lambda x: True if x > 0 else False)\n",
        "\n",
        "fr_inv_pro_df = create_invoice_product_df(df_fr, id=True)\n",
        "\n",
        "def check_id(dataframe, stock_code):\n",
        "    product_name = dataframe[dataframe[\"StockCode\"] == stock_code][[\"Description\"]].values[0].tolist()\n",
        "    print(product_name)\n",
        "\n",
        "\n",
        "check_id(df_fr, '10002')\n",
        "check_id(df_fr, '10120')"
      ],
      "metadata": {
        "execution": {
          "iopub.status.busy": "2023-10-26T12:12:06.463440Z",
          "iopub.execute_input": "2023-10-26T12:12:06.464268Z",
          "iopub.status.idle": "2023-10-26T12:12:07.409599Z",
          "shell.execute_reply.started": "2023-10-26T12:12:06.464195Z",
          "shell.execute_reply": "2023-10-26T12:12:07.407810Z"
        },
        "trusted": true,
        "id": "DZnkajkL-0XG",
        "outputId": "3b53fa08-35ad-4e18-ecba-e7d6fafb6913"
      },
      "execution_count": null,
      "outputs": [
        {
          "name": "stdout",
          "text": "['INFLATABLE POLITICAL GLOBE ']\n['DOGGY RUBBER']\n",
          "output_type": "stream"
        }
      ]
    },
    {
      "cell_type": "code",
      "source": [
        "check_df(fr_inv_pro_df)"
      ],
      "metadata": {
        "execution": {
          "iopub.status.busy": "2023-10-26T12:12:11.563804Z",
          "iopub.execute_input": "2023-10-26T12:12:11.564292Z",
          "iopub.status.idle": "2023-10-26T12:12:13.547566Z",
          "shell.execute_reply.started": "2023-10-26T12:12:11.564249Z",
          "shell.execute_reply": "2023-10-26T12:12:13.545695Z"
        },
        "trusted": true,
        "id": "r83NKuEv-0XH",
        "outputId": "50f288f0-bb7f-49ff-8088-b8ca4abb9acb"
      },
      "execution_count": null,
      "outputs": [
        {
          "name": "stdout",
          "text": "*************** Dataset Shape ***************\nNo. of Rows: 389 \nNo. of Columns: 1522\n*************** Dataset Information ***************\n<class 'pandas.core.frame.DataFrame'>\nIndex: 389 entries, 536370 to 581587\nColumns: 1522 entries, 10002 to POST\ndtypes: bool(1522)\nmemory usage: 581.2 KB\nNone\n*************** Types of Columns ***************\nStockCode\n10002     bool\n10120     bool\n10125     bool\n10135     bool\n11001     bool\n          ... \n90201B    bool\n90201C    bool\nC2        bool\nM         bool\nPOST      bool\nLength: 1522, dtype: object\n*************** First 5 Rows ***************\nStockCode  10002    10120    10125    10135    11001    15036    15039    15044C   15056BL  15056N \nInvoiceNo                                                                                          \n536370        True    False    False    False    False    False    False    False    False    False\n536852       False    False    False    False    False    False    False    False    False    False\n536974       False    False    False    False    False    False    False    False     True    False\n537065       False    False    False    False    False    False    False    False    False    False\n537463       False    False    False    False    False    False    False    False    False    False\n*************** Last 5 Rows ***************\nStockCode  10002    10120    10125    10135    11001    15036    15039    15044C   15056BL  15056N \nInvoiceNo                                                                                          \n580986       False    False    False    False    False    False    False    False    False    False\n581001       False    False    False    False    False    False    False    False    False    False\n581171       False    False    False    False    False    False    False    False    False    False\n581279       False    False    False    False    False    False    False    False    False    False\n581587       False    False    False    False    False    False    False    False    False    False\n*************** Summary Statistics of The Dataset ***************\n          count unique    top freq\nStockCode                         \n10002       389      2  False  381\n10120       389      2  False  388\n10125       389      2  False  383\n10135       389      2  False  388\n11001       389      2  False  388\n...         ...    ...    ...  ...\n90201B      389      2  False  387\n90201C      389      2  False  388\nC2          389      2  False  387\nM           389      2  False  384\nPOST        389      2   True  300\n\n[1522 rows x 4 columns]\n*************** Dataset Missing Values Analysis ***************\nEmpty DataFrame\nColumns: [Total Missing Values, Ratio]\nIndex: []\n",
          "output_type": "stream"
        }
      ]
    },
    {
      "cell_type": "code",
      "source": [
        "# let's expose association rule\n",
        "frequent_itemsets = apriori(fr_inv_pro_df,\n",
        "                            min_support=0.01,\n",
        "                            use_colnames=True)\n",
        "\n",
        "frequent_itemsets.sort_values(\"support\", ascending=False)\n",
        "\n",
        "rules = association_rules(frequent_itemsets,\n",
        "                          metric=\"support\",\n",
        "                          min_threshold=0.01)\n",
        "# antecedent is first item in basket, consequent is second or more items in basket\n",
        "# antecedent support is probability of basket has first item, consequent support is prob. of basket has the second item\n",
        "# support is the fraction of the total number of transactions in which the itemset occurs (transactions containing both X and Y items / total number of transactions)\n",
        "# confidence is the conditional probability of occurrence of consequent given the antecedent (transactions containing both X and Y items / transactions containing X)\n",
        "# lift is the rise in probability of having {Y} on the cart with the knowledge of {X} being present over the probability of having {Y} on the cart without any knowledge about presence of {X}\n",
        "# lift = (confidence/fraction of transactions containig Y)\n",
        "rules[(rules[\"support\"]>0.05) & (rules[\"confidence\"]>0.1) & (rules[\"lift\"]>5)]\n",
        "\n",
        "check_id(df_fr, '21086')\n",
        "\n",
        "rules[(rules[\"support\"]>0.05) & (rules[\"confidence\"]>0.1) & (rules[\"lift\"]>5)]. \\\n",
        "sort_values(\"confidence\", ascending=False)"
      ],
      "metadata": {
        "execution": {
          "iopub.status.busy": "2023-10-26T12:13:41.172393Z",
          "iopub.execute_input": "2023-10-26T12:13:41.172944Z",
          "iopub.status.idle": "2023-10-26T12:14:05.351316Z",
          "shell.execute_reply.started": "2023-10-26T12:13:41.172906Z",
          "shell.execute_reply": "2023-10-26T12:14:05.350034Z"
        },
        "trusted": true,
        "id": "OJJYP2Xv-0XH",
        "outputId": "94093a19-f402-4a95-d1e0-2a5ae487c679"
      },
      "execution_count": null,
      "outputs": [
        {
          "name": "stdout",
          "text": "['SET/6 RED SPOTTY PAPER CUPS']\n",
          "output_type": "stream"
        },
        {
          "execution_count": 52,
          "output_type": "execute_result",
          "data": {
            "text/plain": "                 antecedents           consequents  antecedent support  consequent support   support  confidence      lift  leverage  conviction  zhangs_metric\n23827         (21080, 21086)               (21094)            0.102828            0.128535  0.100257    0.975000  7.585500  0.087040   34.858612       0.967673\n23826         (21080, 21094)               (21086)            0.102828            0.138817  0.100257    0.975000  7.023611  0.085983   34.447301       0.955918\n108842  (21080, 21086, POST)               (21094)            0.084833            0.128535  0.082262    0.969697  7.544242  0.071358   28.758355       0.947858\n108840  (21080, 21094, POST)               (21086)            0.084833            0.138817  0.082262    0.969697  6.985410  0.070486   28.419023       0.936271\n1823                 (21094)               (21086)            0.128535            0.138817  0.123393    0.960000  6.915556  0.105550   21.529563       0.981563\n...                      ...                   ...                 ...                 ...       ...         ...       ...       ...         ...            ...\n62208          (22629, POST)               (22630)            0.097686            0.100257  0.053985    0.552632  5.512146  0.044191    2.011190       0.907204\n213433               (22728)  (22726, 22727, POST)            0.102828            0.071979  0.056555    0.550000  7.641071  0.049154    2.062268       0.968742\n62213                (22630)         (22629, POST)            0.100257            0.097686  0.053985    0.538462  5.512146  0.044191    1.955013       0.909796\n62211                (22629)         (POST, 22630)            0.125964            0.074550  0.053985    0.428571  5.748768  0.044594    1.619537       0.945098\n5548                 (22382)               (22662)            0.120823            0.084833  0.051414    0.425532  5.016119  0.041164    1.593069       0.910673\n\n[84 rows x 10 columns]",
            "text/html": "<div>\n<style scoped>\n    .dataframe tbody tr th:only-of-type {\n        vertical-align: middle;\n    }\n\n    .dataframe tbody tr th {\n        vertical-align: top;\n    }\n\n    .dataframe thead th {\n        text-align: right;\n    }\n</style>\n<table border=\"1\" class=\"dataframe\">\n  <thead>\n    <tr style=\"text-align: right;\">\n      <th></th>\n      <th>antecedents</th>\n      <th>consequents</th>\n      <th>antecedent support</th>\n      <th>consequent support</th>\n      <th>support</th>\n      <th>confidence</th>\n      <th>lift</th>\n      <th>leverage</th>\n      <th>conviction</th>\n      <th>zhangs_metric</th>\n    </tr>\n  </thead>\n  <tbody>\n    <tr>\n      <th>23827</th>\n      <td>(21080, 21086)</td>\n      <td>(21094)</td>\n      <td>0.102828</td>\n      <td>0.128535</td>\n      <td>0.100257</td>\n      <td>0.975000</td>\n      <td>7.585500</td>\n      <td>0.087040</td>\n      <td>34.858612</td>\n      <td>0.967673</td>\n    </tr>\n    <tr>\n      <th>23826</th>\n      <td>(21080, 21094)</td>\n      <td>(21086)</td>\n      <td>0.102828</td>\n      <td>0.138817</td>\n      <td>0.100257</td>\n      <td>0.975000</td>\n      <td>7.023611</td>\n      <td>0.085983</td>\n      <td>34.447301</td>\n      <td>0.955918</td>\n    </tr>\n    <tr>\n      <th>108842</th>\n      <td>(21080, 21086, POST)</td>\n      <td>(21094)</td>\n      <td>0.084833</td>\n      <td>0.128535</td>\n      <td>0.082262</td>\n      <td>0.969697</td>\n      <td>7.544242</td>\n      <td>0.071358</td>\n      <td>28.758355</td>\n      <td>0.947858</td>\n    </tr>\n    <tr>\n      <th>108840</th>\n      <td>(21080, 21094, POST)</td>\n      <td>(21086)</td>\n      <td>0.084833</td>\n      <td>0.138817</td>\n      <td>0.082262</td>\n      <td>0.969697</td>\n      <td>6.985410</td>\n      <td>0.070486</td>\n      <td>28.419023</td>\n      <td>0.936271</td>\n    </tr>\n    <tr>\n      <th>1823</th>\n      <td>(21094)</td>\n      <td>(21086)</td>\n      <td>0.128535</td>\n      <td>0.138817</td>\n      <td>0.123393</td>\n      <td>0.960000</td>\n      <td>6.915556</td>\n      <td>0.105550</td>\n      <td>21.529563</td>\n      <td>0.981563</td>\n    </tr>\n    <tr>\n      <th>...</th>\n      <td>...</td>\n      <td>...</td>\n      <td>...</td>\n      <td>...</td>\n      <td>...</td>\n      <td>...</td>\n      <td>...</td>\n      <td>...</td>\n      <td>...</td>\n      <td>...</td>\n    </tr>\n    <tr>\n      <th>62208</th>\n      <td>(22629, POST)</td>\n      <td>(22630)</td>\n      <td>0.097686</td>\n      <td>0.100257</td>\n      <td>0.053985</td>\n      <td>0.552632</td>\n      <td>5.512146</td>\n      <td>0.044191</td>\n      <td>2.011190</td>\n      <td>0.907204</td>\n    </tr>\n    <tr>\n      <th>213433</th>\n      <td>(22728)</td>\n      <td>(22726, 22727, POST)</td>\n      <td>0.102828</td>\n      <td>0.071979</td>\n      <td>0.056555</td>\n      <td>0.550000</td>\n      <td>7.641071</td>\n      <td>0.049154</td>\n      <td>2.062268</td>\n      <td>0.968742</td>\n    </tr>\n    <tr>\n      <th>62213</th>\n      <td>(22630)</td>\n      <td>(22629, POST)</td>\n      <td>0.100257</td>\n      <td>0.097686</td>\n      <td>0.053985</td>\n      <td>0.538462</td>\n      <td>5.512146</td>\n      <td>0.044191</td>\n      <td>1.955013</td>\n      <td>0.909796</td>\n    </tr>\n    <tr>\n      <th>62211</th>\n      <td>(22629)</td>\n      <td>(POST, 22630)</td>\n      <td>0.125964</td>\n      <td>0.074550</td>\n      <td>0.053985</td>\n      <td>0.428571</td>\n      <td>5.748768</td>\n      <td>0.044594</td>\n      <td>1.619537</td>\n      <td>0.945098</td>\n    </tr>\n    <tr>\n      <th>5548</th>\n      <td>(22382)</td>\n      <td>(22662)</td>\n      <td>0.120823</td>\n      <td>0.084833</td>\n      <td>0.051414</td>\n      <td>0.425532</td>\n      <td>5.016119</td>\n      <td>0.041164</td>\n      <td>1.593069</td>\n      <td>0.910673</td>\n    </tr>\n  </tbody>\n</table>\n<p>84 rows × 10 columns</p>\n</div>"
          },
          "metadata": {}
        }
      ]
    },
    {
      "cell_type": "code",
      "source": [
        "# let's define a function to automate association rule\n",
        "def create_rules(dataframe, id=True, country=\"France\"):\n",
        "    dataframe = dataframe[dataframe['Country'] == country]\n",
        "    dataframe = create_invoice_product_df(dataframe, id)\n",
        "    frequent_itemsets = apriori(dataframe, min_support=0.01, use_colnames=True)\n",
        "    rules = association_rules(frequent_itemsets, metric=\"support\", min_threshold=0.01)\n",
        "    return rules\n",
        "\n",
        "df = df_.copy()\n",
        "\n",
        "df = retail_data_prep(df)\n",
        "rules = create_rules(df)"
      ],
      "metadata": {
        "execution": {
          "iopub.status.busy": "2023-10-26T12:14:16.021802Z",
          "iopub.execute_input": "2023-10-26T12:14:16.022344Z",
          "iopub.status.idle": "2023-10-26T12:14:43.182197Z",
          "shell.execute_reply.started": "2023-10-26T12:14:16.022281Z",
          "shell.execute_reply": "2023-10-26T12:14:43.181161Z"
        },
        "trusted": true,
        "id": "_iprEy5_-0XH"
      },
      "execution_count": null,
      "outputs": []
    },
    {
      "cell_type": "code",
      "source": [
        "# let's make recommender function\n",
        "\n",
        "def arl_recommender(rules_df, product_id, rec_count=1):\n",
        "    sorted_rules = rules_df.sort_values(\"lift\", ascending=False)\n",
        "    recommendation_list = []\n",
        "    for i, product in enumerate(sorted_rules[\"antecedents\"]):\n",
        "        for j in list(product):\n",
        "            if j == product_id:\n",
        "                recommendation_list.append(list(sorted_rules.iloc[i][\"consequents\"])[0])\n",
        "\n",
        "    return recommendation_list[0:rec_count]\n",
        "\n",
        "print(arl_recommender(rules, '22492', 1))\n",
        "print(arl_recommender(rules, '22492', 2))\n",
        "print(arl_recommender(rules, '22492', 3))"
      ],
      "metadata": {
        "trusted": true,
        "id": "UjKsidFr-0XI",
        "outputId": "6098776f-0f08-4381-de68-a45ce02cb8d9"
      },
      "execution_count": null,
      "outputs": [
        {
          "name": "stdout",
          "text": "['22554']\n['22554', '22382']\n['22554', '22382', '22382']\n",
          "output_type": "stream"
        }
      ]
    }
  ]
}
