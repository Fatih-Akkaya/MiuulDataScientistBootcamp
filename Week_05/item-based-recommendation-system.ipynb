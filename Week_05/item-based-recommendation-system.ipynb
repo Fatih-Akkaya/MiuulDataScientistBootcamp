{
  "metadata": {
    "kernelspec": {
      "language": "python",
      "display_name": "Python 3",
      "name": "python3"
    },
    "language_info": {
      "name": "python",
      "version": "3.10.12",
      "mimetype": "text/x-python",
      "codemirror_mode": {
        "name": "ipython",
        "version": 3
      },
      "pygments_lexer": "ipython3",
      "nbconvert_exporter": "python",
      "file_extension": ".py"
    }
  },
  "nbformat_minor": 4,
  "nbformat": 4,
  "cells": [
    {
      "cell_type": "markdown",
      "source": "# Item-Based Collaborative Filtering",
      "metadata": {}
    },
    {
      "cell_type": "markdown",
      "source": "# 1. read dataset and merge join on movieId",
      "metadata": {}
    },
    {
      "cell_type": "code",
      "source": "import pandas as pd\nimport numpy as np\npd.set_option('display.max_columns', 500)\n\ndef missing_values_analysis(data):\n    na_columns = [col for col in data.columns if data[col].isnull().sum() > 0]\n    n_miss = data[na_columns].isnull().sum().sort_values(ascending=True)\n    ratio = (data[na_columns].isnull().sum() / data.shape[0] * 100).sort_values(ascending=True)\n    missing_df = pd.concat([n_miss, np.round(ratio, 2)], axis=1, keys=['Total Missing Values', 'Ratio'])\n    missing_df = pd.DataFrame(missing_df)\n    return missing_df\n\ndef check_df(data, row_num=5, col_num=10):\n    print(\"*************** Dataset Shape ***************\")\n    print(\"No. of Rows:\", data.shape[0], \"\\nNo. of Columns:\", data.shape[1])\n    print(\"*************** Dataset Information ***************\")\n    print(data.info())\n    print(\"*************** Types of Columns ***************\")\n    print(data.dtypes)\n    print(f\"*************** First {row_num} Rows ***************\")\n    print(data.iloc[:row_num,:col_num])\n    print(f\"*************** Last {row_num} Rows ***************\")\n    print(data.iloc[-row_num:,:col_num])\n    print(\"*************** Summary Statistics of The Dataset ***************\")\n    print(data.describe([0.10, 0.25, 0.50, 0.70, 0.80, 0.90, 0.95, 0.99]).T)\n    print(\"*************** Dataset Missing Values Analysis ***************\")\n    print(missing_values_analysis(data))\n\nmovie = pd.read_csv('/kaggle/input/movielens-20m-dataset/movie.csv')\nrating = pd.read_csv('/kaggle/input/movielens-20m-dataset/rating.csv')\ndf = movie.merge(rating, how=\"left\", on=\"movieId\")\ncheck_df(df)",
      "metadata": {
        "_uuid": "8f2839f25d086af736a60e9eeb907d3b93b6e0e5",
        "_cell_guid": "b1076dfc-b9ad-4769-8c92-a6c4dae69d19",
        "execution": {
          "iopub.status.busy": "2023-10-30T10:54:09.410573Z",
          "iopub.execute_input": "2023-10-30T10:54:09.411136Z",
          "iopub.status.idle": "2023-10-30T10:55:03.315670Z",
          "shell.execute_reply.started": "2023-10-30T10:54:09.411098Z",
          "shell.execute_reply": "2023-10-30T10:55:03.314438Z"
        },
        "trusted": true
      },
      "execution_count": 3,
      "outputs": [
        {
          "name": "stdout",
          "text": "*************** Dataset Shape ***************\nNo. of Rows: 20000797 \nNo. of Columns: 6\n*************** Dataset Information ***************\n<class 'pandas.core.frame.DataFrame'>\nRangeIndex: 20000797 entries, 0 to 20000796\nData columns (total 6 columns):\n #   Column     Dtype  \n---  ------     -----  \n 0   movieId    int64  \n 1   title      object \n 2   genres     object \n 3   userId     float64\n 4   rating     float64\n 5   timestamp  object \ndtypes: float64(2), int64(1), object(3)\nmemory usage: 915.6+ MB\nNone\n*************** Types of Columns ***************\nmovieId        int64\ntitle         object\ngenres        object\nuserId       float64\nrating       float64\ntimestamp     object\ndtype: object\n*************** First 5 Rows ***************\n   movieId             title                                       genres  \\\n0        1  Toy Story (1995)  Adventure|Animation|Children|Comedy|Fantasy   \n1        1  Toy Story (1995)  Adventure|Animation|Children|Comedy|Fantasy   \n2        1  Toy Story (1995)  Adventure|Animation|Children|Comedy|Fantasy   \n3        1  Toy Story (1995)  Adventure|Animation|Children|Comedy|Fantasy   \n4        1  Toy Story (1995)  Adventure|Animation|Children|Comedy|Fantasy   \n\n   userId  rating            timestamp  \n0     3.0     4.0  1999-12-11 13:36:47  \n1     6.0     5.0  1997-03-13 17:50:52  \n2     8.0     4.0  1996-06-05 13:37:51  \n3    10.0     4.0  1999-11-25 02:44:47  \n4    11.0     4.5  2009-01-02 01:13:41  \n*************** Last 5 Rows ***************\n          movieId                          title                    genres  \\\n20000792   131254   Kein Bund für's Leben (2007)                    Comedy   \n20000793   131256  Feuer, Eis & Dosenbier (2002)                    Comedy   \n20000794   131258             The Pirates (2014)                 Adventure   \n20000795   131260            Rentun Ruusu (2001)        (no genres listed)   \n20000796   131262               Innocence (2014)  Adventure|Fantasy|Horror   \n\n            userId  rating            timestamp  \n20000792   79570.0     4.0  2015-03-30 19:32:59  \n20000793   79570.0     4.0  2015-03-30 19:48:08  \n20000794   28906.0     2.5  2015-03-30 19:56:32  \n20000795   65409.0     3.0  2015-03-30 19:57:46  \n20000796  133047.0     4.0  2015-03-30 20:39:26  \n*************** Summary Statistics of The Dataset ***************\n              count          mean           std  min      10%      25%  \\\nmovieId  20000797.0   9044.349230  19796.714278  1.0    296.0    902.0   \nuserId   20000263.0  69045.872583  40038.626653  1.0  13568.0  34395.0   \nrating   20000263.0      3.525529      1.051989  0.5      2.0      3.0   \n\n             50%      70%       80%       90%       95%       99%       max  \nmovieId   2167.0   3952.0    5872.0   33794.0   59118.0   94204.0  131262.0  \nuserId   69141.0  96703.0  110725.0  124479.0  131467.0  137061.0  138493.0  \nrating       3.5      4.0       4.5       5.0       5.0       5.0       5.0  \n*************** Dataset Missing Values Analysis ***************\n           Total Missing Values  Ratio\nuserId                      534    0.0\nrating                      534    0.0\ntimestamp                   534    0.0\n",
          "output_type": "stream"
        }
      ]
    },
    {
      "cell_type": "markdown",
      "source": "# 2. let's filter low rated movies and create new dataframe",
      "metadata": {}
    },
    {
      "cell_type": "code",
      "source": "def create_user_movie_df(dataframe):\n    comment_counts = pd.DataFrame(dataframe[\"title\"].value_counts())\n    rare_movies = comment_counts[comment_counts[\"count\"] <= 1000].index\n    common_movies = dataframe[~dataframe[\"title\"].isin(rare_movies)]\n    user_movie_df = common_movies.pivot_table(index=[\"userId\"], columns=[\"title\"], values=\"rating\")\n    return user_movie_df\n\nuser_movie_df = create_user_movie_df(df)",
      "metadata": {
        "execution": {
          "iopub.status.busy": "2023-10-30T11:03:30.304487Z",
          "iopub.execute_input": "2023-10-30T11:03:30.304873Z",
          "iopub.status.idle": "2023-10-30T11:04:19.000759Z",
          "shell.execute_reply.started": "2023-10-30T11:03:30.304845Z",
          "shell.execute_reply": "2023-10-30T11:04:18.996994Z"
        },
        "trusted": true
      },
      "execution_count": 13,
      "outputs": []
    },
    {
      "cell_type": "markdown",
      "source": "# 3. create an item based recommender using correlation on movies",
      "metadata": {}
    },
    {
      "cell_type": "code",
      "source": "def item_based_recommender(movie_name, user_movie_df):\n    movie_name = user_movie_df[movie_name]\n    return user_movie_df.corrwith(movie_name).sort_values(ascending=False).head(10)\n\nitem_based_recommender(\"Matrix, The (1999)\", user_movie_df) # test function with a movie name",
      "metadata": {
        "execution": {
          "iopub.status.busy": "2023-10-30T11:05:52.720707Z",
          "iopub.execute_input": "2023-10-30T11:05:52.721215Z",
          "iopub.status.idle": "2023-10-30T11:05:56.102842Z",
          "shell.execute_reply.started": "2023-10-30T11:05:52.721175Z",
          "shell.execute_reply": "2023-10-30T11:05:56.101241Z"
        },
        "trusted": true
      },
      "execution_count": 14,
      "outputs": [
        {
          "execution_count": 14,
          "output_type": "execute_result",
          "data": {
            "text/plain": "title\nMatrix, The (1999)                                           1.000000\nMatrix Reloaded, The (2003)                                  0.516906\nMatrix Revolutions, The (2003)                               0.449588\nAnimatrix, The (2003)                                        0.367151\nBlade (1998)                                                 0.334493\nTerminator 2: Judgment Day (1991)                            0.333882\nMinority Report (2002)                                       0.332434\nEdge of Tomorrow (2014)                                      0.326762\nMission: Impossible (1996)                                   0.320815\nLord of the Rings: The Fellowship of the Ring, The (2001)    0.318726\ndtype: float64"
          },
          "metadata": {}
        }
      ]
    },
    {
      "cell_type": "code",
      "source": "movie_name = pd.Series(user_movie_df.columns).sample(1).values[0] # get a sample movie to send item_based_recommender func\nitem_based_recommender(movie_name, user_movie_df)",
      "metadata": {
        "execution": {
          "iopub.status.busy": "2023-10-30T11:06:53.537506Z",
          "iopub.execute_input": "2023-10-30T11:06:53.537933Z",
          "iopub.status.idle": "2023-10-30T11:06:55.777236Z",
          "shell.execute_reply.started": "2023-10-30T11:06:53.537897Z",
          "shell.execute_reply": "2023-10-30T11:06:55.776066Z"
        },
        "trusted": true
      },
      "execution_count": 17,
      "outputs": [
        {
          "execution_count": 17,
          "output_type": "execute_result",
          "data": {
            "text/plain": "title\nMan Bites Dog (C'est arrivé près de chez vous) (1992)    1.000000\nBlack Cat, White Cat (Crna macka, beli macor) (1998)     0.634521\nBridge Too Far, A (1977)                                 0.582884\nFarinelli: il castrato (1994)                            0.545283\nBurnt by the Sun (Utomlyonnye solntsem) (1994)           0.543254\nInside Job (2010)                                        0.521777\nGreen Street Hooligans (a.k.a. Hooligans) (2005)         0.511026\nSanjuro (Tsubaki Sanjûrô) (1962)                         0.506479\nOld Man and the Sea, The (1958)                          0.503566\nFrench Twist (Gazon maudit) (1995)                       0.494804\ndtype: float64"
          },
          "metadata": {}
        }
      ]
    }
  ]
}
