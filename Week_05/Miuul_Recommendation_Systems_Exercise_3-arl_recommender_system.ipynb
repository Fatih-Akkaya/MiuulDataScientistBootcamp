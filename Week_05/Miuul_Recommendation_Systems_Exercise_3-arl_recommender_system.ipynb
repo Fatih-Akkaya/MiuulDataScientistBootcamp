{
  "metadata": {
    "kernelspec": {
      "language": "python",
      "display_name": "Python 3",
      "name": "python3"
    },
    "language_info": {
      "name": "python",
      "version": "3.10.12",
      "mimetype": "text/x-python",
      "codemirror_mode": {
        "name": "ipython",
        "version": 3
      },
      "pygments_lexer": "ipython3",
      "nbconvert_exporter": "python",
      "file_extension": ".py"
    }
  },
  "nbformat_minor": 4,
  "nbformat": 4,
  "cells": [
    {
      "cell_type": "markdown",
      "source": "# Association Rule Based Recommender System\n\n**İş Problemi**\n\n> Aşağıda 3 farklı kullanıcının sepet bilgileri verilmiştir.\n> Bu sepet bilgilerine en uygun ürün önerisini birliktelik kuralı kullanarak yapınız. Ürün önerileri 1 tane ya da 1'den fazla olabilir.\n> Karar kurallarını 2010-2011 Germany müşterileri üzerinden türetiniz.\n> * Kullanıcı 1’in sepetinde bulunan ürünün id'si: 21987\n> * Kullanıcı 2’in sepetinde bulunan ürünün id'si : 23235\n> * Kullanıcı 3’in sepetinde bulunan ürünün id'si : 22747\n\n*Veri Seti Hikayesi*\n\nOnline Retail II isimli veri seti İngiltere merkezli bir perakende şirketinin 01/12/2009 - 09/12/2011 tarihleri arasındaki online satış işlemlerini içeriyor.\nŞirketin ürün kataloğunda hediyelik eşyalar yer almaktadır ve çoğu müşterisinin toptancı olduğu bilgisi mevcuttur.\n\n8 Değişken, 541.909 Gözlem, 45.6MB\n\n* InvoiceNo: Fatura Numarası ( Eğer bu kod C ile başlıyorsa işlemin iptal edildiğini ifade eder )\n* StockCode: Ürün kodu ( Her bir ürün için eşsiz )\n* Description: Ürün ismi\n* Quantity: Ürün adedi ( Faturalardaki ürünlerden kaçar tane satıldığı)\n* InvoiceDate: Fatura tarihi\n* UnitPrice: Fatura fiyatı ( Sterlin )\n* CustomerID: Eşsiz müşteri numarası\n* Country: Ülke ismi",
      "metadata": {}
    },
    {
      "cell_type": "markdown",
      "source": "# Görev 1: Veriyi Hazırlama",
      "metadata": {}
    },
    {
      "cell_type": "code",
      "source": "# Adım 1: Online Retail II veri setinden 2010-2011 sheet’ini okutunuz.\n# !pip install mlxtend\nimport numpy as np # linear algebra\nimport pandas as pd # data processing, CSV file I/O (e.g. pd.read_csv)\n\npd.set_option('display.max_columns', None)\npd.set_option('display.max_rows', None)\npd.set_option('display.width', 500)\npd.set_option('display.expand_frame_repr', False)\nfrom mlxtend.frequent_patterns import apriori, association_rules\n\n# Data pre-prcessing\n\ndef missing_values_analysis(data):\n    na_columns = [col for col in data.columns if data[col].isnull().sum() > 0]\n    n_miss = data[na_columns].isnull().sum().sort_values(ascending=True)\n    ratio = (data[na_columns].isnull().sum() / data.shape[0] * 100).sort_values(ascending=True)\n    missing_df = pd.concat([n_miss, np.round(ratio, 2)], axis=1, keys=['Total Missing Values', 'Ratio'])\n    missing_df = pd.DataFrame(missing_df)\n    return missing_df\n\ndef check_df(data, row_num=5, col_num=10):\n    print(\"*************** Dataset Shape ***************\")\n    print(\"No. of Rows:\", data.shape[0], \"\\nNo. of Columns:\", data.shape[1])\n    print(\"*************** Dataset Information ***************\")\n    print(data.info())\n    print(\"*************** Types of Columns ***************\")\n    print(data.dtypes)\n    print(f\"*************** First {row_num} Rows ***************\")\n    print(data.iloc[:row_num,:col_num])\n    print(f\"*************** Last {row_num} Rows ***************\")\n    print(data.iloc[-row_num:,:col_num])\n    print(\"*************** Summary Statistics of The Dataset ***************\")\n    print(data.describe([0.10, 0.25, 0.50, 0.70, 0.80, 0.90, 0.95, 0.99]).T)\n    print(\"*************** Dataset Missing Values Analysis ***************\")\n    print(missing_values_analysis(data))\n\n\n\n\ndf_ = pd.read_csv(\"/kaggle/input/online-retail/Online_Retail.csv\")\ndf_ = df_.astype({'InvoiceNo':'string'})\ndf_ = df_.astype({'StockCode':'string'})\ndf_ = df_.astype({'Description':'string'})\ndf_ = df_.astype({'Country':'string'})\ndf = df_.copy()\ncheck_df(df)",
      "metadata": {
        "execution": {
          "iopub.status.busy": "2023-11-02T20:04:39.373935Z",
          "iopub.execute_input": "2023-11-02T20:04:39.374429Z",
          "iopub.status.idle": "2023-11-02T20:04:40.829651Z",
          "shell.execute_reply.started": "2023-11-02T20:04:39.374389Z",
          "shell.execute_reply": "2023-11-02T20:04:40.828280Z"
        },
        "trusted": true
      },
      "execution_count": 1,
      "outputs": [
        {
          "name": "stdout",
          "text": "*************** Dataset Shape ***************\nNo. of Rows: 541909 \nNo. of Columns: 8\n*************** Dataset Information ***************\n<class 'pandas.core.frame.DataFrame'>\nRangeIndex: 541909 entries, 0 to 541908\nData columns (total 8 columns):\n #   Column       Non-Null Count   Dtype  \n---  ------       --------------   -----  \n 0   InvoiceNo    541909 non-null  string \n 1   StockCode    541909 non-null  string \n 2   Description  540455 non-null  string \n 3   Quantity     541909 non-null  int64  \n 4   InvoiceDate  541909 non-null  object \n 5   UnitPrice    541909 non-null  float64\n 6   CustomerID   406829 non-null  float64\n 7   Country      541909 non-null  string \ndtypes: float64(2), int64(1), object(1), string(4)\nmemory usage: 33.1+ MB\nNone\n*************** Types of Columns ***************\nInvoiceNo      string[python]\nStockCode      string[python]\nDescription    string[python]\nQuantity                int64\nInvoiceDate            object\nUnitPrice             float64\nCustomerID            float64\nCountry        string[python]\ndtype: object\n*************** First 5 Rows ***************\n  InvoiceNo StockCode                          Description  Quantity          InvoiceDate  UnitPrice  CustomerID         Country\n0    536365    85123A   WHITE HANGING HEART T-LIGHT HOLDER         6  2010-12-01 08:26:00       2.55     17850.0  United Kingdom\n1    536365     71053                  WHITE METAL LANTERN         6  2010-12-01 08:26:00       3.39     17850.0  United Kingdom\n2    536365    84406B       CREAM CUPID HEARTS COAT HANGER         8  2010-12-01 08:26:00       2.75     17850.0  United Kingdom\n3    536365    84029G  KNITTED UNION FLAG HOT WATER BOTTLE         6  2010-12-01 08:26:00       3.39     17850.0  United Kingdom\n4    536365    84029E       RED WOOLLY HOTTIE WHITE HEART.         6  2010-12-01 08:26:00       3.39     17850.0  United Kingdom\n*************** Last 5 Rows ***************\n       InvoiceNo StockCode                      Description  Quantity          InvoiceDate  UnitPrice  CustomerID Country\n541904    581587     22613      PACK OF 20 SPACEBOY NAPKINS        12  2011-12-09 12:50:00       0.85     12680.0  France\n541905    581587     22899     CHILDREN'S APRON DOLLY GIRL          6  2011-12-09 12:50:00       2.10     12680.0  France\n541906    581587     23254    CHILDRENS CUTLERY DOLLY GIRL          4  2011-12-09 12:50:00       4.15     12680.0  France\n541907    581587     23255  CHILDRENS CUTLERY CIRCUS PARADE         4  2011-12-09 12:50:00       4.15     12680.0  France\n541908    581587     22138    BAKING SET 9 PIECE RETROSPOT          3  2011-12-09 12:50:00       4.95     12680.0  France\n*************** Summary Statistics of The Dataset ***************\n               count          mean          std       min       10%       25%       50%       70%       80%       90%       95%      99%      max\nQuantity    541909.0      9.552250   218.081158 -80995.00      1.00      1.00      3.00      8.00     12.00     24.00     29.00    100.0  80995.0\nUnitPrice   541909.0      4.611114    96.759853 -11062.06      0.63      1.25      2.08      3.75      4.95      7.95      9.95     18.0  38970.0\nCustomerID  406829.0  15287.690570  1713.600303  12346.00  12876.00  13953.00  15152.00  16493.00  17095.00  17719.00  17905.00  18212.0  18287.0\n*************** Dataset Missing Values Analysis ***************\n             Total Missing Values  Ratio\nDescription                  1454   0.27\nCustomerID                 135080  24.93\n",
          "output_type": "stream"
        }
      ]
    },
    {
      "cell_type": "code",
      "source": "#Data cleaning\n\ndef outlier_thresholds(dataframe, variable):\n    quartile1 = dataframe[variable].quantile(0.01)\n    quartile3 = dataframe[variable].quantile(0.99)\n    interquantile_range = quartile3 - quartile1\n    up_limit = quartile3 + 1.5 * interquantile_range\n    low_limit = quartile1 - 1.5 * interquantile_range\n    return low_limit, up_limit\n\ndef replace_with_thresholds(dataframe, variable):\n    low_limit, up_limit = outlier_thresholds(dataframe, variable)\n    dataframe.loc[(dataframe[variable] < low_limit), variable] = low_limit\n    dataframe.loc[(dataframe[variable] > up_limit), variable] = up_limit\n\ndef retail_data_prep(dataframe):\n    # Adım 2: StockCode’u POST olan gözlem birimlerini drop ediniz. (POST her faturaya eklenen bedel, ürünü ifade etmemektedir.)\n    drop_list = df[df['StockCode'] == 'POST'].index\n    # Adım 3: Boş değer içeren gözlem birimlerini drop ediniz.\n    df.drop(drop_list, inplace = True) \n    dataframe.dropna(inplace=True)\n    # Adım 4: Invoice içerisinde C bulunan değerleri veri setinden çıkarınız. (C faturanın iptalini ifade etmektedir.)\n    dataframe = dataframe[~dataframe[\"InvoiceNo\"].str.contains(\"C\", na=False)]\n    # Adım 5: Price değeri sıfırdan küçük olan gözlem birimlerini filtreleyiniz.\n    dataframe = dataframe[dataframe[\"Quantity\"] > 0]\n    dataframe = dataframe[dataframe[\"UnitPrice\"] > 0]\n    # Adım 6: Price ve Quantity değişkenlerinin aykırı değerlerini inceleyiniz, gerekirse baskılayınız.\n    replace_with_thresholds(dataframe, \"Quantity\")\n    replace_with_thresholds(dataframe, \"UnitPrice\")\n    return dataframe\n\ndf = retail_data_prep(df)",
      "metadata": {
        "execution": {
          "iopub.status.busy": "2023-11-02T20:08:49.837312Z",
          "iopub.execute_input": "2023-11-02T20:08:49.837680Z",
          "iopub.status.idle": "2023-11-02T20:08:50.435966Z",
          "shell.execute_reply.started": "2023-11-02T20:08:49.837652Z",
          "shell.execute_reply": "2023-11-02T20:08:50.435095Z"
        },
        "trusted": true
      },
      "execution_count": 3,
      "outputs": []
    },
    {
      "cell_type": "markdown",
      "source": "# Görev 2:  Alman Müşteriler Üzerinden Birliktelik Kuralları Üretme",
      "metadata": {}
    },
    {
      "cell_type": "code",
      "source": "# Adım 1: Aşağıdaki gibi fatura ürün pivot table’i oluşturacak create_invoice_product_df fonksiyonunu tanımlayınız.\n# Description | NINE DRAWER OFFICE TIDY | SET 2 TEA TOWELS I LOVE LONDON | SPACEBOY BABY GIFT SET…\n# Invoice\n# 536370                  0                              1                               0\n# 536852                  1                              0                               1\n# 536974                  0                              0                               0\n# 537065                  1                              0                               0\n# 537463                  0                              0                               1\n\n# Preparing ARL Data Structures (Invoice - Product matrix)\nde_df = df[df['Country'] == \"Germany\"]\n\ndef create_invoice_product_df(dataframe, id=False):\n    if id:\n        return dataframe.groupby(['InvoiceNo', \"StockCode\"])['Quantity'].sum().unstack().fillna(False). \\\n            applymap(lambda x: True if x > 0 else False)\n    else:\n        return dataframe.groupby(['InvoiceNo', 'Description'])['Quantity'].sum().unstack().fillna(0). \\\n            applymap(lambda x: True if x > 0 else False)\n\nde_inv_pro_df = create_invoice_product_df(de_df)\nde_inv_pro_df.iloc[0:5, 0:5]\n",
      "metadata": {
        "execution": {
          "iopub.status.busy": "2023-11-02T20:19:22.947688Z",
          "iopub.execute_input": "2023-11-02T20:19:22.948032Z",
          "iopub.status.idle": "2023-11-02T20:19:23.392213Z",
          "shell.execute_reply.started": "2023-11-02T20:19:22.948004Z",
          "shell.execute_reply": "2023-11-02T20:19:23.391269Z"
        },
        "trusted": true
      },
      "execution_count": 5,
      "outputs": [
        {
          "execution_count": 5,
          "output_type": "execute_result",
          "data": {
            "text/plain": "Description  50'S CHRISTMAS GIFT BAG LARGE    DOLLY GIRL BEAKER                I LOVE LONDON MINI BACKPACK      RED SPOT GIFT BAG LARGE          SET 2 TEA TOWELS I LOVE LONDON \nInvoiceNo                                                                                                                                                                       \n536527                                 False                            False                            False                            False                            False\n536840                                 False                            False                            False                            False                            False\n536861                                 False                            False                            False                            False                            False\n536967                                 False                            False                            False                            False                            False\n536983                                 False                            False                            False                            False                            False",
            "text/html": "<div>\n<style scoped>\n    .dataframe tbody tr th:only-of-type {\n        vertical-align: middle;\n    }\n\n    .dataframe tbody tr th {\n        vertical-align: top;\n    }\n\n    .dataframe thead th {\n        text-align: right;\n    }\n</style>\n<table border=\"1\" class=\"dataframe\">\n  <thead>\n    <tr style=\"text-align: right;\">\n      <th>Description</th>\n      <th>50'S CHRISTMAS GIFT BAG LARGE</th>\n      <th>DOLLY GIRL BEAKER</th>\n      <th>I LOVE LONDON MINI BACKPACK</th>\n      <th>RED SPOT GIFT BAG LARGE</th>\n      <th>SET 2 TEA TOWELS I LOVE LONDON</th>\n    </tr>\n    <tr>\n      <th>InvoiceNo</th>\n      <th></th>\n      <th></th>\n      <th></th>\n      <th></th>\n      <th></th>\n    </tr>\n  </thead>\n  <tbody>\n    <tr>\n      <th>536527</th>\n      <td>False</td>\n      <td>False</td>\n      <td>False</td>\n      <td>False</td>\n      <td>False</td>\n    </tr>\n    <tr>\n      <th>536840</th>\n      <td>False</td>\n      <td>False</td>\n      <td>False</td>\n      <td>False</td>\n      <td>False</td>\n    </tr>\n    <tr>\n      <th>536861</th>\n      <td>False</td>\n      <td>False</td>\n      <td>False</td>\n      <td>False</td>\n      <td>False</td>\n    </tr>\n    <tr>\n      <th>536967</th>\n      <td>False</td>\n      <td>False</td>\n      <td>False</td>\n      <td>False</td>\n      <td>False</td>\n    </tr>\n    <tr>\n      <th>536983</th>\n      <td>False</td>\n      <td>False</td>\n      <td>False</td>\n      <td>False</td>\n      <td>False</td>\n    </tr>\n  </tbody>\n</table>\n</div>"
          },
          "metadata": {}
        }
      ]
    },
    {
      "cell_type": "code",
      "source": "def check_id(dataframe, stock_code):\n    product_name = dataframe[dataframe[\"StockCode\"] == stock_code][[\"Description\"]].values[0].tolist()\n    print(product_name)\n\n\ncheck_id(df, '10002')\ncheck_id(df, '10120')",
      "metadata": {
        "execution": {
          "iopub.status.busy": "2023-11-02T20:21:59.892381Z",
          "iopub.execute_input": "2023-11-02T20:21:59.892733Z",
          "iopub.status.idle": "2023-11-02T20:21:59.953192Z",
          "shell.execute_reply.started": "2023-11-02T20:21:59.892704Z",
          "shell.execute_reply": "2023-11-02T20:21:59.952225Z"
        },
        "trusted": true
      },
      "execution_count": 7,
      "outputs": [
        {
          "name": "stdout",
          "text": "['INFLATABLE POLITICAL GLOBE ']\n['DOGGY RUBBER']\n",
          "output_type": "stream"
        }
      ]
    },
    {
      "cell_type": "code",
      "source": "def create_rules(dataframe, id=True, country=\"Germany\"):\n    dataframe = dataframe[dataframe['Country'] == country]\n    dataframe = create_invoice_product_df(dataframe, id)\n    frequent_itemsets = apriori(dataframe, min_support=0.01, use_colnames=True)\n    rules = association_rules(frequent_itemsets, metric=\"support\", min_threshold=0.01)\n    return rules\n\ndf = df_.copy()\n\ndf = retail_data_prep(df)\nrules = create_rules(df)",
      "metadata": {
        "execution": {
          "iopub.status.busy": "2023-11-02T20:22:25.503636Z",
          "iopub.execute_input": "2023-11-02T20:22:25.503987Z",
          "iopub.status.idle": "2023-11-02T20:22:27.567145Z",
          "shell.execute_reply.started": "2023-11-02T20:22:25.503959Z",
          "shell.execute_reply": "2023-11-02T20:22:27.566242Z"
        },
        "trusted": true
      },
      "execution_count": 8,
      "outputs": []
    },
    {
      "cell_type": "markdown",
      "source": "# Görev 3: Sepet İçerisindeki Ürün Id’leri Verilen Kullanıcılara Ürün Önerisinde Bulunma",
      "metadata": {}
    },
    {
      "cell_type": "code",
      "source": "def arl_recommender(rules_df, product_id, rec_count=1):\n    sorted_rules = rules_df.sort_values(\"lift\", ascending=False)\n    recommendation_list = []\n    for i, product in enumerate(sorted_rules[\"antecedents\"]):\n        for j in list(product):\n            if j == product_id:\n                recommendation_list.append(list(sorted_rules.iloc[i][\"consequents\"])[0])\n\n    return recommendation_list[0:rec_count]\n\nprint(arl_recommender(rules, '21987', 1))\nprint(arl_recommender(rules, '23235', 2))\nprint(arl_recommender(rules, '22747', 3))",
      "metadata": {
        "execution": {
          "iopub.status.busy": "2023-11-02T20:26:04.904117Z",
          "iopub.execute_input": "2023-11-02T20:26:04.904440Z",
          "iopub.status.idle": "2023-11-02T20:26:04.979469Z",
          "shell.execute_reply.started": "2023-11-02T20:26:04.904414Z",
          "shell.execute_reply": "2023-11-02T20:26:04.978154Z"
        },
        "trusted": true
      },
      "execution_count": 9,
      "outputs": [
        {
          "name": "stdout",
          "text": "['21086']\n['23245', '23243']\n['22748', '22746', '22746']\n",
          "output_type": "stream"
        }
      ]
    }
  ]
}
