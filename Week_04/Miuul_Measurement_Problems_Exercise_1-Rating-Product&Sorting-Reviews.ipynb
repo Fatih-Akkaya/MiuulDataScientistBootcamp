{
  "nbformat": 4,
  "nbformat_minor": 0,
  "metadata": {
    "colab": {
      "provenance": []
    },
    "kernelspec": {
      "name": "python3",
      "display_name": "Python 3"
    },
    "language_info": {
      "name": "python"
    }
  },
  "cells": [
    {
      "cell_type": "markdown",
      "source": [
        "# PROJE: Rating Product & Sorting Reviews in Amazon\n",
        "\n",
        "**İş Problemi**\n",
        "\n",
        "\n",
        "E-ticaretteki en önemli problemlerden bir tanesi ürünlere satış sonrası verilen puanların doğru şekilde hesaplanmasıdır.\n",
        "Bu problemin çözümü e-ticaret sitesi için daha fazla müşteri memnuniyeti sağlamak, satıcılar için ürünün öne çıkması ve satın\n",
        "alanlar için sorunsuz bir alışveriş deneyimi demektir. Bir diğer problem ise ürünlere verilen yorumların doğru bir şekilde sıralanması\n",
        "olarak karşımıza çıkmaktadır. Yanıltıcı yorumların öne çıkması ürünün satışını doğrudan etkileyeceğinden dolayı hem maddi kayıp\n",
        "hem de müşteri kaybına neden olacaktır. Bu 2 temel problemin çözümünde e-ticaret sitesi ve satıcılar satışlarını arttırırken müşteriler\n",
        "ise satın alma yolculuğunu sorunsuz olarak tamamlayacaktır.\n",
        "\n",
        "*Veri Seti Hikayesi*\n",
        "\n",
        "Amazon ürün verilerini içeren bu veri seti ürün kategorileri ile çeşitli metadataları içermektedir.\n",
        "Elektronik kategorisindeki en fazla yorum alan ürünün kullanıcı puanları ve yorumları vardır.\n",
        "\n",
        "- Değişkenler:\n",
        "- reviewerID: Kullanıcı ID’si\n",
        "- asin: Ürün ID’si\n",
        "- reviewerName: Kullanıcı Adı\n",
        "- helpful: Faydalı değerlendirme derecesi\n",
        "- reviewText: Değerlendirme\n",
        "- overall: Ürün rating’i\n",
        "- summary: Değerlendirme özeti\n",
        "- unixReviewTime: Değerlendirme zamanı\n",
        "- reviewTime: Değerlendirme zamanı Raw\n",
        "- day_diff: Değerlendirmeden itibaren geçen gün sayısı\n",
        "- helpful_yes: Değerlendirmenin faydalı bulunma sayısı\n",
        "- total_vote: Değerlendirmeye verilen oy sayısı"
      ],
      "metadata": {
        "id": "zSjF40sO0CHt"
      }
    },
    {
      "cell_type": "markdown",
      "source": [
        "**GÖREV 1: Average Rating'i Güncel Yorumlara Göre Hesaplayınız ve Var Olan Average Rating ile Kıyaslayınız.**\n",
        "\n",
        "- Paylaşılan veri setinde kullanıcılar bir ürüne puanlar vermiş ve yorumlar yapmıştır.\n",
        "- Bu görevde amacımız verilen puanları tarihe göre ağırlıklandırarak değerlendirmek.\n",
        "- İlk ortalama puan ile elde edilecek tarihe göre ağırlıklı puanın karşılaştırılması gerekmektedir.\n"
      ],
      "metadata": {
        "id": "gaoHCXuE0nif"
      }
    },
    {
      "cell_type": "code",
      "execution_count": null,
      "metadata": {
        "id": "-Xb0e_ZHzp0k"
      },
      "outputs": [],
      "source": [
        "\n",
        "###################################################\n",
        "# Adım 1: Veri Setini Okutunuz ve Ürünün Ortalama Puanını Hesaplayınız.\n",
        "###################################################\n",
        "import pandas as pd\n",
        "import math\n",
        "import scipy.stats as st\n",
        "from sklearn.preprocessing import MinMaxScaler\n",
        "\n",
        "pd.set_option('display.max_columns', None)\n",
        "pd.set_option('display.max_rows', None)\n",
        "pd.set_option('display.width', 500)\n",
        "pd.set_option('display.expand_frame_repr', False)\n",
        "pd.set_option('display.float_format', lambda x: '%.5f' % x)\n",
        "\n",
        "df = pd.read_csv(\"src/measurement_problems/Rating Product&SortingReviewsinAmazon/amazon_review.csv\")\n",
        "df.shape\n",
        "df.head(10)\n",
        "df.isnull().sum()\n",
        "\n",
        "df.groupby(\"asin\").agg({\"overall\": [\"count\", \"mean\"]})\n"
      ]
    },
    {
      "cell_type": "code",
      "source": [
        "###################################################\n",
        "# Adım 2: Tarihe Göre Ağırlıklı Puan Ortalamasını Hesaplayınız.\n",
        "###################################################\n",
        "df[\"day_diff\"].quantile([.25, .5, .75])\n",
        "\n",
        "df.loc[df[\"day_diff\"] <= 280, \"overall\"].mean()\n",
        "\n",
        "df.loc[(df[\"day_diff\"] > 280) & (df[\"day_diff\"] <= 430), \"overall\"].mean()\n",
        "\n",
        "df.loc[(df[\"day_diff\"] > 430) & (df[\"day_diff\"] <= 600), \"overall\"].mean()\n",
        "\n",
        "df.loc[(df[\"day_diff\"] > 600), \"overall\"].mean()\n",
        "\n",
        "def time_based_weighted_average(dataframe, w1=28, w2=26, w3=24, w4=22):\n",
        "    return dataframe.loc[df[\"day_diff\"] <= 280, \"overall\"].mean() * w1 / 100 + \\\n",
        "           dataframe.loc[(dataframe[\"day_diff\"] > 280) & (dataframe[\"day_diff\"] <= 430), \"overall\"].mean() * w2 / 100 + \\\n",
        "           dataframe.loc[(dataframe[\"day_diff\"] > 430) & (dataframe[\"day_diff\"] <= 600), \"overall\"].mean() * w3 / 100 + \\\n",
        "           dataframe.loc[(dataframe[\"day_diff\"] > 600), \"overall\"].mean() * w4 / 100\n",
        "\n",
        "time_based_weighted_average(df)\n"
      ],
      "metadata": {
        "id": "lag09rJM0esG"
      },
      "execution_count": null,
      "outputs": []
    },
    {
      "cell_type": "markdown",
      "source": [
        "**Görev 2: Ürün için Ürün Detay Sayfasında Görüntülenecek 20 Review'i Belirleyiniz.**"
      ],
      "metadata": {
        "id": "AG4bhY3J0kYm"
      }
    },
    {
      "cell_type": "code",
      "source": [
        "###################################################\n",
        "# Adım 1. helpful_no Değişkenini Üretiniz\n",
        "###################################################\n",
        "\n",
        "# Not:\n",
        "# total_vote bir yoruma verilen toplam up-down sayısıdır.\n",
        "# up, helpful demektir.\n",
        "# veri setinde helpful_no değişkeni yoktur, var olan değişkenler üzerinden üretilmesi gerekmektedir.\n",
        "\n",
        "df[\"helpful_no\"] = df[\"total_vote\"] - df[\"helpful_yes\"]\n",
        "df.head(10)\n"
      ],
      "metadata": {
        "id": "6tCxeQWW1JIF"
      },
      "execution_count": null,
      "outputs": []
    },
    {
      "cell_type": "code",
      "source": [
        "###################################################\n",
        "# Adım 2. score_pos_neg_diff, score_average_rating ve wilson_lower_bound Skorlarını Hesaplayıp Veriye Ekleyiniz\n",
        "###################################################\n",
        "def score_up_down_diff(up, down):\n",
        "    return up - down\n",
        "\n",
        "def score_average_rating(up, down):\n",
        "    if up + down == 0:\n",
        "        return 0\n",
        "    return up / (up + down)\n",
        "\n",
        "def wilson_lower_bound(up, down, confidence=0.95):\n",
        "    \"\"\"\n",
        "    Wilson Lower Bound Score hesapla\n",
        "\n",
        "    - Bernoulli parametresi p için hesaplanacak güven aralığının alt sınırı WLB skoru olarak kabul edilir.\n",
        "    - Hesaplanacak skor ürün sıralaması için kullanılır.\n",
        "    - Not:\n",
        "    Eğer skorlar 1-5 arasıdaysa 1-3 negatif, 4-5 pozitif olarak işaretlenir ve bernoulli'ye uygun hale getirilebilir.\n",
        "    Bu beraberinde bazı problemleri de getirir. Bu sebeple bayesian average rating yapmak gerekir.\n",
        "\n",
        "    Parameters\n",
        "    ----------\n",
        "    up: int\n",
        "        up count\n",
        "    down: int\n",
        "        down count\n",
        "    confidence: float\n",
        "        confidence\n",
        "\n",
        "    Returns\n",
        "    -------\n",
        "    wilson score: float\n",
        "\n",
        "    \"\"\"\n",
        "    n = up + down\n",
        "    if n == 0:\n",
        "        return 0\n",
        "    z = st.norm.ppf(1 - (1 - confidence) / 2)\n",
        "    phat = 1.0 * up / n\n",
        "    return (phat + z * z / (2 * n) - z * math.sqrt((phat * (1 - phat) + z * z / (4 * n)) / n)) / (1 + z * z / n)\n",
        "\n",
        "# score_pos_neg_diff\n",
        "df[\"score_pos_neg_diff\"] = df.apply(lambda x: score_up_down_diff(x[\"helpful_yes\"], x[\"helpful_no\"]), axis=1)\n",
        "\n",
        "# score_average_rating\n",
        "df[\"score_average_rating\"] = df.apply(lambda x: score_average_rating(x[\"helpful_yes\"], x[\"helpful_no\"]), axis=1)\n",
        "\n",
        "# wilson_lower_bound\n",
        "df[\"wilson_lower_bound\"] = df.apply(lambda x: wilson_lower_bound(x[\"helpful_yes\"], x[\"helpful_no\"]), axis=1)\n"
      ],
      "metadata": {
        "id": "XvhwJFpp1Mbl"
      },
      "execution_count": null,
      "outputs": []
    },
    {
      "cell_type": "code",
      "source": [
        "\n",
        "\n",
        "##################################################\n",
        "# Adım 3. 20 Yorumu Belirleyiniz ve Sonuçları Yorumlayınız.\n",
        "###################################################\n",
        "\n",
        "df.sort_values(\"wilson_lower_bound\", ascending=False).head(20)\n",
        "\n",
        "# WLB daha fazla sayıda değelendirme sayısının daha güvenilir olduğu ilkesiyle ortalamayı daha iyi yansıttığını değerlendiriyorum.\n",
        "# ortalaması 1 olup 7 oy almış bir ürünün 2020 oy almış bir üründen iyi olduğu fikrine kapılak yanlış olur."
      ],
      "metadata": {
        "id": "VGFPa6pP1QGN"
      },
      "execution_count": null,
      "outputs": []
    }
  ]
}
